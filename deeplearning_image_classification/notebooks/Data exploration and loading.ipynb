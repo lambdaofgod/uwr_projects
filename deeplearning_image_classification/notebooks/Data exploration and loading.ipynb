{
 "cells": [
  {
   "cell_type": "code",
   "execution_count": 1,
   "metadata": {},
   "outputs": [],
   "source": [
    "#default_exp data_loading"
   ]
  },
  {
   "cell_type": "code",
   "execution_count": 2,
   "metadata": {},
   "outputs": [],
   "source": [
    "# export\n",
    "import pandas as pd\n",
    "import os\n",
    "import matplotlib.pyplot as plt\n",
    "\n",
    "import tensorflow as tf\n",
    "from tensorflow import keras\n",
    "from sklearn import model_selection\n",
    "import tqdm\n",
    "import PIL\n",
    "import numpy as np"
   ]
  },
  {
   "cell_type": "code",
   "execution_count": 3,
   "metadata": {},
   "outputs": [
    {
     "name": "stdout",
     "output_type": "stream",
     "text": [
      "/home/kuba/Projects/deeplearning_image_classification\n"
     ]
    }
   ],
   "source": [
    "%matplotlib inline\n",
    "%cd .."
   ]
  },
  {
   "cell_type": "code",
   "execution_count": 4,
   "metadata": {},
   "outputs": [],
   "source": [
    "# export\n",
    "def map_class_to_taxon(mapping, class_id, taxon='Family'):\n",
    "    return mapping.loc[class_id][taxon]\n",
    "\n",
    "\n",
    "def parse_image(filename, image_size=224):\n",
    "    image = tf.io.read_file(filename)\n",
    "    image = tf.image.decode_jpeg(image)\n",
    "    image = tf.image.convert_image_dtype(image, tf.float32)\n",
    "    image = tf.image.resize(image, [image_size, image_size])\n",
    "    return image"
   ]
  },
  {
   "cell_type": "code",
   "execution_count": 5,
   "metadata": {},
   "outputs": [],
   "source": [
    "# export\n",
    "DATA_DIR = os.path.join('data')"
   ]
  },
  {
   "cell_type": "code",
   "execution_count": 6,
   "metadata": {},
   "outputs": [],
   "source": [
    "#export\n",
    "def get_metadata(data_dir=DATA_DIR):\n",
    "    metadata_path = os.path.join(data_dir, 'PlantCLEF2019MasterTraining.csv')\n",
    "    return pd.read_csv(metadata_path, sep=';')"
   ]
  },
  {
   "cell_type": "code",
   "execution_count": 8,
   "metadata": {},
   "outputs": [],
   "source": [
    "metadata_df = get_metadata()"
   ]
  },
  {
   "cell_type": "code",
   "execution_count": 9,
   "metadata": {},
   "outputs": [
    {
     "name": "stdout",
     "output_type": "stream",
     "text": [
      "<class 'pandas.core.frame.DataFrame'>\n",
      "RangeIndex: 434251 entries, 0 to 434250\n",
      "Data columns (total 10 columns):\n",
      " #   Column       Non-Null Count   Dtype \n",
      "---  ------       --------------   ----- \n",
      " 0   MediaId      434251 non-null  object\n",
      " 1   YearInCLEF   434251 non-null  object\n",
      " 2   LearnTag     434251 non-null  object\n",
      " 3   ClassId      434251 non-null  int64 \n",
      " 4   Species      434251 non-null  object\n",
      " 5   Genus        434251 non-null  object\n",
      " 6   Family       434251 non-null  object\n",
      " 7   Origin       434251 non-null  object\n",
      " 8   OriginalUrl  434251 non-null  object\n",
      " 9   BackupLink   434251 non-null  object\n",
      "dtypes: int64(1), object(9)\n",
      "memory usage: 33.1+ MB\n"
     ]
    }
   ],
   "source": [
    "metadata_df.info()"
   ]
  },
  {
   "cell_type": "code",
   "execution_count": 10,
   "metadata": {},
   "outputs": [
    {
     "data": {
      "text/html": [
       "<div>\n",
       "<style scoped>\n",
       "    .dataframe tbody tr th:only-of-type {\n",
       "        vertical-align: middle;\n",
       "    }\n",
       "\n",
       "    .dataframe tbody tr th {\n",
       "        vertical-align: top;\n",
       "    }\n",
       "\n",
       "    .dataframe thead th {\n",
       "        text-align: right;\n",
       "    }\n",
       "</style>\n",
       "<table border=\"1\" class=\"dataframe\">\n",
       "  <thead>\n",
       "    <tr style=\"text-align: right;\">\n",
       "      <th></th>\n",
       "      <th>MediaId</th>\n",
       "      <th>YearInCLEF</th>\n",
       "      <th>LearnTag</th>\n",
       "      <th>ClassId</th>\n",
       "      <th>Species</th>\n",
       "      <th>Genus</th>\n",
       "      <th>Family</th>\n",
       "      <th>Origin</th>\n",
       "      <th>OriginalUrl</th>\n",
       "      <th>BackupLink</th>\n",
       "    </tr>\n",
       "  </thead>\n",
       "  <tbody>\n",
       "    <tr>\n",
       "      <th>0</th>\n",
       "      <td>5c3e30f1706244e9f199d5a0c5a5ec00d1cbf473</td>\n",
       "      <td>PlantCLEF2019</td>\n",
       "      <td>Train</td>\n",
       "      <td>183350</td>\n",
       "      <td>Taralea oppositifolia Aubl.</td>\n",
       "      <td>Taralea</td>\n",
       "      <td>Leguminosae</td>\n",
       "      <td>microsoftimage</td>\n",
       "      <td>http://www.bing.com/cr?IG=E56D8ED3E44B4D6BB7E1...</td>\n",
       "      <td>http://otmedia.lirmm.fr/LifeCLEF/b/gu/183350/5...</td>\n",
       "    </tr>\n",
       "    <tr>\n",
       "      <th>1</th>\n",
       "      <td>83cead55f3be63d6fbe0c1e6c87ee2223c7a6e9b</td>\n",
       "      <td>PlantCLEF2019</td>\n",
       "      <td>Train</td>\n",
       "      <td>12254</td>\n",
       "      <td>Anacardium occidentale L.</td>\n",
       "      <td>Anacardium</td>\n",
       "      <td>Anacardiaceae</td>\n",
       "      <td>microsoftimage</td>\n",
       "      <td>http://www.bing.com/cr?IG=8DC6223C2EBC42F0A017...</td>\n",
       "      <td>http://otmedia.lirmm.fr/LifeCLEF/b/gu/12254/83...</td>\n",
       "    </tr>\n",
       "    <tr>\n",
       "      <th>2</th>\n",
       "      <td>1e2f13d4773a8feafb68930117d1773ba712aa79</td>\n",
       "      <td>PlantCLEF2019</td>\n",
       "      <td>Train</td>\n",
       "      <td>263952</td>\n",
       "      <td>Ischaemum muticum L.</td>\n",
       "      <td>Ischaemum</td>\n",
       "      <td>Poaceae</td>\n",
       "      <td>microsoftimage</td>\n",
       "      <td>http://www.bing.com/cr?IG=DDA2A184733547F09081...</td>\n",
       "      <td>http://otmedia.lirmm.fr/LifeCLEF/b/gu/263952/1...</td>\n",
       "    </tr>\n",
       "    <tr>\n",
       "      <th>3</th>\n",
       "      <td>5e49ad7196984b90ad1c5f8648fe77803b40a75b</td>\n",
       "      <td>PlantCLEF2019</td>\n",
       "      <td>Train</td>\n",
       "      <td>158247</td>\n",
       "      <td>Mezilaurus decurrens (Ducke) Kosterm.</td>\n",
       "      <td>Mezilaurus</td>\n",
       "      <td>Lauraceae</td>\n",
       "      <td>googleimage</td>\n",
       "      <td>https://encrypted-tbn0.gstatic.com/images?q=tb...</td>\n",
       "      <td>http://otmedia.lirmm.fr/LifeCLEF/b/gu/158247/5...</td>\n",
       "    </tr>\n",
       "    <tr>\n",
       "      <th>4</th>\n",
       "      <td>109240430bfcca5a7c3eec0fc6a165ad242e7d55</td>\n",
       "      <td>PlantCLEF2019</td>\n",
       "      <td>Train</td>\n",
       "      <td>24496</td>\n",
       "      <td>Tabernaemontana grandiflora Jacq.</td>\n",
       "      <td>Tabernaemontana</td>\n",
       "      <td>Apocynaceae</td>\n",
       "      <td>microsoftimage</td>\n",
       "      <td>https://www.bing.com/cr?IG=836545099C7F450589B...</td>\n",
       "      <td>http://otmedia.lirmm.fr/LifeCLEF/b/gu/24496/10...</td>\n",
       "    </tr>\n",
       "  </tbody>\n",
       "</table>\n",
       "</div>"
      ],
      "text/plain": [
       "                                    MediaId     YearInCLEF LearnTag  ClassId  \\\n",
       "0  5c3e30f1706244e9f199d5a0c5a5ec00d1cbf473  PlantCLEF2019    Train   183350   \n",
       "1  83cead55f3be63d6fbe0c1e6c87ee2223c7a6e9b  PlantCLEF2019    Train    12254   \n",
       "2  1e2f13d4773a8feafb68930117d1773ba712aa79  PlantCLEF2019    Train   263952   \n",
       "3  5e49ad7196984b90ad1c5f8648fe77803b40a75b  PlantCLEF2019    Train   158247   \n",
       "4  109240430bfcca5a7c3eec0fc6a165ad242e7d55  PlantCLEF2019    Train    24496   \n",
       "\n",
       "                                 Species            Genus         Family  \\\n",
       "0            Taralea oppositifolia Aubl.          Taralea    Leguminosae   \n",
       "1              Anacardium occidentale L.       Anacardium  Anacardiaceae   \n",
       "2                   Ischaemum muticum L.        Ischaemum        Poaceae   \n",
       "3  Mezilaurus decurrens (Ducke) Kosterm.       Mezilaurus      Lauraceae   \n",
       "4      Tabernaemontana grandiflora Jacq.  Tabernaemontana    Apocynaceae   \n",
       "\n",
       "           Origin                                        OriginalUrl  \\\n",
       "0  microsoftimage  http://www.bing.com/cr?IG=E56D8ED3E44B4D6BB7E1...   \n",
       "1  microsoftimage  http://www.bing.com/cr?IG=8DC6223C2EBC42F0A017...   \n",
       "2  microsoftimage  http://www.bing.com/cr?IG=DDA2A184733547F09081...   \n",
       "3     googleimage  https://encrypted-tbn0.gstatic.com/images?q=tb...   \n",
       "4  microsoftimage  https://www.bing.com/cr?IG=836545099C7F450589B...   \n",
       "\n",
       "                                          BackupLink  \n",
       "0  http://otmedia.lirmm.fr/LifeCLEF/b/gu/183350/5...  \n",
       "1  http://otmedia.lirmm.fr/LifeCLEF/b/gu/12254/83...  \n",
       "2  http://otmedia.lirmm.fr/LifeCLEF/b/gu/263952/1...  \n",
       "3  http://otmedia.lirmm.fr/LifeCLEF/b/gu/158247/5...  \n",
       "4  http://otmedia.lirmm.fr/LifeCLEF/b/gu/24496/10...  "
      ]
     },
     "execution_count": 10,
     "metadata": {},
     "output_type": "execute_result"
    }
   ],
   "source": [
    "metadata_df.head()"
   ]
  },
  {
   "cell_type": "code",
   "execution_count": 11,
   "metadata": {},
   "outputs": [
    {
     "data": {
      "text/plain": [
       "388594"
      ]
     },
     "execution_count": 11,
     "metadata": {},
     "output_type": "execute_result"
    }
   ],
   "source": [
    "family_counts = metadata_df['Family'].value_counts()\n",
    "family_counts[family_counts > 1000].sum()"
   ]
  },
  {
   "cell_type": "code",
   "execution_count": 12,
   "metadata": {},
   "outputs": [
    {
     "data": {
      "text/plain": [
       "Orchidaceae         37703\n",
       "Leguminosae         30122\n",
       "Poaceae             26335\n",
       "Rubiaceae           16441\n",
       "Malvaceae           14765\n",
       "                    ...  \n",
       "Martyniaceae            7\n",
       "Canellaceae             7\n",
       "Anisophylleaceae        7\n",
       "Metaxyaceae             2\n",
       "Ranunculaceae           1\n",
       "Name: Family, Length: 248, dtype: int64"
      ]
     },
     "execution_count": 12,
     "metadata": {},
     "output_type": "execute_result"
    }
   ],
   "source": [
    "metadata_df['Family'].value_counts()"
   ]
  },
  {
   "cell_type": "code",
   "execution_count": 13,
   "metadata": {},
   "outputs": [
    {
     "data": {
      "text/plain": [
       "<matplotlib.axes._subplots.AxesSubplot at 0x7fc2ff44a910>"
      ]
     },
     "execution_count": 13,
     "metadata": {},
     "output_type": "execute_result"
    },
    {
     "data": {
      "image/png": "[encoded data removed]",
      "text/plain": [
       "<Figure size 432x288 with 1 Axes>"
      ]
     },
     "metadata": {
      "needs_background": "light"
     },
     "output_type": "display_data"
    }
   ],
   "source": [
    "metadata_df['Genus'].value_counts().hist()"
   ]
  },
  {
   "cell_type": "code",
   "execution_count": 14,
   "metadata": {},
   "outputs": [
    {
     "data": {
      "text/plain": [
       "(10000,)"
      ]
     },
     "execution_count": 14,
     "metadata": {},
     "output_type": "execute_result"
    }
   ],
   "source": [
    "metadata_df['ClassId'].unique().shape"
   ]
  },
  {
   "cell_type": "code",
   "execution_count": 15,
   "metadata": {},
   "outputs": [
    {
     "data": {
      "text/plain": [
       "Eugenia latifolia Aubl.                    6\n",
       "Besleria insolita C.V.Morton               6\n",
       "Floscopa elegans Huber                     6\n",
       "Eschweilera carinata S.A.Mori              6\n",
       "Gunnera tayrona L.E.Mora                   6\n",
       "                                          ..\n",
       "Everardia debilis T.Koyama & Maguire       1\n",
       "Hebepetalum neblinae Jardim & P.E.Berry    1\n",
       "Pourouma ferruginea Standl.                1\n",
       "Schlegelia paraensis Ducke                 1\n",
       "Pouteria oblanceolata Pires                1\n",
       "Name: Species, Length: 2000, dtype: int64"
      ]
     },
     "execution_count": 15,
     "metadata": {},
     "output_type": "execute_result"
    }
   ],
   "source": [
    "metadata_df['Species'].value_counts()[-2000:]"
   ]
  },
  {
   "cell_type": "code",
   "execution_count": 16,
   "metadata": {},
   "outputs": [
    {
     "name": "stdout",
     "output_type": "stream",
     "text": [
      "ls: cannot access 'data/images/data/101969': No such file or directory\r\n"
     ]
    }
   ],
   "source": [
    "!ls data/images/data/101969"
   ]
  },
  {
   "cell_type": "code",
   "execution_count": 17,
   "metadata": {},
   "outputs": [],
   "source": [
    "# export\n",
    "train_dir = os.path.join(DATA_DIR, 'images_train/data')"
   ]
  },
  {
   "cell_type": "code",
   "execution_count": 21,
   "metadata": {},
   "outputs": [],
   "source": [
    "# export\n",
    "\n",
    "\n",
    "def filter_invalid_images(raw_maybe_invalid_classification_metadata_df):\n",
    "    failed_paths = []\n",
    "    for p in tqdm.tqdm(raw_maybe_invalid_classification_metadata_df['filename']):\n",
    "        try:\n",
    "            img = PIL.Image.open(p)\n",
    "            if len(np.asarray(img).shape) < 3:\n",
    "                failed_paths.append(p)\n",
    "        except:\n",
    "            failed_paths.append(p)   \n",
    "    return raw_maybe_invalid_classification_metadata_df[~raw_maybe_invalid_classification_metadata_df['filename'].isin(failed_paths)]\n",
    "\n",
    "\n",
    "def prepare_classification_metadata(metadata_df, target_col, basepath):\n",
    "    def make_filename_from_parts(parts):\n",
    "        return os.path.join(*(basepath, *map(str, parts))) + '.jpg'\n",
    "    filename = 'MediaId'\n",
    "    df = pd.DataFrame({'class': metadata_df[target_col], 'name': metadata_df[filename]})\n",
    "    df['filename'] = metadata_df[['ClassId', filename]].agg(make_filename_from_parts, axis=1)\n",
    "    class_counts = metadata_df['class'].value_counts()\n",
    "    return filter_invalid_images(df)\n",
    "\n",
    "\n",
    "def filter_small_classes(metadata_df, min_class_examples=1000):\n",
    "    class_counts = metadata_df['class'].value_counts()\n",
    "    large_classes = class_counts[class_counts > 1000].index\n",
    "    return metadata_df[metadata_df['class'].isin(large_classes)]"
   ]
  },
  {
   "cell_type": "code",
   "execution_count": 25,
   "metadata": {},
   "outputs": [],
   "source": [
    "metadata_df['class'] = metadata_df['Family']"
   ]
  },
  {
   "cell_type": "code",
   "execution_count": 26,
   "metadata": {},
   "outputs": [
    {
     "name": "stderr",
     "output_type": "stream",
     "text": [
      "100%|██████████| 434251/434251 [46:56<00:00, 154.19it/s] \n"
     ]
    },
    {
     "name": "stdout",
     "output_type": "stream",
     "text": [
      "CPU times: user 43min 55s, sys: 57.2 s, total: 44min 52s\n",
      "Wall time: 47min 29s\n"
     ]
    }
   ],
   "source": [
    "%%time\n",
    "\n",
    "raw_classification_metadata_df = prepare_classification_metadata(metadata_df, 'Family', train_dir)"
   ]
  },
  {
   "cell_type": "markdown",
   "metadata": {},
   "source": [
    "## Number of classes"
   ]
  },
  {
   "cell_type": "code",
   "execution_count": 27,
   "metadata": {},
   "outputs": [
    {
     "data": {
      "text/plain": [
       "(422043, 3)"
      ]
     },
     "execution_count": 27,
     "metadata": {},
     "output_type": "execute_result"
    }
   ],
   "source": [
    "raw_classification_metadata_df.shape"
   ]
  },
  {
   "cell_type": "code",
   "execution_count": 28,
   "metadata": {},
   "outputs": [],
   "source": [
    "classification_metadata_df = filter_small_classes(metadata_df)"
   ]
  },
  {
   "cell_type": "code",
   "execution_count": 29,
   "metadata": {},
   "outputs": [
    {
     "data": {
      "text/plain": [
       "(388594, 11)"
      ]
     },
     "execution_count": 29,
     "metadata": {},
     "output_type": "execute_result"
    }
   ],
   "source": [
    "classification_metadata_df.shape"
   ]
  },
  {
   "cell_type": "code",
   "execution_count": null,
   "metadata": {},
   "outputs": [],
   "source": [
    "train_classification_metadata_df, test_classification_metadata_df = model_selection.train_test_split(classification_metadata_df, test_size=10000, random_state=0)"
   ]
  },
  {
   "cell_type": "code",
   "execution_count": null,
   "metadata": {},
   "outputs": [],
   "source": [
    "image_gen = keras.preprocessing.image.ImageDataGenerator(rescale=1./255, horizontal_flip=True)\n",
    "\n",
    "sample_image_iterator = image_gen.flow_from_dataframe(train_classification_metadata_df, target_size=(224, 224))\n",
    "\n",
    "n_classes = len(sample_image_iterator.class_indices)"
   ]
  },
  {
   "cell_type": "code",
   "execution_count": null,
   "metadata": {},
   "outputs": [],
   "source": [
    "batch = next(sample_image_iterator)"
   ]
  },
  {
   "cell_type": "markdown",
   "metadata": {},
   "source": [
    "# Data quality\n",
    "\n",
    "As we see from samples, images of plants have very different modalities: some of them are photos of actual plants, whereas some only contain leaves or flowers."
   ]
  },
  {
   "cell_type": "code",
   "execution_count": null,
   "metadata": {},
   "outputs": [],
   "source": [
    "for i in range(batch[0].shape[0]):\n",
    "    plt.imshow(batch[0][i]);\n",
    "    plt.show()"
   ]
  },
  {
   "cell_type": "markdown",
   "metadata": {},
   "source": [
    "### This part will be used in script mode"
   ]
  },
  {
   "cell_type": "code",
   "execution_count": null,
   "metadata": {},
   "outputs": [],
   "source": [
    "#export\n",
    "train_csv_path = os.path.join(DATA_DIR, 'train_metadata.csv')\n",
    "test_csv_path = os.path.join(DATA_DIR, 'test_metadata.csv')\n",
    "test_size = 10000\n",
    "target_class = 'Family'\n",
    "\n",
    "\n",
    "if __name__ == '__main__':\n",
    "    if os.path.exists(train_csv_path) or os.path.exists(test_csv_path):\n",
    "        raise ValueError(\"some metadata file already exists, exiting\")\n",
    "    else:\n",
    "        metadata_df = get_metadata()\n",
    "        raw_classification_metadata_df = prepare_classification_metadata(metadata_df, 'Family', train_dir)\n",
    "        classification_metadata_df = filter_small_classes(raw_classification_metadata_df)\n",
    "        train_classification_metadata_df, test_classification_metadata_df = model_selection.train_test_split(classification_metadata_df, test_size=test_size, random_state=0)\n",
    "        train_classification_metadata_df.to_csv(train_csv_path)\n",
    "        test_classification_metadata_df.to_csv(test_csv_path)"
   ]
  }
 ],
 "metadata": {
  "kernelspec": {
   "display_name": "ml",
   "language": "python",
   "name": "ml"
  },
  "language_info": {
   "codemirror_mode": {
    "name": "ipython",
    "version": 3
   },
   "file_extension": ".py",
   "mimetype": "text/x-python",
   "name": "python",
   "nbconvert_exporter": "python",
   "pygments_lexer": "ipython3",
   "version": "3.7.7"
  }
 },
 "nbformat": 4,
 "nbformat_minor": 2
}
