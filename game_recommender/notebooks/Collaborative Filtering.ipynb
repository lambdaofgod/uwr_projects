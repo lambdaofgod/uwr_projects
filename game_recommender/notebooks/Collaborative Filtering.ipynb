{
 "cells": [
  {
   "cell_type": "code",
   "execution_count": 1,
   "metadata": {},
   "outputs": [],
   "source": [
    "#default_exp collaborative_filtering"
   ]
  },
  {
   "cell_type": "code",
   "execution_count": 2,
   "metadata": {},
   "outputs": [
    {
     "name": "stderr",
     "output_type": "stream",
     "text": [
      "/etc/conda/envs/ml/lib/python3.7/site-packages/sklearn/utils/deprecation.py:144: FutureWarning: The sklearn.feature_extraction.stop_words module is  deprecated in version 0.22 and will be removed in version 0.24. The corresponding classes / functions should instead be imported from sklearn.feature_extraction.text. Anything that cannot be imported from sklearn.feature_extraction.text is now part of the private API.\n",
      "  warnings.warn(message, FutureWarning)\n",
      "WARNING:root:tensorflow or tensorflow-hub not found, loading tfhub models won't work\n"
     ]
    }
   ],
   "source": [
    "#export\n",
    "import os\n",
    "\n",
    "import numpy as np\n",
    "import pandas as pd\n",
    "import scipy\n",
    "\n",
    "import torch\n",
    "\n",
    "import itertools\n",
    "from functools import partial\n",
    "import attr\n",
    "\n",
    "import fastai\n",
    "from fastai import collab, tabular\n",
    "import implicit\n",
    "from sklearn import compose, preprocessing, metrics\n",
    "import fastFM.sgd\n",
    "import fastFM.als\n",
    "import tqdm\n",
    "import seaborn as sns\n",
    "\n",
    "import matplotlib.pyplot as plt\n",
    "\n",
    "from mlutil.misc import one_hot_encoder_column_transformer\n",
    "\n",
    "from game_recommender import steam_data\n",
    "from mlutil import recommendation\n",
    "\n",
    "\n",
    "np.random.seed(0)"
   ]
  },
  {
   "cell_type": "markdown",
   "metadata": {},
   "source": [
    "# Collaborative filtering\n",
    "\n",
    "In this notebook recommendation algorithms are trained on 'log_hours' column.\n",
    "\n",
    "I used this feature because in absence of ratings it can serve as feedback whether user liked a game."
   ]
  },
  {
   "cell_type": "code",
   "execution_count": 3,
   "metadata": {},
   "outputs": [],
   "source": [
    "import warnings\n",
    "warnings.simplefilter(action='ignore', category=FutureWarning)\n",
    "warnings.simplefilter(action='ignore', category=pd.core.common.SettingWithCopyWarning)"
   ]
  },
  {
   "cell_type": "code",
   "execution_count": 4,
   "metadata": {},
   "outputs": [
    {
     "name": "stdout",
     "output_type": "stream",
     "text": [
      "/home/kuba/Projects/game_recommender\n"
     ]
    }
   ],
   "source": [
    "\n",
    "%cd ..\n",
    "%matplotlib inline"
   ]
  },
  {
   "cell_type": "code",
   "execution_count": 6,
   "metadata": {},
   "outputs": [],
   "source": [
    "raw_steam_ratings_df = steam_data.load_steam_ratings_df()"
   ]
  },
  {
   "cell_type": "markdown",
   "metadata": {},
   "source": [
    "## Filtering data\n",
    "\n",
    "We need to exclude games and users with low number of reviews - for users with insufficient number of reviewed games the estimates will be very unstable"
   ]
  },
  {
   "cell_type": "code",
   "execution_count": 7,
   "metadata": {},
   "outputs": [],
   "source": [
    "steam_ratings_df = steam_data.filter_ratings_with_metadata(raw_steam_ratings_df)"
   ]
  },
  {
   "cell_type": "code",
   "execution_count": 8,
   "metadata": {},
   "outputs": [
    {
     "data": {
      "text/html": [
       "<div>\n",
       "<style scoped>\n",
       "    .dataframe tbody tr th:only-of-type {\n",
       "        vertical-align: middle;\n",
       "    }\n",
       "\n",
       "    .dataframe tbody tr th {\n",
       "        vertical-align: top;\n",
       "    }\n",
       "\n",
       "    .dataframe thead th {\n",
       "        text-align: right;\n",
       "    }\n",
       "</style>\n",
       "<table border=\"1\" class=\"dataframe\">\n",
       "  <thead>\n",
       "    <tr style=\"text-align: right;\">\n",
       "      <th></th>\n",
       "      <th>user_id</th>\n",
       "      <th>name</th>\n",
       "      <th>ownership</th>\n",
       "      <th>hours</th>\n",
       "      <th>log_hours</th>\n",
       "      <th>played</th>\n",
       "      <th>interacted</th>\n",
       "      <th>name_unnormalized</th>\n",
       "    </tr>\n",
       "  </thead>\n",
       "  <tbody>\n",
       "    <tr>\n",
       "      <th>1</th>\n",
       "      <td>151603712</td>\n",
       "      <td>fallout 4</td>\n",
       "      <td>purchase</td>\n",
       "      <td>1.0</td>\n",
       "      <td>0.693147</td>\n",
       "      <td>0</td>\n",
       "      <td>1</td>\n",
       "      <td>Fallout 4</td>\n",
       "    </tr>\n",
       "    <tr>\n",
       "      <th>2</th>\n",
       "      <td>151603712</td>\n",
       "      <td>fallout 4</td>\n",
       "      <td>play</td>\n",
       "      <td>87.0</td>\n",
       "      <td>4.477337</td>\n",
       "      <td>1</td>\n",
       "      <td>1</td>\n",
       "      <td>Fallout 4</td>\n",
       "    </tr>\n",
       "    <tr>\n",
       "      <th>3</th>\n",
       "      <td>151603712</td>\n",
       "      <td>spore</td>\n",
       "      <td>purchase</td>\n",
       "      <td>1.0</td>\n",
       "      <td>0.693147</td>\n",
       "      <td>0</td>\n",
       "      <td>1</td>\n",
       "      <td>Spore</td>\n",
       "    </tr>\n",
       "    <tr>\n",
       "      <th>4</th>\n",
       "      <td>151603712</td>\n",
       "      <td>spore</td>\n",
       "      <td>play</td>\n",
       "      <td>14.9</td>\n",
       "      <td>2.766319</td>\n",
       "      <td>1</td>\n",
       "      <td>1</td>\n",
       "      <td>Spore</td>\n",
       "    </tr>\n",
       "    <tr>\n",
       "      <th>5</th>\n",
       "      <td>151603712</td>\n",
       "      <td>fallout new vegas</td>\n",
       "      <td>purchase</td>\n",
       "      <td>1.0</td>\n",
       "      <td>0.693147</td>\n",
       "      <td>0</td>\n",
       "      <td>1</td>\n",
       "      <td>Fallout New Vegas</td>\n",
       "    </tr>\n",
       "  </tbody>\n",
       "</table>\n",
       "</div>"
      ],
      "text/plain": [
       "     user_id               name ownership  hours  log_hours  played  \\\n",
       "1  151603712          fallout 4  purchase    1.0   0.693147       0   \n",
       "2  151603712          fallout 4      play   87.0   4.477337       1   \n",
       "3  151603712              spore  purchase    1.0   0.693147       0   \n",
       "4  151603712              spore      play   14.9   2.766319       1   \n",
       "5  151603712  fallout new vegas  purchase    1.0   0.693147       0   \n",
       "\n",
       "   interacted  name_unnormalized  \n",
       "1           1          Fallout 4  \n",
       "2           1          Fallout 4  \n",
       "3           1              Spore  \n",
       "4           1              Spore  \n",
       "5           1  Fallout New Vegas  "
      ]
     },
     "execution_count": 8,
     "metadata": {},
     "output_type": "execute_result"
    }
   ],
   "source": [
    "steam_ratings_df.head()"
   ]
  },
  {
   "cell_type": "code",
   "execution_count": 9,
   "metadata": {},
   "outputs": [],
   "source": [
    "import pickle\n",
    "\n",
    "game_dataset_pickle_path = 'data/game_dataset.pkl'\n",
    "if os.path.exists(game_dataset_pickle_path):\n",
    "    game_dataset_raw = pickle.load(open(game_dataset_pickle_path, 'rb'))\n",
    "else:\n",
    "    steam_ratings_df = steam_data.filter_ratings_with_metadata(raw_steam_ratings_df)\n",
    "    game_dataset_raw = steam_data.RecommenderDataset.make_implicit_feedback_dataset(steam_ratings_df)\n",
    "    pickle.dump(game_dataset_raw, open(game_dataset_pickle_path, 'wb'))\n",
    "\n",
    "game_dataset = (\n",
    "    game_dataset_raw\n",
    "    .filter_out_insufficient_reviews('user_id', 5)\n",
    "    .filter_out_insufficient_reviews('name', 2)\n",
    ")"
   ]
  },
  {
   "cell_type": "code",
   "execution_count": 10,
   "metadata": {},
   "outputs": [],
   "source": [
    "game_dataset = (\n",
    "        game_dataset_raw\n",
    "        .filter_out_insufficient_reviews('user_id', 5)\n",
    "        .filter_out_insufficient_reviews('name', 2)\n",
    "    )"
   ]
  },
  {
   "cell_type": "code",
   "execution_count": 11,
   "metadata": {},
   "outputs": [
    {
     "data": {
      "text/plain": [
       "(71630, 7)"
      ]
     },
     "execution_count": 11,
     "metadata": {},
     "output_type": "execute_result"
    }
   ],
   "source": [
    "game_dataset.data.shape"
   ]
  },
  {
   "cell_type": "code",
   "execution_count": 12,
   "metadata": {},
   "outputs": [],
   "source": [
    "steam_dataset, target = game_dataset.data, game_dataset.target"
   ]
  },
  {
   "cell_type": "code",
   "execution_count": 13,
   "metadata": {},
   "outputs": [],
   "source": [
    "min_review_threshold = 3"
   ]
  },
  {
   "cell_type": "code",
   "execution_count": 15,
   "metadata": {},
   "outputs": [
    {
     "data": {
      "text/plain": [
       "1.0"
      ]
     },
     "execution_count": 15,
     "metadata": {},
     "output_type": "execute_result"
    }
   ],
   "source": [
    "raw_user_review_counts = steam_dataset.groupby('user_id').agg('count').iloc[:,0]\n",
    "(raw_user_review_counts > min_review_threshold).mean()"
   ]
  },
  {
   "cell_type": "code",
   "execution_count": 16,
   "metadata": {},
   "outputs": [],
   "source": [
    "game_review_counts = steam_dataset.groupby('name').agg('count').iloc[:,0]"
   ]
  },
  {
   "cell_type": "markdown",
   "metadata": {},
   "source": [
    "## Number of games"
   ]
  },
  {
   "cell_type": "code",
   "execution_count": 17,
   "metadata": {},
   "outputs": [
    {
     "data": {
      "text/plain": [
       "2261"
      ]
     },
     "execution_count": 17,
     "metadata": {},
     "output_type": "execute_result"
    }
   ],
   "source": [
    "steam_dataset['name'].nunique()"
   ]
  },
  {
   "cell_type": "code",
   "execution_count": 18,
   "metadata": {},
   "outputs": [
    {
     "data": {
      "text/plain": [
       "count    2261.000000\n",
       "mean       31.680672\n",
       "std        77.919528\n",
       "min         2.000000\n",
       "25%         4.000000\n",
       "50%         9.000000\n",
       "75%        28.000000\n",
       "max      1232.000000\n",
       "Name: name, dtype: float64"
      ]
     },
     "execution_count": 18,
     "metadata": {},
     "output_type": "execute_result"
    }
   ],
   "source": [
    "steam_dataset['name'].value_counts().describe()"
   ]
  },
  {
   "cell_type": "markdown",
   "metadata": {},
   "source": [
    "## Number of users "
   ]
  },
  {
   "cell_type": "code",
   "execution_count": 19,
   "metadata": {},
   "outputs": [
    {
     "data": {
      "text/plain": [
       "2869"
      ]
     },
     "execution_count": 19,
     "metadata": {},
     "output_type": "execute_result"
    }
   ],
   "source": [
    "steam_dataset['user_id'].nunique()"
   ]
  },
  {
   "cell_type": "code",
   "execution_count": 20,
   "metadata": {},
   "outputs": [
    {
     "data": {
      "text/plain": [
       "count    2869.000000\n",
       "mean       24.966887\n",
       "std        41.936376\n",
       "min         4.000000\n",
       "25%         7.000000\n",
       "50%        11.000000\n",
       "75%        24.000000\n",
       "max       616.000000\n",
       "Name: user_id, dtype: float64"
      ]
     },
     "execution_count": 20,
     "metadata": {},
     "output_type": "execute_result"
    }
   ],
   "source": [
    "steam_dataset['user_id'].value_counts().describe()"
   ]
  },
  {
   "cell_type": "markdown",
   "metadata": {},
   "source": [
    "## Predicted column - log_hours"
   ]
  },
  {
   "cell_type": "code",
   "execution_count": 21,
   "metadata": {},
   "outputs": [
    {
     "data": {
      "text/plain": [
       "count    71630.000000\n",
       "mean         1.528102\n",
       "std          1.393734\n",
       "min          0.095310\n",
       "25%          0.693147\n",
       "50%          0.693147\n",
       "75%          2.174752\n",
       "max          9.253687\n",
       "Name: log_hours, dtype: float64"
      ]
     },
     "execution_count": 21,
     "metadata": {},
     "output_type": "execute_result"
    }
   ],
   "source": [
    "target.describe()"
   ]
  },
  {
   "cell_type": "code",
   "execution_count": 22,
   "metadata": {},
   "outputs": [
    {
     "data": {
      "text/plain": [
       "(71630, 7)"
      ]
     },
     "execution_count": 22,
     "metadata": {},
     "output_type": "execute_result"
    }
   ],
   "source": [
    "steam_dataset.shape"
   ]
  },
  {
   "cell_type": "markdown",
   "metadata": {},
   "source": [
    "## Games played per user \n",
    "\n",
    "Max number of played games was truncated at $q = 95$ percentile "
   ]
  },
  {
   "cell_type": "code",
   "execution_count": 59,
   "metadata": {},
   "outputs": [
    {
     "name": "stdout",
     "output_type": "stream",
     "text": [
      "95% users rated less than 91.0 games\n"
     ]
    },
    {
     "data": {
      "image/png": "[encoded data removed]",
      "text/plain": [
       "<Figure size 432x288 with 1 Axes>"
      ]
     },
     "metadata": {
      "needs_background": "light"
     },
     "output_type": "display_data"
    }
   ],
   "source": [
    "user_review_counts = steam_dataset.groupby('user_id').agg('count').iloc[:,0]\n",
    "q = user_review_counts.quantile(0.95)\n",
    "truncated_review_counts = np.minimum(user_review_counts, q)\n",
    "print('95% users rated less than', q , 'games')\n",
    "plt.hist(truncated_review_counts);"
   ]
  },
  {
   "cell_type": "code",
   "execution_count": 60,
   "metadata": {},
   "outputs": [],
   "source": [
    "# Games play counts"
   ]
  },
  {
   "cell_type": "code",
   "execution_count": 62,
   "metadata": {},
   "outputs": [
    {
     "name": "stdout",
     "output_type": "stream",
     "text": [
      "95% games were played less than 129.0 times\n"
     ]
    },
    {
     "data": {
      "image/png": "[encoded data removed]",
      "text/plain": [
       "<Figure size 432x288 with 1 Axes>"
      ]
     },
     "metadata": {
      "needs_background": "light"
     },
     "output_type": "display_data"
    }
   ],
   "source": [
    "user_review_counts = steam_dataset.groupby('name').agg('count').iloc[:,0]\n",
    "q = user_review_counts.quantile(0.95)\n",
    "truncated_review_counts = np.minimum(user_review_counts, q)\n",
    "print('95% games were played less than', q , 'times')\n",
    "plt.hist(truncated_review_counts);"
   ]
  },
  {
   "cell_type": "markdown",
   "metadata": {},
   "source": [
    "# Train test split\n",
    "\n",
    "Splitting is nontrivial matter here: different algorithms use different encoding schemes:\n",
    "        \n",
    "- Factorization Machines and FastAI collaborative filtering use supervised learning convention (inputs are one-hot encoded user and item columns)\n",
    "- Matrix Factorization algorithms use user-item matrix"
   ]
  },
  {
   "cell_type": "code",
   "execution_count": 24,
   "metadata": {},
   "outputs": [],
   "source": [
    "from sklearn import model_selection\n",
    "\n",
    "labels_train, labels_val = model_selection.train_test_split(\n",
    "    range(len(steam_dataset)),\n",
    "    stratify=steam_dataset['user_id'],\n",
    "    test_size=0.2\n",
    ")"
   ]
  },
  {
   "cell_type": "code",
   "execution_count": 25,
   "metadata": {},
   "outputs": [
    {
     "data": {
      "text/plain": [
       "((2869, 2241), (2869, 1729))"
      ]
     },
     "execution_count": 25,
     "metadata": {},
     "output_type": "execute_result"
    }
   ],
   "source": [
    "import scipy\n",
    "\n",
    "\n",
    "def encode_user_item_matrix(steam_dataset, target):\n",
    "    ratings_df = steam_dataset.copy()\n",
    "    ratings_df['target'] = target\n",
    "    item_user_pivoted_df = ratings_df.pivot_table(index='name', columns='user_id', values='target')\n",
    "    item_user_matrix = scipy.sparse.csr_matrix(item_user_pivoted_df.fillna(0).values)\n",
    "    return scipy.sparse.csr_matrix(item_user_matrix.T)\n",
    "\n",
    "\n",
    "user_game_matrix_train = encode_user_item_matrix(steam_dataset.iloc[labels_train], target)\n",
    "user_game_matrix_val = encode_user_item_matrix(steam_dataset.iloc[labels_val], target)\n",
    "user_game_matrix_train.shape, user_game_matrix_val.shape"
   ]
  },
  {
   "cell_type": "code",
   "execution_count": 26,
   "metadata": {},
   "outputs": [],
   "source": [
    "def get_prediction_spearman_correlation(target, predictions, agg_col):\n",
    "    # ignore warnings for users with one rated item\n",
    "    with warnings.catch_warnings(record=True) as w:\n",
    "        warnings.simplefilter(\"ignore\")\n",
    "        eval_df = pd.DataFrame({\n",
    "            'target': target,\n",
    "            'predictions': predictions,\n",
    "        }\n",
    "        ) \n",
    "        corr_df = eval_df.groupby(agg_col).agg(\n",
    "            lambda df: scipy.stats.spearmanr(\n",
    "                df['target'], df['predictions'])[0]\n",
    "        ).iloc[:,0]\n",
    "    return corr_df\n",
    "\n",
    "\n",
    "def summarize_per_user_correlations(evaluation_df, target_col, pred_col, agg_col='user_id', alpha=0.5, implicit_feedback_threshold=0.5):\n",
    "    spearman_correlations = get_prediction_spearman_correlation(evaluation_df[target_col], evaluation_df[pred_col], evaluation_df[agg_col])\n",
    "    sns.lmplot(data=evaluation_df, x=pred_col, y=target_col, line_kws={'color': 'red'});\n",
    "    plt.title('target vs prediction')\n",
    "    plt.show()\n",
    "    error = evaluation_df[target_col] - evaluation_df[pred_col]\n",
    "    implicit_feedback_loss_scaling = (1 + alpha * (evaluation_df[target_col] > implicit_feedback_threshold))\n",
    "    print('MAE: {:,.3f}'.format(np.mean(np.abs(error))))\n",
    "    print('MSE: {:,.3f}'.format(np.mean(error ** 2)))\n",
    "    print('Implicit feedback MSE loss: {:,.3f}'.format(np.mean(implicit_feedback_loss_scaling * (error ** 2))))\n",
    "    sns.distplot(error, kde=False);\n",
    "    plt.title('error distribution')\n",
    "    plt.show()\n",
    "    plt.title('per-user mean Spearman correlation {:,.3f}'.format(spearman_correlations.mean()))\n",
    "    spearman_correlations.plot.hist()\n",
    "    return spearman_correlations"
   ]
  },
  {
   "cell_type": "markdown",
   "metadata": {},
   "source": [
    "# FastAI Collaborative Filtering model"
   ]
  },
  {
   "cell_type": "code",
   "execution_count": 27,
   "metadata": {},
   "outputs": [],
   "source": [
    "steam_datasetbunch = (\n",
    "    collab.CollabList.from_df(\n",
    "        pd.concat([steam_dataset, target], axis=1),\n",
    "        cat_names=['user_id', 'name'],\n",
    "        procs=tabular.Categorify)\n",
    "    .split_by_idxs(labels_train, labels_val)\n",
    "    .label_from_df('log_hours')\n",
    ").databunch(path=None, bs=64)"
   ]
  },
  {
   "cell_type": "code",
   "execution_count": 28,
   "metadata": {},
   "outputs": [],
   "source": [
    "#export\n",
    "from torch.functional import F\n",
    "\n",
    "\n",
    "def flat_smooth_l1_loss(input, labels, reduction=None):\n",
    "    \"\"\"\n",
    "    l1 loss of flattened predictions \n",
    "    \"\"\"\n",
    "    return torch.nn.SmoothL1Loss(reduction=reduction)(input.reshape(-1), labels)\n",
    "\n",
    "\n",
    "def flat_implicit_feedback_loss(input, labels, loss=flat_smooth_l1_loss, alpha=0.5, bias=10):\n",
    "    r = torch.nn.Sigmoid()(labels + bias)\n",
    "    return ((1 + alpha * r) * loss(input, labels, reduction='none')).mean()"
   ]
  },
  {
   "cell_type": "code",
   "execution_count": 29,
   "metadata": {},
   "outputs": [],
   "source": [
    "nn_cf_learner =  collab.collab_learner(\n",
    "    steam_datasetbunch,\n",
    "    y_range=(0,10),\n",
    "    emb_drop=0.5,\n",
    "    use_nn=True,\n",
    "    layers=[10, 10],\n",
    "    loss_func=flat_implicit_feedback_loss,\n",
    ")"
   ]
  },
  {
   "cell_type": "code",
   "execution_count": 30,
   "metadata": {},
   "outputs": [
    {
     "data": {
      "text/html": [
       "\n",
       "    <div>\n",
       "        <style>\n",
       "            /* Turns off some styling */\n",
       "            progress {\n",
       "                /* gets rid of default border in Firefox and Opera. */\n",
       "                border: none;\n",
       "                /* Needs to be in here for Safari polyfill so background images work as expected. */\n",
       "                background-size: auto;\n",
       "            }\n",
       "            .progress-bar-interrupted, .progress-bar-interrupted::-webkit-progress-bar {\n",
       "                background: #F44336;\n",
       "            }\n",
       "        </style>\n",
       "      <progress value='0' class='' max='1' style='width:300px; height:20px; vertical-align: middle;'></progress>\n",
       "      0.00% [0/1 00:00<00:00]\n",
       "    </div>\n",
       "    \n",
       "<table border=\"1\" class=\"dataframe\">\n",
       "  <thead>\n",
       "    <tr style=\"text-align: left;\">\n",
       "      <th>epoch</th>\n",
       "      <th>train_loss</th>\n",
       "      <th>valid_loss</th>\n",
       "      <th>time</th>\n",
       "    </tr>\n",
       "  </thead>\n",
       "  <tbody>\n",
       "  </tbody>\n",
       "</table><p>\n",
       "\n",
       "    <div>\n",
       "        <style>\n",
       "            /* Turns off some styling */\n",
       "            progress {\n",
       "                /* gets rid of default border in Firefox and Opera. */\n",
       "                border: none;\n",
       "                /* Needs to be in here for Safari polyfill so background images work as expected. */\n",
       "                background-size: auto;\n",
       "            }\n",
       "            .progress-bar-interrupted, .progress-bar-interrupted::-webkit-progress-bar {\n",
       "                background: #F44336;\n",
       "            }\n",
       "        </style>\n",
       "      <progress value='83' class='' max='895' style='width:300px; height:20px; vertical-align: middle;'></progress>\n",
       "      9.27% [83/895 00:00<00:06 4.2693]\n",
       "    </div>\n",
       "    "
      ],
      "text/plain": [
       "<IPython.core.display.HTML object>"
      ]
     },
     "metadata": {},
     "output_type": "display_data"
    },
    {
     "name": "stdout",
     "output_type": "stream",
     "text": [
      "LR Finder is complete, type {learner_name}.recorder.plot() to see the graph.\n"
     ]
    }
   ],
   "source": [
    "nn_cf_learner.lr_find()"
   ]
  },
  {
   "cell_type": "code",
   "execution_count": 31,
   "metadata": {},
   "outputs": [
    {
     "name": "stdout",
     "output_type": "stream",
     "text": [
      "Min numerical gradient: 4.79E-02\n",
      "Min loss divided by 10: 3.31E-01\n"
     ]
    },
    {
     "data": {
      "image/png": "[encoded data removed]",
      "text/plain": [
       "<Figure size 432x288 with 1 Axes>"
      ]
     },
     "metadata": {
      "needs_background": "light"
     },
     "output_type": "display_data"
    }
   ],
   "source": [
    "nn_cf_learner.recorder.plot(suggestion=True)"
   ]
  },
  {
   "cell_type": "code",
   "execution_count": 32,
   "metadata": {},
   "outputs": [
    {
     "data": {
      "text/html": [
       "<table border=\"1\" class=\"dataframe\">\n",
       "  <thead>\n",
       "    <tr style=\"text-align: left;\">\n",
       "      <th>epoch</th>\n",
       "      <th>train_loss</th>\n",
       "      <th>valid_loss</th>\n",
       "      <th>time</th>\n",
       "    </tr>\n",
       "  </thead>\n",
       "  <tbody>\n",
       "    <tr>\n",
       "      <td>0</td>\n",
       "      <td>1.696637</td>\n",
       "      <td>1.512649</td>\n",
       "      <td>00:04</td>\n",
       "    </tr>\n",
       "    <tr>\n",
       "      <td>1</td>\n",
       "      <td>0.795009</td>\n",
       "      <td>0.767187</td>\n",
       "      <td>00:04</td>\n",
       "    </tr>\n",
       "    <tr>\n",
       "      <td>2</td>\n",
       "      <td>0.658930</td>\n",
       "      <td>0.665206</td>\n",
       "      <td>00:04</td>\n",
       "    </tr>\n",
       "    <tr>\n",
       "      <td>3</td>\n",
       "      <td>0.625567</td>\n",
       "      <td>0.662223</td>\n",
       "      <td>00:04</td>\n",
       "    </tr>\n",
       "    <tr>\n",
       "      <td>4</td>\n",
       "      <td>0.604218</td>\n",
       "      <td>0.662673</td>\n",
       "      <td>00:04</td>\n",
       "    </tr>\n",
       "  </tbody>\n",
       "</table>"
      ],
      "text/plain": [
       "<IPython.core.display.HTML object>"
      ]
     },
     "metadata": {},
     "output_type": "display_data"
    }
   ],
   "source": [
    "nn_cf_learner.fit_one_cycle(\n",
    "    5, max_lr=1e-3,\n",
    ")"
   ]
  },
  {
   "cell_type": "code",
   "execution_count": 33,
   "metadata": {},
   "outputs": [
    {
     "data": {
      "text/html": [
       "<table border=\"1\" class=\"dataframe\">\n",
       "  <thead>\n",
       "    <tr style=\"text-align: right;\">\n",
       "      <th>user_id</th>\n",
       "      <th>name</th>\n",
       "      <th>target</th>\n",
       "      <th>prediction</th>\n",
       "    </tr>\n",
       "  </thead>\n",
       "  <tbody>\n",
       "    <tr>\n",
       "      <td>167013261</td>\n",
       "      <td>half life</td>\n",
       "      <td>0.6931472</td>\n",
       "      <td>[0.735151]</td>\n",
       "    </tr>\n",
       "    <tr>\n",
       "      <td>71390526</td>\n",
       "      <td>sid meiers civilization 4</td>\n",
       "      <td>1.9600948</td>\n",
       "      <td>[2.190101]</td>\n",
       "    </tr>\n",
       "    <tr>\n",
       "      <td>71777065</td>\n",
       "      <td>wolfenstein the new order</td>\n",
       "      <td>3.4011974</td>\n",
       "      <td>[1.449394]</td>\n",
       "    </tr>\n",
       "    <tr>\n",
       "      <td>43955374</td>\n",
       "      <td>section 8 prejudice</td>\n",
       "      <td>1.9315214</td>\n",
       "      <td>[1.718276]</td>\n",
       "    </tr>\n",
       "    <tr>\n",
       "      <td>31669242</td>\n",
       "      <td>just cause</td>\n",
       "      <td>0.6931472</td>\n",
       "      <td>[0.746586]</td>\n",
       "    </tr>\n",
       "    <tr>\n",
       "      <td>168641975</td>\n",
       "      <td>goat simulator</td>\n",
       "      <td>0.53062826</td>\n",
       "      <td>[0.960141]</td>\n",
       "    </tr>\n",
       "    <tr>\n",
       "      <td>43684632</td>\n",
       "      <td>metal gear solid 5 the phantom pain</td>\n",
       "      <td>4.564348</td>\n",
       "      <td>[3.607436]</td>\n",
       "    </tr>\n",
       "    <tr>\n",
       "      <td>60859695</td>\n",
       "      <td>dungeon defenders</td>\n",
       "      <td>1.5892352</td>\n",
       "      <td>[1.462793]</td>\n",
       "    </tr>\n",
       "    <tr>\n",
       "      <td>35701646</td>\n",
       "      <td>uplink</td>\n",
       "      <td>0.6931472</td>\n",
       "      <td>[0.845477]</td>\n",
       "    </tr>\n",
       "    <tr>\n",
       "      <td>22301321</td>\n",
       "      <td>hotline miami</td>\n",
       "      <td>0.6931472</td>\n",
       "      <td>[0.863658]</td>\n",
       "    </tr>\n",
       "    <tr>\n",
       "      <td>65754991</td>\n",
       "      <td>bioshock infinite</td>\n",
       "      <td>2.1162555</td>\n",
       "      <td>[1.30128]</td>\n",
       "    </tr>\n",
       "    <tr>\n",
       "      <td>20464587</td>\n",
       "      <td>team fortress 2</td>\n",
       "      <td>0.64185387</td>\n",
       "      <td>[2.690706]</td>\n",
       "    </tr>\n",
       "    <tr>\n",
       "      <td>31669242</td>\n",
       "      <td>legend of grimrock</td>\n",
       "      <td>0.6931472</td>\n",
       "      <td>[1.221316]</td>\n",
       "    </tr>\n",
       "    <tr>\n",
       "      <td>10253354</td>\n",
       "      <td>rollercoaster tycoon 2 triple thrill pack</td>\n",
       "      <td>0.6931472</td>\n",
       "      <td>[1.123708]</td>\n",
       "    </tr>\n",
       "    <tr>\n",
       "      <td>53091150</td>\n",
       "      <td>dont starve</td>\n",
       "      <td>1.9315214</td>\n",
       "      <td>[1.278688]</td>\n",
       "    </tr>\n",
       "    <tr>\n",
       "      <td>81746734</td>\n",
       "      <td>gear up</td>\n",
       "      <td>0.18232156</td>\n",
       "      <td>[1.192192]</td>\n",
       "    </tr>\n",
       "    <tr>\n",
       "      <td>100359523</td>\n",
       "      <td>homefront</td>\n",
       "      <td>2.7536607</td>\n",
       "      <td>[2.337343]</td>\n",
       "    </tr>\n",
       "    <tr>\n",
       "      <td>132748085</td>\n",
       "      <td>gotham city impostors free to play</td>\n",
       "      <td>2.3978953</td>\n",
       "      <td>[0.724108]</td>\n",
       "    </tr>\n",
       "    <tr>\n",
       "      <td>47384202</td>\n",
       "      <td>contagion</td>\n",
       "      <td>0.6931472</td>\n",
       "      <td>[0.872013]</td>\n",
       "    </tr>\n",
       "    <tr>\n",
       "      <td>58761868</td>\n",
       "      <td>banished</td>\n",
       "      <td>3.4011974</td>\n",
       "      <td>[3.595741]</td>\n",
       "    </tr>\n",
       "    <tr>\n",
       "      <td>180901075</td>\n",
       "      <td>sanctum</td>\n",
       "      <td>0.18232156</td>\n",
       "      <td>[0.849401]</td>\n",
       "    </tr>\n",
       "    <tr>\n",
       "      <td>116876958</td>\n",
       "      <td>victim of xen</td>\n",
       "      <td>1.1939225</td>\n",
       "      <td>[1.550369]</td>\n",
       "    </tr>\n",
       "    <tr>\n",
       "      <td>151603712</td>\n",
       "      <td>grand theft auto episodes from liberty city</td>\n",
       "      <td>0.6931472</td>\n",
       "      <td>[0.757496]</td>\n",
       "    </tr>\n",
       "    <tr>\n",
       "      <td>133422169</td>\n",
       "      <td>portal 2</td>\n",
       "      <td>0.6931472</td>\n",
       "      <td>[2.699467]</td>\n",
       "    </tr>\n",
       "    <tr>\n",
       "      <td>24469287</td>\n",
       "      <td>warhammer 40 000 dawn of war 2 retribution</td>\n",
       "      <td>1.1939225</td>\n",
       "      <td>[1.44601]</td>\n",
       "    </tr>\n",
       "    <tr>\n",
       "      <td>55426012</td>\n",
       "      <td>sacred 3</td>\n",
       "      <td>2.1972246</td>\n",
       "      <td>[1.474217]</td>\n",
       "    </tr>\n",
       "    <tr>\n",
       "      <td>120838793</td>\n",
       "      <td>neverwinter</td>\n",
       "      <td>0.6931472</td>\n",
       "      <td>[0.89225]</td>\n",
       "    </tr>\n",
       "    <tr>\n",
       "      <td>128593044</td>\n",
       "      <td>rocketbirds hardboiled chicken</td>\n",
       "      <td>0.6931472</td>\n",
       "      <td>[0.704603]</td>\n",
       "    </tr>\n",
       "    <tr>\n",
       "      <td>40212239</td>\n",
       "      <td>company of heroes 2</td>\n",
       "      <td>3.8918202</td>\n",
       "      <td>[2.07354]</td>\n",
       "    </tr>\n",
       "    <tr>\n",
       "      <td>184314651</td>\n",
       "      <td>fallout new vegas</td>\n",
       "      <td>1.5260563</td>\n",
       "      <td>[2.724294]</td>\n",
       "    </tr>\n",
       "    <tr>\n",
       "      <td>2259650</td>\n",
       "      <td>counter strike global offensive</td>\n",
       "      <td>1.7227666</td>\n",
       "      <td>[3.700706]</td>\n",
       "    </tr>\n",
       "    <tr>\n",
       "      <td>86469479</td>\n",
       "      <td>saints row 2</td>\n",
       "      <td>0.6931472</td>\n",
       "      <td>[0.969564]</td>\n",
       "    </tr>\n",
       "    <tr>\n",
       "      <td>96588736</td>\n",
       "      <td>the binding of isaac rebirth</td>\n",
       "      <td>1.7404661</td>\n",
       "      <td>[3.31934]</td>\n",
       "    </tr>\n",
       "    <tr>\n",
       "      <td>72989129</td>\n",
       "      <td>day of defeat</td>\n",
       "      <td>0.6931472</td>\n",
       "      <td>[1.2231]</td>\n",
       "    </tr>\n",
       "    <tr>\n",
       "      <td>58931437</td>\n",
       "      <td>take on helicopters</td>\n",
       "      <td>0.6931472</td>\n",
       "      <td>[0.69028]</td>\n",
       "    </tr>\n",
       "    <tr>\n",
       "      <td>14551726</td>\n",
       "      <td>half life 2 deathmatch</td>\n",
       "      <td>0.6931472</td>\n",
       "      <td>[0.712285]</td>\n",
       "    </tr>\n",
       "    <tr>\n",
       "      <td>98848653</td>\n",
       "      <td>left 4 dead 2</td>\n",
       "      <td>0.6931472</td>\n",
       "      <td>[2.714237]</td>\n",
       "    </tr>\n",
       "    <tr>\n",
       "      <td>24919113</td>\n",
       "      <td>tomb raider</td>\n",
       "      <td>0.6931472</td>\n",
       "      <td>[1.627776]</td>\n",
       "    </tr>\n",
       "    <tr>\n",
       "      <td>209772097</td>\n",
       "      <td>path of exile</td>\n",
       "      <td>0.6931472</td>\n",
       "      <td>[0.954697]</td>\n",
       "    </tr>\n",
       "    <tr>\n",
       "      <td>248040416</td>\n",
       "      <td>robocraft</td>\n",
       "      <td>0.6931472</td>\n",
       "      <td>[0.694484]</td>\n",
       "    </tr>\n",
       "    <tr>\n",
       "      <td>71777065</td>\n",
       "      <td>crusader kings 2</td>\n",
       "      <td>0.6931472</td>\n",
       "      <td>[1.413544]</td>\n",
       "    </tr>\n",
       "    <tr>\n",
       "      <td>61506388</td>\n",
       "      <td>batman arkham origins</td>\n",
       "      <td>0.6931472</td>\n",
       "      <td>[1.129969]</td>\n",
       "    </tr>\n",
       "    <tr>\n",
       "      <td>45592640</td>\n",
       "      <td>mount and blade with fire and sword</td>\n",
       "      <td>3.912023</td>\n",
       "      <td>[3.816824]</td>\n",
       "    </tr>\n",
       "    <tr>\n",
       "      <td>23492094</td>\n",
       "      <td>reus</td>\n",
       "      <td>0.18232156</td>\n",
       "      <td>[0.934159]</td>\n",
       "    </tr>\n",
       "    <tr>\n",
       "      <td>106806146</td>\n",
       "      <td>cook serve delicious</td>\n",
       "      <td>0.53062826</td>\n",
       "      <td>[0.769546]</td>\n",
       "    </tr>\n",
       "    <tr>\n",
       "      <td>163140792</td>\n",
       "      <td>18 wheels of steel american long haul</td>\n",
       "      <td>0.6931472</td>\n",
       "      <td>[2.877122]</td>\n",
       "    </tr>\n",
       "    <tr>\n",
       "      <td>92958887</td>\n",
       "      <td>air conflicts secret wars</td>\n",
       "      <td>1.2809339</td>\n",
       "      <td>[0.816039]</td>\n",
       "    </tr>\n",
       "    <tr>\n",
       "      <td>114324869</td>\n",
       "      <td>warframe</td>\n",
       "      <td>0.6931472</td>\n",
       "      <td>[1.119293]</td>\n",
       "    </tr>\n",
       "    <tr>\n",
       "      <td>35039277</td>\n",
       "      <td>machinarium</td>\n",
       "      <td>0.6931472</td>\n",
       "      <td>[0.999936]</td>\n",
       "    </tr>\n",
       "    <tr>\n",
       "      <td>101529420</td>\n",
       "      <td>call of duty modern warfare 2</td>\n",
       "      <td>1.5475625</td>\n",
       "      <td>[1.84051]</td>\n",
       "    </tr>\n",
       "  </tbody>\n",
       "</table>"
      ],
      "text/plain": [
       "<IPython.core.display.HTML object>"
      ]
     },
     "metadata": {},
     "output_type": "display_data"
    }
   ],
   "source": [
    "nn_cf_learner.show_results(rows=50)"
   ]
  },
  {
   "cell_type": "code",
   "execution_count": 34,
   "metadata": {},
   "outputs": [
    {
     "data": {
      "text/html": [],
      "text/plain": [
       "<IPython.core.display.HTML object>"
      ]
     },
     "metadata": {},
     "output_type": "display_data"
    }
   ],
   "source": [
    "nn_preds_val = nn_cf_learner.get_preds()"
   ]
  },
  {
   "cell_type": "code",
   "execution_count": 35,
   "metadata": {},
   "outputs": [],
   "source": [
    "target_val = target[labels_val]"
   ]
  },
  {
   "cell_type": "code",
   "execution_count": 36,
   "metadata": {},
   "outputs": [],
   "source": [
    "evaluation_df = steam_dataset.iloc[labels_val]\n",
    "evaluation_df['target'] = target\n",
    "evaluation_df['nn_preds'] = nn_preds_val[0].numpy().reshape(-1)"
   ]
  },
  {
   "cell_type": "code",
   "execution_count": 37,
   "metadata": {},
   "outputs": [
    {
     "data": {
      "text/html": [
       "<div>\n",
       "<style scoped>\n",
       "    .dataframe tbody tr th:only-of-type {\n",
       "        vertical-align: middle;\n",
       "    }\n",
       "\n",
       "    .dataframe tbody tr th {\n",
       "        vertical-align: top;\n",
       "    }\n",
       "\n",
       "    .dataframe thead th {\n",
       "        text-align: right;\n",
       "    }\n",
       "</style>\n",
       "<table border=\"1\" class=\"dataframe\">\n",
       "  <thead>\n",
       "    <tr style=\"text-align: right;\">\n",
       "      <th></th>\n",
       "      <th>user_id</th>\n",
       "      <th>name</th>\n",
       "      <th>ownership</th>\n",
       "      <th>hours</th>\n",
       "      <th>played</th>\n",
       "      <th>interacted</th>\n",
       "      <th>name_unnormalized</th>\n",
       "      <th>target</th>\n",
       "      <th>nn_preds</th>\n",
       "    </tr>\n",
       "  </thead>\n",
       "  <tbody>\n",
       "    <tr>\n",
       "      <th>36230</th>\n",
       "      <td>167013261</td>\n",
       "      <td>half life</td>\n",
       "      <td>purchase</td>\n",
       "      <td>1.0</td>\n",
       "      <td>0</td>\n",
       "      <td>1</td>\n",
       "      <td>Half-Life</td>\n",
       "      <td>0.693147</td>\n",
       "      <td>0.735151</td>\n",
       "    </tr>\n",
       "    <tr>\n",
       "      <th>62880</th>\n",
       "      <td>71390526</td>\n",
       "      <td>sid meiers civilization 4</td>\n",
       "      <td>play</td>\n",
       "      <td>6.1</td>\n",
       "      <td>1</td>\n",
       "      <td>1</td>\n",
       "      <td>Sid Meier's Civilization IV</td>\n",
       "      <td>1.960095</td>\n",
       "      <td>2.190101</td>\n",
       "    </tr>\n",
       "    <tr>\n",
       "      <th>84068</th>\n",
       "      <td>71777065</td>\n",
       "      <td>wolfenstein the new order</td>\n",
       "      <td>play</td>\n",
       "      <td>29.0</td>\n",
       "      <td>1</td>\n",
       "      <td>1</td>\n",
       "      <td>Wolfenstein The New Order</td>\n",
       "      <td>3.401197</td>\n",
       "      <td>1.449394</td>\n",
       "    </tr>\n",
       "    <tr>\n",
       "      <th>61870</th>\n",
       "      <td>43955374</td>\n",
       "      <td>section 8 prejudice</td>\n",
       "      <td>play</td>\n",
       "      <td>5.9</td>\n",
       "      <td>1</td>\n",
       "      <td>1</td>\n",
       "      <td>Section 8 Prejudice</td>\n",
       "      <td>1.931521</td>\n",
       "      <td>1.718276</td>\n",
       "    </tr>\n",
       "    <tr>\n",
       "      <th>42595</th>\n",
       "      <td>31669242</td>\n",
       "      <td>just cause</td>\n",
       "      <td>purchase</td>\n",
       "      <td>1.0</td>\n",
       "      <td>0</td>\n",
       "      <td>1</td>\n",
       "      <td>Just Cause</td>\n",
       "      <td>0.693147</td>\n",
       "      <td>0.746586</td>\n",
       "    </tr>\n",
       "    <tr>\n",
       "      <th>...</th>\n",
       "      <td>...</td>\n",
       "      <td>...</td>\n",
       "      <td>...</td>\n",
       "      <td>...</td>\n",
       "      <td>...</td>\n",
       "      <td>...</td>\n",
       "      <td>...</td>\n",
       "      <td>...</td>\n",
       "      <td>...</td>\n",
       "    </tr>\n",
       "    <tr>\n",
       "      <th>37021</th>\n",
       "      <td>12130111</td>\n",
       "      <td>half life 2 deathmatch</td>\n",
       "      <td>purchase</td>\n",
       "      <td>1.0</td>\n",
       "      <td>0</td>\n",
       "      <td>1</td>\n",
       "      <td>Half-Life 2 Deathmatch</td>\n",
       "      <td>0.693147</td>\n",
       "      <td>0.731865</td>\n",
       "    </tr>\n",
       "    <tr>\n",
       "      <th>31416</th>\n",
       "      <td>72978546</td>\n",
       "      <td>fistful of frags</td>\n",
       "      <td>purchase</td>\n",
       "      <td>1.0</td>\n",
       "      <td>0</td>\n",
       "      <td>1</td>\n",
       "      <td>Fistful of Frags</td>\n",
       "      <td>0.693147</td>\n",
       "      <td>0.959285</td>\n",
       "    </tr>\n",
       "    <tr>\n",
       "      <th>1028</th>\n",
       "      <td>65909415</td>\n",
       "      <td>alan wake</td>\n",
       "      <td>play</td>\n",
       "      <td>14.5</td>\n",
       "      <td>1</td>\n",
       "      <td>1</td>\n",
       "      <td>Alan Wake</td>\n",
       "      <td>2.740840</td>\n",
       "      <td>0.780895</td>\n",
       "    </tr>\n",
       "    <tr>\n",
       "      <th>15140</th>\n",
       "      <td>296979815</td>\n",
       "      <td>counter strike nexon zombies</td>\n",
       "      <td>play</td>\n",
       "      <td>0.5</td>\n",
       "      <td>1</td>\n",
       "      <td>1</td>\n",
       "      <td>Counter-Strike Nexon Zombies</td>\n",
       "      <td>0.405465</td>\n",
       "      <td>0.748528</td>\n",
       "    </tr>\n",
       "    <tr>\n",
       "      <th>191</th>\n",
       "      <td>173453295</td>\n",
       "      <td>7 days to die</td>\n",
       "      <td>play</td>\n",
       "      <td>3.2</td>\n",
       "      <td>1</td>\n",
       "      <td>1</td>\n",
       "      <td>7 Days to Die</td>\n",
       "      <td>1.435085</td>\n",
       "      <td>3.144693</td>\n",
       "    </tr>\n",
       "  </tbody>\n",
       "</table>\n",
       "<p>14326 rows × 9 columns</p>\n",
       "</div>"
      ],
      "text/plain": [
       "         user_id                          name ownership  hours  played  \\\n",
       "36230  167013261                     half life  purchase    1.0       0   \n",
       "62880   71390526     sid meiers civilization 4      play    6.1       1   \n",
       "84068   71777065     wolfenstein the new order      play   29.0       1   \n",
       "61870   43955374           section 8 prejudice      play    5.9       1   \n",
       "42595   31669242                    just cause  purchase    1.0       0   \n",
       "...          ...                           ...       ...    ...     ...   \n",
       "37021   12130111        half life 2 deathmatch  purchase    1.0       0   \n",
       "31416   72978546              fistful of frags  purchase    1.0       0   \n",
       "1028    65909415                     alan wake      play   14.5       1   \n",
       "15140  296979815  counter strike nexon zombies      play    0.5       1   \n",
       "191    173453295                 7 days to die      play    3.2       1   \n",
       "\n",
       "       interacted             name_unnormalized    target  nn_preds  \n",
       "36230           1                     Half-Life  0.693147  0.735151  \n",
       "62880           1   Sid Meier's Civilization IV  1.960095  2.190101  \n",
       "84068           1     Wolfenstein The New Order  3.401197  1.449394  \n",
       "61870           1           Section 8 Prejudice  1.931521  1.718276  \n",
       "42595           1                    Just Cause  0.693147  0.746586  \n",
       "...           ...                           ...       ...       ...  \n",
       "37021           1        Half-Life 2 Deathmatch  0.693147  0.731865  \n",
       "31416           1              Fistful of Frags  0.693147  0.959285  \n",
       "1028            1                     Alan Wake  2.740840  0.780895  \n",
       "15140           1  Counter-Strike Nexon Zombies  0.405465  0.748528  \n",
       "191             1                 7 Days to Die  1.435085  3.144693  \n",
       "\n",
       "[14326 rows x 9 columns]"
      ]
     },
     "execution_count": 37,
     "metadata": {},
     "output_type": "execute_result"
    }
   ],
   "source": [
    "evaluation_df"
   ]
  },
  {
   "cell_type": "code",
   "execution_count": 38,
   "metadata": {},
   "outputs": [
    {
     "data": {
      "text/plain": [
       "36230    0.735151\n",
       "62880    2.190101\n",
       "84068    1.449394\n",
       "61870    1.718276\n",
       "42595    0.746586\n",
       "           ...   \n",
       "37021    0.731865\n",
       "31416    0.959285\n",
       "1028     0.780895\n",
       "15140    0.748528\n",
       "191      3.144693\n",
       "Name: nn_preds, Length: 14326, dtype: float32"
      ]
     },
     "execution_count": 38,
     "metadata": {},
     "output_type": "execute_result"
    }
   ],
   "source": [
    "evaluation_df['nn_preds']"
   ]
  },
  {
   "cell_type": "code",
   "execution_count": 39,
   "metadata": {},
   "outputs": [
    {
     "data": {
      "text/plain": [
       "user_id\n",
       "5250         0.258199\n",
       "76767        0.359092\n",
       "86540       -0.198030\n",
       "103360            NaN\n",
       "144736      -1.000000\n",
       "               ...   \n",
       "303129589    0.866025\n",
       "303525289         NaN\n",
       "304971849    1.000000\n",
       "306547522         NaN\n",
       "309404240         NaN\n",
       "Name: target, Length: 2869, dtype: float64"
      ]
     },
     "execution_count": 39,
     "metadata": {},
     "output_type": "execute_result"
    }
   ],
   "source": [
    "get_prediction_spearman_correlation(evaluation_df['target'], evaluation_df['nn_preds'], evaluation_df['user_id'])"
   ]
  },
  {
   "cell_type": "code",
   "execution_count": 40,
   "metadata": {},
   "outputs": [
    {
     "data": {
      "text/plain": [
       "36230    167013261\n",
       "62880     71390526\n",
       "84068     71777065\n",
       "61870     43955374\n",
       "42595     31669242\n",
       "           ...    \n",
       "37021     12130111\n",
       "31416     72978546\n",
       "1028      65909415\n",
       "15140    296979815\n",
       "191      173453295\n",
       "Name: user_id, Length: 14326, dtype: int64"
      ]
     },
     "execution_count": 40,
     "metadata": {},
     "output_type": "execute_result"
    }
   ],
   "source": [
    "evaluation_df['user_id']"
   ]
  },
  {
   "cell_type": "code",
   "execution_count": 41,
   "metadata": {},
   "outputs": [
    {
     "data": {
      "image/png": "[encoded data removed]",
      "text/plain": [
       "<Figure size 360x360 with 1 Axes>"
      ]
     },
     "metadata": {
      "needs_background": "light"
     },
     "output_type": "display_data"
    },
    {
     "name": "stdout",
     "output_type": "stream",
     "text": [
      "MAE: 0.741\n",
      "MSE: 1.300\n",
      "Implicit feedback MSE loss: 1.950\n"
     ]
    },
    {
     "data": {
      "image/png": "[encoded data removed]",
      "text/plain": [
       "<Figure size 432x288 with 1 Axes>"
      ]
     },
     "metadata": {
      "needs_background": "light"
     },
     "output_type": "display_data"
    },
    {
     "data": {
      "image/png": "[encoded data removed]",
      "text/plain": [
       "<Figure size 432x288 with 1 Axes>"
      ]
     },
     "metadata": {
      "needs_background": "light"
     },
     "output_type": "display_data"
    }
   ],
   "source": [
    "nn_spearman_correlations = summarize_per_user_correlations(\n",
    "    evaluation_df,\n",
    "    'nn_preds',\n",
    "    'target'\n",
    ")"
   ]
  },
  {
   "cell_type": "markdown",
   "metadata": {},
   "source": [
    "# Factorization Machines"
   ]
  },
  {
   "cell_type": "code",
   "execution_count": 42,
   "metadata": {},
   "outputs": [],
   "source": [
    "fm_coltransformer = one_hot_encoder_column_transformer(['user_id', 'name'])"
   ]
  },
  {
   "cell_type": "code",
   "execution_count": 43,
   "metadata": {},
   "outputs": [],
   "source": [
    "X_fm = fm_coltransformer.fit_transform(steam_dataset)\n",
    "X_fm_train = X_fm[labels_train]\n",
    "X_fm_val = X_fm[labels_val]\n",
    "\n",
    "y_train = target.iloc[labels_train]\n",
    "y_val = target.iloc[labels_val]\n",
    "user_id_val = steam_dataset['user_id']"
   ]
  },
  {
   "cell_type": "code",
   "execution_count": 44,
   "metadata": {},
   "outputs": [],
   "source": [
    "def run_fm_experiments(\n",
    "        fm_cls, ranks,\n",
    "        n_iters,\n",
    "        data_train=(X_fm_train, y_train),\n",
    "        data_val=(X_fm_val, y_val, user_id_val),\n",
    "        **kwargs\n",
    "    ):\n",
    "    fm_sgd_results = []\n",
    "    best_model = None\n",
    "    best_corr = 0 \n",
    "    \n",
    "    for (rank, n_iter) in tqdm.tqdm(\n",
    "        itertools.product(ranks, n_iters),\n",
    "        total=len(ranks) * len(n_iters)\n",
    "    ):\n",
    "        init_stdev = kwargs.pop('init_stdev') if  kwargs.get('init_stdev') else 1/rank\n",
    "        fm_model = fm_cls(rank=rank, n_iter=n_iter, init_stdev=1/rank, **kwargs)\n",
    "        fm_model.fit(*data_train)\n",
    "\n",
    "        train_error = metrics.mean_squared_error(data_train[1], fm_model.predict(data_train[0]))\n",
    "        val_error = metrics.mean_squared_error(data_val[1], fm_model.predict(data_val[0]))\n",
    "    \n",
    "        spearman_corr = get_prediction_spearman_correlation(\n",
    "            data_val[1], fm_model.predict(data_val[0]), user_id_val \n",
    "        ).mean()\n",
    "    \n",
    "        fm_sgd_results.append({'n_factors': rank, 'n_iter': n_iter, 'train_error': train_error, 'val_error': val_error, 'val_spearman_correlation': spearman_corr})\n",
    "        if best_corr > spearman_corr or best_model is None:\n",
    "            best_val_error = val_error\n",
    "            best_model = fm_model\n",
    "    return round(pd.DataFrame(fm_sgd_results), 3), fm_model"
   ]
  },
  {
   "cell_type": "code",
   "execution_count": 45,
   "metadata": {},
   "outputs": [
    {
     "name": "stderr",
     "output_type": "stream",
     "text": [
      "100%|██████████| 30/30 [00:59<00:00,  1.98s/it]\n"
     ]
    }
   ],
   "source": [
    "fm_sgd_ranks = [25, 50, 100, 250, 500]\n",
    "fm_sgd_n_iters = range(5000, 10000+ 1, 1000)\n",
    "\n",
    "\n",
    "fm_sgd_results, fm_sgd_model = run_fm_experiments(fastFM.sgd.FMRegression, fm_sgd_ranks, fm_sgd_n_iters, l2_reg=0.1)"
   ]
  },
  {
   "cell_type": "markdown",
   "metadata": {},
   "source": [
    "## runs with n_factors maximizing Spearman correlation "
   ]
  },
  {
   "cell_type": "code",
   "execution_count": 46,
   "metadata": {},
   "outputs": [
    {
     "data": {
      "text/html": [
       "<div>\n",
       "<style scoped>\n",
       "    .dataframe tbody tr th:only-of-type {\n",
       "        vertical-align: middle;\n",
       "    }\n",
       "\n",
       "    .dataframe tbody tr th {\n",
       "        vertical-align: top;\n",
       "    }\n",
       "\n",
       "    .dataframe thead th {\n",
       "        text-align: right;\n",
       "    }\n",
       "</style>\n",
       "<table border=\"1\" class=\"dataframe\">\n",
       "  <thead>\n",
       "    <tr style=\"text-align: right;\">\n",
       "      <th></th>\n",
       "      <th>n_iter</th>\n",
       "      <th>train_error</th>\n",
       "      <th>val_error</th>\n",
       "      <th>val_spearman_correlation</th>\n",
       "    </tr>\n",
       "    <tr>\n",
       "      <th>n_factors</th>\n",
       "      <th></th>\n",
       "      <th></th>\n",
       "      <th></th>\n",
       "      <th></th>\n",
       "    </tr>\n",
       "  </thead>\n",
       "  <tbody>\n",
       "    <tr>\n",
       "      <th>25</th>\n",
       "      <td>8000.0</td>\n",
       "      <td>1.378</td>\n",
       "      <td>1.430</td>\n",
       "      <td>0.319</td>\n",
       "    </tr>\n",
       "    <tr>\n",
       "      <th>50</th>\n",
       "      <td>8000.0</td>\n",
       "      <td>1.380</td>\n",
       "      <td>1.430</td>\n",
       "      <td>0.323</td>\n",
       "    </tr>\n",
       "    <tr>\n",
       "      <th>100</th>\n",
       "      <td>8000.0</td>\n",
       "      <td>1.381</td>\n",
       "      <td>1.431</td>\n",
       "      <td>0.324</td>\n",
       "    </tr>\n",
       "    <tr>\n",
       "      <th>250</th>\n",
       "      <td>8000.0</td>\n",
       "      <td>1.381</td>\n",
       "      <td>1.431</td>\n",
       "      <td>0.324</td>\n",
       "    </tr>\n",
       "    <tr>\n",
       "      <th>500</th>\n",
       "      <td>8000.0</td>\n",
       "      <td>1.381</td>\n",
       "      <td>1.431</td>\n",
       "      <td>0.325</td>\n",
       "    </tr>\n",
       "  </tbody>\n",
       "</table>\n",
       "</div>"
      ],
      "text/plain": [
       "           n_iter  train_error  val_error  val_spearman_correlation\n",
       "n_factors                                                          \n",
       "25         8000.0        1.378      1.430                     0.319\n",
       "50         8000.0        1.380      1.430                     0.323\n",
       "100        8000.0        1.381      1.431                     0.324\n",
       "250        8000.0        1.381      1.431                     0.324\n",
       "500        8000.0        1.381      1.431                     0.325"
      ]
     },
     "execution_count": 46,
     "metadata": {},
     "output_type": "execute_result"
    }
   ],
   "source": [
    "best_n_iter_results_df = pd.DataFrame(fm_sgd_results).groupby('n_factors').agg(lambda df: df[df['val_error'] == df['val_error'].min()].iloc[0])\n",
    "\n",
    "best_n_iter_results_df"
   ]
  },
  {
   "cell_type": "code",
   "execution_count": 47,
   "metadata": {},
   "outputs": [
    {
     "data": {
      "image/png": "[encoded data removed]",
      "text/plain": [
       "<Figure size 432x288 with 1 Axes>"
      ]
     },
     "metadata": {
      "needs_background": "light"
     },
     "output_type": "display_data"
    }
   ],
   "source": [
    "best_n_iter_results_df[['val_error', 'train_error']].plot()\n",
    "plt.axvline(best_n_iter_results_df['val_error'].idxmin() , c='red')\n",
    "plt.xscale('log');"
   ]
  },
  {
   "cell_type": "code",
   "execution_count": 48,
   "metadata": {},
   "outputs": [
    {
     "data": {
      "image/png": "[encoded data removed]",
      "text/plain": [
       "<Figure size 432x288 with 1 Axes>"
      ]
     },
     "metadata": {
      "needs_background": "light"
     },
     "output_type": "display_data"
    }
   ],
   "source": [
    "best_n_iter_results_df[['val_spearman_correlation']].plot()\n",
    "plt.axvline(best_n_iter_results_df['val_spearman_correlation'].idxmax() , c='red')\n",
    "plt.xscale('log');"
   ]
  },
  {
   "cell_type": "code",
   "execution_count": 49,
   "metadata": {},
   "outputs": [
    {
     "data": {
      "image/png": "[encoded data removed]",
      "text/plain": [
       "<Figure size 432x288 with 1 Axes>"
      ]
     },
     "metadata": {
      "needs_background": "light"
     },
     "output_type": "display_data"
    }
   ],
   "source": [
    "for rank in fm_sgd_ranks:\n",
    "    fm_rank_results_df = fm_sgd_results[fm_sgd_results['n_factors'] == rank] \n",
    "    plt.plot(fm_rank_results_df['n_iter'], fm_rank_results_df['val_error'], label=str(rank))\n",
    "    plt.legend()\n",
    "    plt.ylabel('validation MSE')\n",
    "    plt.xlabel('n_iter')"
   ]
  },
  {
   "cell_type": "code",
   "execution_count": 50,
   "metadata": {},
   "outputs": [],
   "source": [
    "fm_sgd_pred = fm_sgd_model.predict(X_fm_val)\n",
    "\n",
    "evaluation_df['fm_sgd_preds'] =  fm_sgd_pred"
   ]
  },
  {
   "cell_type": "code",
   "execution_count": 51,
   "metadata": {},
   "outputs": [
    {
     "data": {
      "image/png": "[encoded data removed]",
      "text/plain": [
       "<Figure size 360x360 with 1 Axes>"
      ]
     },
     "metadata": {
      "needs_background": "light"
     },
     "output_type": "display_data"
    },
    {
     "name": "stdout",
     "output_type": "stream",
     "text": [
      "MAE: 0.850\n",
      "MSE: 1.548\n",
      "Implicit feedback MSE loss: 2.267\n"
     ]
    },
    {
     "data": {
      "image/png": "[encoded data removed]",
      "text/plain": [
       "<Figure size 432x288 with 1 Axes>"
      ]
     },
     "metadata": {
      "needs_background": "light"
     },
     "output_type": "display_data"
    },
    {
     "data": {
      "image/png": "[encoded data removed]",
      "text/plain": [
       "<Figure size 432x288 with 1 Axes>"
      ]
     },
     "metadata": {
      "needs_background": "light"
     },
     "output_type": "display_data"
    }
   ],
   "source": [
    "fm_sgd_spearman_correlations = summarize_per_user_correlations(evaluation_df, 'fm_sgd_preds', 'target')"
   ]
  },
  {
   "cell_type": "markdown",
   "metadata": {},
   "source": [
    "# Factorization machines trained with Alternating Least Squares"
   ]
  },
  {
   "cell_type": "code",
   "execution_count": 52,
   "metadata": {},
   "outputs": [
    {
     "name": "stderr",
     "output_type": "stream",
     "text": [
      "100%|██████████| 20/20 [02:36<00:00,  7.83s/it]\n"
     ]
    }
   ],
   "source": [
    "fm_als_ranks = [5, 25, 50, 100, 250]\n",
    "fm_als_n_iters = [10, 25, 50, 100]#, 100] \n",
    "\n",
    "fm_als_results, fm_als_model = run_fm_experiments(\n",
    "    fastFM.als.FMRegression, fm_als_ranks,\n",
    "    fm_als_n_iters,\n",
    "    l2_reg=25.0\n",
    ")"
   ]
  },
  {
   "cell_type": "code",
   "execution_count": 53,
   "metadata": {},
   "outputs": [
    {
     "data": {
      "text/html": [
       "<div>\n",
       "<style scoped>\n",
       "    .dataframe tbody tr th:only-of-type {\n",
       "        vertical-align: middle;\n",
       "    }\n",
       "\n",
       "    .dataframe tbody tr th {\n",
       "        vertical-align: top;\n",
       "    }\n",
       "\n",
       "    .dataframe thead th {\n",
       "        text-align: right;\n",
       "    }\n",
       "</style>\n",
       "<table border=\"1\" class=\"dataframe\">\n",
       "  <thead>\n",
       "    <tr style=\"text-align: right;\">\n",
       "      <th></th>\n",
       "      <th>n_iter</th>\n",
       "      <th>train_error</th>\n",
       "      <th>val_error</th>\n",
       "      <th>val_spearman_correlation</th>\n",
       "    </tr>\n",
       "    <tr>\n",
       "      <th>n_factors</th>\n",
       "      <th></th>\n",
       "      <th></th>\n",
       "      <th></th>\n",
       "      <th></th>\n",
       "    </tr>\n",
       "  </thead>\n",
       "  <tbody>\n",
       "    <tr>\n",
       "      <th>5</th>\n",
       "      <td>10.0</td>\n",
       "      <td>0.924</td>\n",
       "      <td>1.265</td>\n",
       "      <td>0.362</td>\n",
       "    </tr>\n",
       "    <tr>\n",
       "      <th>25</th>\n",
       "      <td>25.0</td>\n",
       "      <td>0.885</td>\n",
       "      <td>1.262</td>\n",
       "      <td>0.356</td>\n",
       "    </tr>\n",
       "    <tr>\n",
       "      <th>50</th>\n",
       "      <td>25.0</td>\n",
       "      <td>0.885</td>\n",
       "      <td>1.262</td>\n",
       "      <td>0.357</td>\n",
       "    </tr>\n",
       "    <tr>\n",
       "      <th>100</th>\n",
       "      <td>25.0</td>\n",
       "      <td>0.885</td>\n",
       "      <td>1.262</td>\n",
       "      <td>0.357</td>\n",
       "    </tr>\n",
       "    <tr>\n",
       "      <th>250</th>\n",
       "      <td>10.0</td>\n",
       "      <td>0.896</td>\n",
       "      <td>1.264</td>\n",
       "      <td>0.357</td>\n",
       "    </tr>\n",
       "  </tbody>\n",
       "</table>\n",
       "</div>"
      ],
      "text/plain": [
       "           n_iter  train_error  val_error  val_spearman_correlation\n",
       "n_factors                                                          \n",
       "5            10.0        0.924      1.265                     0.362\n",
       "25           25.0        0.885      1.262                     0.356\n",
       "50           25.0        0.885      1.262                     0.357\n",
       "100          25.0        0.885      1.262                     0.357\n",
       "250          10.0        0.896      1.264                     0.357"
      ]
     },
     "execution_count": 53,
     "metadata": {},
     "output_type": "execute_result"
    }
   ],
   "source": [
    "best_n_iter_results_df = pd.DataFrame(fm_als_results).groupby('n_factors').agg(lambda df: df[df['val_spearman_correlation'] == df['val_spearman_correlation'].min()].iloc[0])\n",
    "best_n_iter_results_df"
   ]
  },
  {
   "cell_type": "code",
   "execution_count": 54,
   "metadata": {},
   "outputs": [
    {
     "data": {
      "image/png": "[encoded data removed]",
      "text/plain": [
       "<Figure size 432x288 with 1 Axes>"
      ]
     },
     "metadata": {
      "needs_background": "light"
     },
     "output_type": "display_data"
    }
   ],
   "source": [
    "best_n_iter_results_df[['val_spearman_correlation']].plot()\n",
    "plt.xscale('log');"
   ]
  },
  {
   "cell_type": "code",
   "execution_count": 55,
   "metadata": {},
   "outputs": [
    {
     "data": {
      "text/plain": [
       "[5, 25, 50, 100, 250]"
      ]
     },
     "execution_count": 55,
     "metadata": {},
     "output_type": "execute_result"
    }
   ],
   "source": [
    "fm_als_ranks"
   ]
  },
  {
   "cell_type": "code",
   "execution_count": 56,
   "metadata": {},
   "outputs": [
    {
     "data": {
      "image/png": "[encoded data removed]",
      "text/plain": [
       "<Figure size 432x288 with 1 Axes>"
      ]
     },
     "metadata": {
      "needs_background": "light"
     },
     "output_type": "display_data"
    }
   ],
   "source": [
    "for rank in fm_als_ranks:\n",
    "    fm_rank_results_df = fm_als_results[fm_als_results['n_factors'] == rank] \n",
    "    plt.plot(fm_rank_results_df['n_iter'], fm_rank_results_df['val_error'], label=str(rank))\n",
    "    plt.legend()\n",
    "    plt.ylabel('validation MSE')\n",
    "    plt.xlabel('n_iter')"
   ]
  },
  {
   "cell_type": "code",
   "execution_count": 57,
   "metadata": {},
   "outputs": [],
   "source": [
    "fm_als_pred = fm_als_model.predict(X_fm_val)\n",
    "evaluation_df['fm_als_preds'] =  fm_als_pred"
   ]
  },
  {
   "cell_type": "code",
   "execution_count": 58,
   "metadata": {},
   "outputs": [
    {
     "data": {
      "image/png": "[encoded data removed]",
      "text/plain": [
       "<Figure size 360x360 with 1 Axes>"
      ]
     },
     "metadata": {
      "needs_background": "light"
     },
     "output_type": "display_data"
    },
    {
     "name": "stdout",
     "output_type": "stream",
     "text": [
      "MAE: 0.811\n",
      "MSE: 1.262\n",
      "Implicit feedback MSE loss: 1.893\n"
     ]
    },
    {
     "data": {
      "image/png": "[encoded data removed]",
      "text/plain": [
       "<Figure size 432x288 with 1 Axes>"
      ]
     },
     "metadata": {
      "needs_background": "light"
     },
     "output_type": "display_data"
    },
    {
     "data": {
      "image/png": "[encoded data removed]",
      "text/plain": [
       "<Figure size 432x288 with 1 Axes>"
      ]
     },
     "metadata": {
      "needs_background": "light"
     },
     "output_type": "display_data"
    }
   ],
   "source": [
    "fm_als_spearman_correlations = summarize_per_user_correlations(evaluation_df, 'fm_als_preds', 'target')"
   ]
  },
  {
   "cell_type": "code",
   "execution_count": 73,
   "metadata": {},
   "outputs": [
    {
     "data": {
      "text/plain": [
       "5130"
      ]
     },
     "execution_count": 73,
     "metadata": {},
     "output_type": "execute_result"
    }
   ],
   "source": [
    "steam_dataset['user_id'].nunique() + steam_dataset['name'].nunique()"
   ]
  },
  {
   "cell_type": "code",
   "execution_count": 71,
   "metadata": {},
   "outputs": [
    {
     "data": {
      "text/plain": [
       "2261"
      ]
     },
     "execution_count": 71,
     "metadata": {},
     "output_type": "execute_result"
    }
   ],
   "source": []
  },
  {
   "cell_type": "code",
   "execution_count": 70,
   "metadata": {},
   "outputs": [
    {
     "data": {
      "text/plain": [
       "(250, 5130)"
      ]
     },
     "execution_count": 70,
     "metadata": {},
     "output_type": "execute_result"
    }
   ],
   "source": [
    "fm_als_model.V_.shape"
   ]
  },
  {
   "cell_type": "markdown",
   "metadata": {},
   "source": [
    "# Catboost"
   ]
  },
  {
   "cell_type": "code",
   "execution_count": null,
   "metadata": {},
   "outputs": [],
   "source": [
    "import catboost\n",
    "\n",
    "catboost_model = catboost.CatBoostRegressor(\n",
    "    learning_rate=0.01,\n",
    "    iterations=5000\n",
    ")"
   ]
  },
  {
   "cell_type": "code",
   "execution_count": null,
   "metadata": {},
   "outputs": [],
   "source": [
    "X_catboost = steam_dataset[['user_id', 'name']]\n",
    "X_catboost_train = X_catboost.iloc[labels_train]\n",
    "X_catboost_val = X_catboost.iloc[labels_val]"
   ]
  },
  {
   "cell_type": "code",
   "execution_count": null,
   "metadata": {},
   "outputs": [],
   "source": [
    "catboost_model.fit(\n",
    "    X_catboost_train,\n",
    "    y_train,\n",
    "    eval_set=(X_catboost_val, y_val),\n",
    "    cat_features=['user_id', 'name']\n",
    ")"
   ]
  },
  {
   "cell_type": "code",
   "execution_count": null,
   "metadata": {},
   "outputs": [],
   "source": [
    "catboost_pred = catboost_model.predict(X_catboost_val)\n",
    "evaluation_df['catboost_preds'] =  catboost_pred"
   ]
  },
  {
   "cell_type": "code",
   "execution_count": null,
   "metadata": {},
   "outputs": [],
   "source": [
    "catboost_spearman_correlations = summarize_per_user_correlations(evaluation_df, 'catboost_preds', 'target')"
   ]
  },
  {
   "cell_type": "markdown",
   "metadata": {},
   "source": [
    "# Comparing predictions across models"
   ]
  },
  {
   "cell_type": "code",
   "execution_count": null,
   "metadata": {},
   "outputs": [],
   "source": [
    "sns.heatmap(evaluation_df[[col for col in evaluation_df.columns if col == 'target' or 'pred' in col]].corr(), cmap='gray');"
   ]
  },
  {
   "cell_type": "markdown",
   "metadata": {},
   "source": [
    "# Embarassingly Shallow Autoencoder\n",
    "\n",
    "Model from [Embarrassingly Shallow Autoencoders for Sparse Data](https://arxiv.org/pdf/1905.03375.pdf)"
   ]
  },
  {
   "cell_type": "code",
   "execution_count": null,
   "metadata": {},
   "outputs": [],
   "source": [
    "n_experiments = 10 \n",
    "lambdas = np.logspace(0, 3, n_experiments)\n",
    "losses = np.empty_like(lambdas)"
   ]
  },
  {
   "cell_type": "code",
   "execution_count": null,
   "metadata": {},
   "outputs": [],
   "source": [
    "user_game_matrix_train, user_game_matrix_val = steam_dataset.get_item_user_matrix_train_val_split(\n",
    "    game_dataset,\n",
    "    labels_train,\n",
    "    labels_val\n",
    ")"
   ]
  },
  {
   "cell_type": "code",
   "execution_count": null,
   "metadata": {},
   "outputs": [],
   "source": [
    "for i, lambda_ in tqdm.tqdm(enumerate(lambdas), total=n_experiments):\n",
    "    esa = recommendation.EmbarrasinglyShallowAutoencoder(lambda_)\n",
    "    esa.fit(user_game_matrix_train)\n",
    "    loss = esa.score_reconstruction(user_game_matrix_val.toarray())\n",
    "    losses[i] = loss "
   ]
  },
  {
   "cell_type": "code",
   "execution_count": null,
   "metadata": {},
   "outputs": [],
   "source": [
    "lambdas[losses.argmin()], losses.min()"
   ]
  },
  {
   "cell_type": "code",
   "execution_count": null,
   "metadata": {},
   "outputs": [],
   "source": [
    "i = 10 \n",
    "plt.plot(lambdas, losses)\n",
    "plt.xscale('log');\n",
    "plt.axvline(lambdas[losses.argmin()], c='red')\n",
    "plt.xlabel('l2 regularization strength')\n",
    "plt.ylabel('MSE');"
   ]
  },
  {
   "cell_type": "code",
   "execution_count": null,
   "metadata": {},
   "outputs": [],
   "source": [
    "best_regularization_strength = lambdas[losses.argmin()]\n",
    "esa = recommendation.EmbarrasinglyShallowAutoencoder(best_regularization_strength)\n",
    "esa.fit(user_game_matrix_train)"
   ]
  },
  {
   "cell_type": "code",
   "execution_count": null,
   "metadata": {},
   "outputs": [],
   "source": []
  }
 ],
 "metadata": {
  "kernelspec": {
   "display_name": "ml",
   "language": "python",
   "name": "ml"
  },
  "language_info": {
   "codemirror_mode": {
    "name": "ipython",
    "version": 3
   },
   "file_extension": ".py",
   "mimetype": "text/x-python",
   "name": "python",
   "nbconvert_exporter": "python",
   "pygments_lexer": "ipython3",
   "version": "3.7.7"
  }
 },
 "nbformat": 4,
 "nbformat_minor": 4
}
