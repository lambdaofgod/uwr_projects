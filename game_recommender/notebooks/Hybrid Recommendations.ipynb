{
 "cells": [
  {
   "cell_type": "code",
   "execution_count": 1,
   "metadata": {},
   "outputs": [],
   "source": [
    "#default_exp hybrid"
   ]
  },
  {
   "cell_type": "code",
   "execution_count": 2,
   "metadata": {},
   "outputs": [],
   "source": [
    "#export\n",
    "\n",
    "import os\n",
    "import pickle\n",
    "import attr\n",
    "\n",
    "import pandas as pd\n",
    "import scipy\n",
    "import numpy as np\n",
    "\n",
    "from game_recommender import steam_data, content_based, user_based, evaluation"
   ]
  },
  {
   "cell_type": "code",
   "execution_count": 3,
   "metadata": {},
   "outputs": [
    {
     "name": "stdout",
     "output_type": "stream",
     "text": [
      "/home/kuba/Projects/game_recommender\n"
     ]
    }
   ],
   "source": [
    "%cd .."
   ]
  },
  {
   "cell_type": "code",
   "execution_count": 4,
   "metadata": {},
   "outputs": [],
   "source": [
    "game_dataset = steam_data.get_steam_ratings_dataset()"
   ]
  },
  {
   "cell_type": "code",
   "execution_count": 5,
   "metadata": {},
   "outputs": [],
   "source": [
    "user_based_recommender = user_based.UserBasedRecommender.make_from_steam_ratings('log_hours')\n",
    "content_based_recommender = content_based.ContentBasedRecommender.make_from_steam_metadata()"
   ]
  },
  {
   "cell_type": "code",
   "execution_count": 6,
   "metadata": {},
   "outputs": [],
   "source": [
    "steam_df = steam_data.load_steam_df() "
   ]
  },
  {
   "cell_type": "code",
   "execution_count": 7,
   "metadata": {},
   "outputs": [],
   "source": [
    "chosen_games_substring = 'counter strike'\n",
    "chosen_games_df = steam_data.get_games_by_name(steam_df, chosen_games_substring) "
   ]
  },
  {
   "cell_type": "code",
   "execution_count": 9,
   "metadata": {},
   "outputs": [],
   "source": [
    "user_item_df = game_dataset.get_user_item_df()"
   ]
  },
  {
   "cell_type": "code",
   "execution_count": 10,
   "metadata": {},
   "outputs": [],
   "source": [
    "i = 10\n",
    "user_id = user_based_recommender.user_similarity_searcher.df.iloc[10,0]\n",
    "user_ratings_raw = user_item_df.iloc[10]\n",
    "user_ratings = user_ratings_raw[~user_ratings_raw.isna()]"
   ]
  },
  {
   "cell_type": "code",
   "execution_count": 11,
   "metadata": {},
   "outputs": [
    {
     "data": {
      "text/plain": [
       "world of tanks blitz mmo           1.916409\n",
       "tanki online                       1.738157\n",
       "blockade classic                   1.729970\n",
       "warface                            1.694810\n",
       "planetside 2                       1.357794\n",
       "counter strike source              1.176317\n",
       "post scriptum                      0.961721\n",
       "argo                               0.954355\n",
       "squad                              0.952416\n",
       "black squad                        0.862751\n",
       "arma 2 operation arrowhead         0.795574\n",
       "supreme commander 2                0.760804\n",
       "insurgency                         0.746282\n",
       "rise of liberty                    0.713363\n",
       "unturned                           0.693147\n",
       "counter strike nexon zombies       0.693147\n",
       "raceroom racing experience         0.693147\n",
       "realm of the mad god               0.693147\n",
       "ricochet                           0.693147\n",
       "day of defeat                      0.693147\n",
       "eldevin                            0.693147\n",
       "counter strike global offensive    0.638017\n",
       "left 4 dead                        0.454857\n",
       "counter strike                     0.429304\n",
       "deathmatch classic                 0.424506\n",
       "half life blue shift               0.347381\n",
       "splitgate arena warfare            0.346292\n",
       "call of duty 4 modern warfare      0.341811\n",
       "half life                          0.333497\n",
       "team fortress classic              0.331720\n",
       "half life opposing force           0.292044\n",
       "call of duty modern warfare 2      0.288701\n",
       "day of defeat source               0.262069\n",
       "iracing                            0.256884\n",
       "allods online                      0.252189\n",
       "copa petrobras de marcas           0.246046\n",
       "hero plus                          0.245500\n",
       "nomad                              0.243805\n",
       "assetto corsa competizione         0.243719\n",
       "everquest 2                        0.241492\n",
       "high octane drift                  0.238188\n",
       "fortress forever                   0.236800\n",
       "florensia                          0.232030\n",
       "the fifth day                      0.230969\n",
       "romeros aftermath                  0.227871\n",
       "f1 2017                            0.226609\n",
       "dark war                           0.224587\n",
       "locus solus                        0.223798\n",
       "grid autosport                     0.223239\n",
       "starbreak                          0.222607\n",
       "dtype: float64"
      ]
     },
     "execution_count": 11,
     "metadata": {},
     "output_type": "execute_result"
    }
   ],
   "source": [
    "content_based_recommender.recommend_similar_games(\n",
    "    user_ratings,\n",
    "    n_recommended=50,\n",
    "    n_similar=10\n",
    ")"
   ]
  },
  {
   "cell_type": "code",
   "execution_count": 12,
   "metadata": {},
   "outputs": [
    {
     "data": {
      "text/plain": [
       "name\n",
       "counter strike global offensive      5.171370\n",
       "counter strike                       3.412184\n",
       "call of duty 4 modern warfare        2.518721\n",
       "counter strike nexon zombies         1.188190\n",
       "counter strike source                1.072565\n",
       "team fortress 2                      0.986183\n",
       "dota 2                               0.821021\n",
       "tera                                 0.804729\n",
       "planetside 2                         0.693147\n",
       "eldevin                              0.693147\n",
       "realm of the mad god                 0.693147\n",
       "warface                              0.657366\n",
       "team fortress classic                0.650176\n",
       "half life opposing force             0.650176\n",
       "half life                            0.650176\n",
       "half life blue shift                 0.650176\n",
       "deathmatch classic                   0.637287\n",
       "day of defeat                        0.637287\n",
       "ricochet                             0.637287\n",
       "half life 2 deathmatch               0.629588\n",
       "just cause 2                         0.622983\n",
       "half life 2 episode two              0.608754\n",
       "half life source                     0.608754\n",
       "half life deathmatch source          0.608754\n",
       "portal                               0.608754\n",
       "crysis                               0.608754\n",
       "call of duty black ops 2             0.608754\n",
       "half life 2 episode one              0.608754\n",
       "half life 2                          0.608754\n",
       "left 4 dead                          0.608754\n",
       "crysis warhead                       0.608754\n",
       "unturned                             0.459147\n",
       "day of defeat source                 0.386310\n",
       "portal 2                             0.364421\n",
       "hatred                               0.352644\n",
       "raceroom racing experience           0.336472\n",
       "magicka                              0.302412\n",
       "ftl faster than light                0.000000\n",
       "full mojo rampage                    0.000000\n",
       "full spectrum warrior                0.000000\n",
       "full spectrum warrior ten hammers    0.000000\n",
       "zumas revenge                        0.000000\n",
       "future wars                          0.000000\n",
       "galactic civilizations 3             0.000000\n",
       "frozen synapse prime                 0.000000\n",
       "galaxy on fire 2 full hd             0.000000\n",
       "game dev tycoon                      0.000000\n",
       "game of thrones                      0.000000\n",
       "game tycoon 1.5                      0.000000\n",
       "gameguru                             0.000000\n",
       "dtype: float64"
      ]
     },
     "execution_count": 12,
     "metadata": {},
     "output_type": "execute_result"
    }
   ],
   "source": [
    "user_based_recommender.recommend_games_from_similar_users(user_ratings=user_ratings, n_recommended=50, n_similar=10)"
   ]
  },
  {
   "cell_type": "code",
   "execution_count": 13,
   "metadata": {},
   "outputs": [],
   "source": [
    "#export\n",
    "\n",
    "\n",
    "@attr.s\n",
    "class HybridRecommender:\n",
    "    \n",
    "    content_based_recommender: content_based.ContentBasedRecommender = attr.ib()\n",
    "    user_based_recommender: user_based.UserBasedRecommender = attr.ib()\n",
    "\n",
    "    def get_weighted_recommendations(\n",
    "            self,\n",
    "            user_ratings,\n",
    "            n_recommended,\n",
    "            user_recommendation_weight,\n",
    "            content_recommendation_weight,\n",
    "            mean_content_recommendation_weight,\n",
    "            n_similar_users=10,\n",
    "            n_similar_items=10):\n",
    "    \n",
    "        (\n",
    "            user_based_recommendations,\n",
    "            content_based_recommendations,\n",
    "            mean_content_based_recommendations\n",
    "        ) = self.get_recommendation_groups(\n",
    "            user_ratings,\n",
    "            n_recommended,\n",
    "            n_similar_users,\n",
    "            n_similar_items\n",
    "        )\n",
    "        return self.weigh_recommendations(\n",
    "            [\n",
    "                user_recommendation_weight,\n",
    "                content_recommendation_weight,\n",
    "                mean_content_recommendation_weight\n",
    "            ],\n",
    "            [\n",
    "                user_based_recommendations,\n",
    "                content_based_recommendations,\n",
    "                mean_content_based_recommendations\n",
    "            ],\n",
    "            n_recommended\n",
    "        )\n",
    "    \n",
    "    @classmethod\n",
    "    def weigh_recommendations(\n",
    "            cls,\n",
    "            recommendation_groups,\n",
    "            weights,\n",
    "            n_recommended):\n",
    "        all_recommendations = pd.concat([\n",
    "            weight * recommendations for (weight, recommendations) in zip(weights, recommendation_groups)\n",
    "        ])\n",
    "        deduplicated_recommendations = all_recommendations.groupby(all_recommendations.index).agg('mean')\n",
    "        best_recommendations_indices = deduplicated_recommendations.argsort()[::-1]\n",
    "        return deduplicated_recommendations[best_recommendations_indices[:n_recommended]]\n",
    "        \n",
    "    def get_recommendation_groups(\n",
    "            self,\n",
    "            user_ratings,\n",
    "            n_recommended,\n",
    "            n_similar_users=10,\n",
    "            n_similar_items=10):\n",
    "        user_based_recommendations = self.user_based_recommender.recommend_games_from_similar_users(\n",
    "            user_ratings=user_ratings,\n",
    "            n_recommended=n_recommended,\n",
    "            n_similar=n_similar_users\n",
    "        )\n",
    "        content_based_recommendations = self.content_based_recommender.recommend_similar_games(\n",
    "            user_ratings=user_ratings,\n",
    "            n_similar=n_similar_items,\n",
    "            n_recommended=n_recommended\n",
    "        )\n",
    "        mean_content_based_recommendations = self.content_based_recommender.recommend_mean_similar_games(\n",
    "            user_ratings=user_ratings,\n",
    "            n_similar=n_similar_items,\n",
    "            n_recommended=n_recommended\n",
    "        )\n",
    "        return (\n",
    "            user_based_recommendations,\n",
    "            content_based_recommendations,\n",
    "            mean_content_based_recommendations\n",
    "        )"
   ]
  },
  {
   "cell_type": "code",
   "execution_count": 14,
   "metadata": {},
   "outputs": [],
   "source": [
    "recommender = HybridRecommender(content_based_recommender, user_based_recommender)\n",
    "\n",
    "recommendations = recommender.get_weighted_recommendations(user_ratings, 20, user_recommendation_weight=1, content_recommendation_weight=1, mean_content_recommendation_weight=1)"
   ]
  },
  {
   "cell_type": "code",
   "execution_count": 17,
   "metadata": {},
   "outputs": [
    {
     "data": {
      "text/plain": [
       "0.3"
      ]
     },
     "execution_count": 17,
     "metadata": {},
     "output_type": "execute_result"
    }
   ],
   "source": [
    "evaluation.metrics.get_recall_at(user_ratings, recommendations)"
   ]
  },
  {
   "cell_type": "code",
   "execution_count": 18,
   "metadata": {},
   "outputs": [
    {
     "data": {
      "text/plain": [
       "0.10891622972743417"
      ]
     },
     "execution_count": 18,
     "metadata": {},
     "output_type": "execute_result"
    }
   ],
   "source": [
    "evaluation.metrics.get_correlation(user_ratings, recommendations, method=scipy.stats.kendalltau)"
   ]
  },
  {
   "cell_type": "code",
   "execution_count": null,
   "metadata": {},
   "outputs": [],
   "source": []
  }
 ],
 "metadata": {
  "kernelspec": {
   "display_name": "ml",
   "language": "python",
   "name": "ml"
  },
  "language_info": {
   "codemirror_mode": {
    "name": "ipython",
    "version": 3
   },
   "file_extension": ".py",
   "mimetype": "text/x-python",
   "name": "python",
   "nbconvert_exporter": "python",
   "pygments_lexer": "ipython3",
   "version": "3.7.7"
  }
 },
 "nbformat": 4,
 "nbformat_minor": 4
}
