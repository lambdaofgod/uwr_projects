{
 "cells": [
  {
   "cell_type": "code",
   "execution_count": 1,
   "metadata": {},
   "outputs": [],
   "source": [
    "#default_exp user_based"
   ]
  },
  {
   "cell_type": "code",
   "execution_count": 2,
   "metadata": {},
   "outputs": [],
   "source": [
    "#export\n",
    "\n",
    "import os\n",
    "import pickle\n",
    "import attr\n",
    "\n",
    "import pandas as pd\n",
    "import scipy\n",
    "import numpy as np\n",
    "\n",
    "from game_recommender import steam_data, content_based"
   ]
  },
  {
   "cell_type": "code",
   "execution_count": 3,
   "metadata": {},
   "outputs": [
    {
     "name": "stdout",
     "output_type": "stream",
     "text": [
      "/home/kuba/Projects/game_recommender\n"
     ]
    }
   ],
   "source": [
    "%cd .."
   ]
  },
  {
   "cell_type": "code",
   "execution_count": 4,
   "metadata": {},
   "outputs": [],
   "source": [
    "game_dataset = steam_data.get_steam_ratings_dataset()"
   ]
  },
  {
   "cell_type": "code",
   "execution_count": 7,
   "metadata": {},
   "outputs": [],
   "source": [
    "user_game_matrix = game_dataset.get_user_item_df()\n",
    "steam_ratings_df, target = game_dataset.data, game_dataset.target"
   ]
  },
  {
   "cell_type": "code",
   "execution_count": 8,
   "metadata": {},
   "outputs": [
    {
     "data": {
      "text/html": [
       "<div>\n",
       "<style scoped>\n",
       "    .dataframe tbody tr th:only-of-type {\n",
       "        vertical-align: middle;\n",
       "    }\n",
       "\n",
       "    .dataframe tbody tr th {\n",
       "        vertical-align: top;\n",
       "    }\n",
       "\n",
       "    .dataframe thead th {\n",
       "        text-align: right;\n",
       "    }\n",
       "</style>\n",
       "<table border=\"1\" class=\"dataframe\">\n",
       "  <thead>\n",
       "    <tr style=\"text-align: right;\">\n",
       "      <th></th>\n",
       "      <th>user_id</th>\n",
       "      <th>name</th>\n",
       "      <th>ownership</th>\n",
       "      <th>hours</th>\n",
       "      <th>played</th>\n",
       "      <th>interacted</th>\n",
       "      <th>name_unnormalized</th>\n",
       "    </tr>\n",
       "  </thead>\n",
       "  <tbody>\n",
       "    <tr>\n",
       "      <th>0</th>\n",
       "      <td>11794760</td>\n",
       "      <td>1... 2... 3... kick it drop that beat like an ...</td>\n",
       "      <td>purchase</td>\n",
       "      <td>1.0</td>\n",
       "      <td>0</td>\n",
       "      <td>1</td>\n",
       "      <td>1... 2... 3... KICK IT! (Drop That Beat Like a...</td>\n",
       "    </tr>\n",
       "    <tr>\n",
       "      <th>1</th>\n",
       "      <td>35701646</td>\n",
       "      <td>1... 2... 3... kick it drop that beat like an ...</td>\n",
       "      <td>purchase</td>\n",
       "      <td>1.0</td>\n",
       "      <td>0</td>\n",
       "      <td>1</td>\n",
       "      <td>1... 2... 3... KICK IT! (Drop That Beat Like a...</td>\n",
       "    </tr>\n",
       "    <tr>\n",
       "      <th>2</th>\n",
       "      <td>49893565</td>\n",
       "      <td>1... 2... 3... kick it drop that beat like an ...</td>\n",
       "      <td>play</td>\n",
       "      <td>2.4</td>\n",
       "      <td>1</td>\n",
       "      <td>1</td>\n",
       "      <td>1... 2... 3... KICK IT! (Drop That Beat Like a...</td>\n",
       "    </tr>\n",
       "    <tr>\n",
       "      <th>3</th>\n",
       "      <td>50818751</td>\n",
       "      <td>1... 2... 3... kick it drop that beat like an ...</td>\n",
       "      <td>play</td>\n",
       "      <td>5.0</td>\n",
       "      <td>1</td>\n",
       "      <td>1</td>\n",
       "      <td>1... 2... 3... KICK IT! (Drop That Beat Like a...</td>\n",
       "    </tr>\n",
       "    <tr>\n",
       "      <th>4</th>\n",
       "      <td>58345543</td>\n",
       "      <td>1... 2... 3... kick it drop that beat like an ...</td>\n",
       "      <td>play</td>\n",
       "      <td>11.2</td>\n",
       "      <td>1</td>\n",
       "      <td>1</td>\n",
       "      <td>1... 2... 3... KICK IT! (Drop That Beat Like a...</td>\n",
       "    </tr>\n",
       "    <tr>\n",
       "      <th>...</th>\n",
       "      <td>...</td>\n",
       "      <td>...</td>\n",
       "      <td>...</td>\n",
       "      <td>...</td>\n",
       "      <td>...</td>\n",
       "      <td>...</td>\n",
       "      <td>...</td>\n",
       "    </tr>\n",
       "    <tr>\n",
       "      <th>84293</th>\n",
       "      <td>62985928</td>\n",
       "      <td>zuma deluxe</td>\n",
       "      <td>purchase</td>\n",
       "      <td>1.0</td>\n",
       "      <td>0</td>\n",
       "      <td>1</td>\n",
       "      <td>Zuma Deluxe</td>\n",
       "    </tr>\n",
       "    <tr>\n",
       "      <th>84294</th>\n",
       "      <td>12144171</td>\n",
       "      <td>zumas revenge</td>\n",
       "      <td>play</td>\n",
       "      <td>1.2</td>\n",
       "      <td>1</td>\n",
       "      <td>1</td>\n",
       "      <td>Zuma's Revenge</td>\n",
       "    </tr>\n",
       "    <tr>\n",
       "      <th>84295</th>\n",
       "      <td>59825286</td>\n",
       "      <td>zumas revenge</td>\n",
       "      <td>purchase</td>\n",
       "      <td>1.0</td>\n",
       "      <td>0</td>\n",
       "      <td>1</td>\n",
       "      <td>Zuma's Revenge</td>\n",
       "    </tr>\n",
       "    <tr>\n",
       "      <th>84296</th>\n",
       "      <td>69954842</td>\n",
       "      <td>zumas revenge</td>\n",
       "      <td>play</td>\n",
       "      <td>9.3</td>\n",
       "      <td>1</td>\n",
       "      <td>1</td>\n",
       "      <td>Zuma's Revenge</td>\n",
       "    </tr>\n",
       "    <tr>\n",
       "      <th>84297</th>\n",
       "      <td>110899658</td>\n",
       "      <td>zumas revenge</td>\n",
       "      <td>play</td>\n",
       "      <td>126.0</td>\n",
       "      <td>1</td>\n",
       "      <td>1</td>\n",
       "      <td>Zuma's Revenge</td>\n",
       "    </tr>\n",
       "  </tbody>\n",
       "</table>\n",
       "<p>70499 rows × 7 columns</p>\n",
       "</div>"
      ],
      "text/plain": [
       "         user_id                                               name ownership  \\\n",
       "0       11794760  1... 2... 3... kick it drop that beat like an ...  purchase   \n",
       "1       35701646  1... 2... 3... kick it drop that beat like an ...  purchase   \n",
       "2       49893565  1... 2... 3... kick it drop that beat like an ...      play   \n",
       "3       50818751  1... 2... 3... kick it drop that beat like an ...      play   \n",
       "4       58345543  1... 2... 3... kick it drop that beat like an ...      play   \n",
       "...          ...                                                ...       ...   \n",
       "84293   62985928                                        zuma deluxe  purchase   \n",
       "84294   12144171                                      zumas revenge      play   \n",
       "84295   59825286                                      zumas revenge  purchase   \n",
       "84296   69954842                                      zumas revenge      play   \n",
       "84297  110899658                                      zumas revenge      play   \n",
       "\n",
       "       hours  played  interacted  \\\n",
       "0        1.0       0           1   \n",
       "1        1.0       0           1   \n",
       "2        2.4       1           1   \n",
       "3        5.0       1           1   \n",
       "4       11.2       1           1   \n",
       "...      ...     ...         ...   \n",
       "84293    1.0       0           1   \n",
       "84294    1.2       1           1   \n",
       "84295    1.0       0           1   \n",
       "84296    9.3       1           1   \n",
       "84297  126.0       1           1   \n",
       "\n",
       "                                       name_unnormalized  \n",
       "0      1... 2... 3... KICK IT! (Drop That Beat Like a...  \n",
       "1      1... 2... 3... KICK IT! (Drop That Beat Like a...  \n",
       "2      1... 2... 3... KICK IT! (Drop That Beat Like a...  \n",
       "3      1... 2... 3... KICK IT! (Drop That Beat Like a...  \n",
       "4      1... 2... 3... KICK IT! (Drop That Beat Like a...  \n",
       "...                                                  ...  \n",
       "84293                                        Zuma Deluxe  \n",
       "84294                                     Zuma's Revenge  \n",
       "84295                                     Zuma's Revenge  \n",
       "84296                                     Zuma's Revenge  \n",
       "84297                                     Zuma's Revenge  \n",
       "\n",
       "[70499 rows x 7 columns]"
      ]
     },
     "execution_count": 8,
     "metadata": {},
     "output_type": "execute_result"
    }
   ],
   "source": [
    "steam_ratings_df"
   ]
  },
  {
   "cell_type": "code",
   "execution_count": 9,
   "metadata": {},
   "outputs": [],
   "source": [
    "#export\n",
    "\n",
    "\n",
    "@attr.s\n",
    "class UserBasedRecommender:\n",
    "    \n",
    "    user_similarity_searcher: content_based.SimilaritySearcher = attr.ib()\n",
    "    ratings_matrix = attr.ib()\n",
    "    games = attr.ib()\n",
    "    EPS = 1e-6\n",
    "        \n",
    "    def recommend_games_from_similar_users(\n",
    "            self,\n",
    "            user_id=None,\n",
    "            user_ratings=None,\n",
    "            n_recommended=10,\n",
    "            n_similar=5):\n",
    "        assert not user_id is None or not user_ratings is None, 'Need to specify user id or vector'\n",
    "        if user_id is not None:\n",
    "            similar_users, similarities = self.user_similarity_searcher.find_similar(chosen_items=[user_id], n_similar=n_similar+1)\n",
    "            similar_users = similar_users.iloc[1:]\n",
    "            similarities = similarities.iloc[1:]\n",
    "            mean_similar_users = similar_users.pop('mean').iloc[:n_similar]\n",
    "            mean_similarities = similarities.pop('mean_similarity').iloc[:n_similar]\n",
    "        else:\n",
    "            user_vector = self.get_user_vector(user_ratings)\n",
    "            similar_users, similarities = self.user_similarity_searcher.find_similar(chosen_vectors=user_vector, n_similar=n_similar)\n",
    "            mean_similar_users = similar_users.pop('mean')\n",
    "            mean_similarities = similarities.pop('mean_similarity')\n",
    "        similarities = similarities.values.reshape(-1)\n",
    "        similar_user_idxs = self.user_similarity_searcher.df[self.user_similarity_searcher.df['user_id'].isin(similar_users.values.reshape(-1))].index\n",
    "        similar_users_ratings = self.ratings_matrix[similar_user_idxs]\n",
    "        predicted_ratings_by_user = (np.diag(similarities)) @ similar_users_ratings\n",
    "        \n",
    "        pred_ratings_by_user_sum = (predicted_ratings_by_user > 0).sum(axis=0)\n",
    "        pred_ratings_by_user_sum[pred_ratings_by_user_sum < self.EPS] = 1\n",
    "        predicted_ratings = predicted_ratings_by_user.sum(axis=0) / pred_ratings_by_user_sum\n",
    "        best_rated_games_idxs = predicted_ratings.argsort()[::-1][:n_recommended]\n",
    "        best_rated_games = self.games[best_rated_games_idxs]\n",
    "        return pd.Series(index=best_rated_games, data=predicted_ratings[best_rated_games_idxs])\n",
    "    \n",
    "    @staticmethod\n",
    "    def make_from_ratings(ratings_df, target, target_col):\n",
    "        ratings_df = pd.concat([ratings_df, target], axis=1)\n",
    "        item_user_pivoted_df = ratings_df.pivot_table(index='user_id', columns='name', values=target_col)\n",
    "        user_game_matrix = scipy.sparse.csr_matrix(item_user_pivoted_df.fillna(0))   \n",
    "        user_df = pd.DataFrame({'user_id': item_user_pivoted_df.index})\n",
    "        user_similarity_searcher = content_based.SimilaritySearcher(user_df, user_game_matrix, name_col='user_id')\n",
    "        games = item_user_pivoted_df.columns\n",
    "        return UserBasedRecommender(user_similarity_searcher, user_game_matrix, games)\n",
    "    \n",
    "    @staticmethod\n",
    "    def make_from_steam_ratings(target_col='log_hours'):\n",
    "        game_dataset = steam_data.get_steam_ratings_dataset()\n",
    "        return UserBasedRecommender.make_from_ratings(game_dataset.data, game_dataset.target, target_col)\n",
    "    \n",
    "    def get_user_vector(self, user_ratings):\n",
    "        game_indices = [self.games.get_loc(g) for g in user_ratings.index]\n",
    "        return scipy.sparse.csr_matrix(\n",
    "            (user_ratings.values, (np.zeros(len(game_indices)), game_indices)),\n",
    "            shape=(1,len(self.games))\n",
    "        )"
   ]
  },
  {
   "cell_type": "code",
   "execution_count": 10,
   "metadata": {},
   "outputs": [],
   "source": [
    "user_based_recommender = UserBasedRecommender.make_from_ratings(game_dataset.data, game_dataset.target, 'log_hours')"
   ]
  },
  {
   "cell_type": "code",
   "execution_count": 11,
   "metadata": {},
   "outputs": [
    {
     "data": {
      "text/plain": [
       "(70499, 7)"
      ]
     },
     "execution_count": 11,
     "metadata": {},
     "output_type": "execute_result"
    }
   ],
   "source": [
    "game_dataset.data.shape"
   ]
  },
  {
   "cell_type": "code",
   "execution_count": 12,
   "metadata": {},
   "outputs": [],
   "source": [
    "ratings_df = pd.concat([game_dataset.data, game_dataset.target], axis=1)\n",
    "item_user_pivoted_df = ratings_df.pivot_table(index='user_id', columns='name', values='log_hours')"
   ]
  },
  {
   "cell_type": "code",
   "execution_count": 13,
   "metadata": {},
   "outputs": [],
   "source": [
    "i = 10\n",
    "user_id = user_based_recommender.user_similarity_searcher.df.iloc[10,0]\n",
    "user_ratings = item_user_pivoted_df.iloc[10,:]"
   ]
  },
  {
   "cell_type": "code",
   "execution_count": 14,
   "metadata": {},
   "outputs": [],
   "source": [
    "user_ratings = user_ratings[~user_ratings.isna()]"
   ]
  },
  {
   "cell_type": "code",
   "execution_count": 15,
   "metadata": {},
   "outputs": [
    {
     "data": {
      "text/plain": [
       "19.37043237149426"
      ]
     },
     "execution_count": 15,
     "metadata": {},
     "output_type": "execute_result"
    }
   ],
   "source": [
    "user_based_recommender.ratings_matrix[10].sum()"
   ]
  },
  {
   "cell_type": "code",
   "execution_count": null,
   "metadata": {},
   "outputs": [],
   "source": []
  },
  {
   "cell_type": "code",
   "execution_count": 16,
   "metadata": {},
   "outputs": [
    {
     "data": {
      "text/plain": [
       "name\n",
       "counter strike global offensive    4.570937\n",
       "counter strike                     2.403907\n",
       "counter strike source              0.684478\n",
       "half life 2 deathmatch             0.657027\n",
       "team fortress classic              0.649659\n",
       "half life opposing force           0.649659\n",
       "half life blue shift               0.649659\n",
       "half life                          0.649659\n",
       "ricochet                           0.642990\n",
       "day of defeat                      0.642990\n",
       "dtype: float64"
      ]
     },
     "execution_count": 16,
     "metadata": {},
     "output_type": "execute_result"
    }
   ],
   "source": [
    "recommendations = user_based_recommender.recommend_games_from_similar_users(user_id, n_recommended=10, n_similar=5)\n",
    "recommendations"
   ]
  },
  {
   "cell_type": "code",
   "execution_count": 17,
   "metadata": {},
   "outputs": [
    {
     "data": {
      "text/plain": [
       "name\n",
       "counter strike global offensive    4.866433\n",
       "counter strike                     1.914865\n",
       "planetside 2                       0.693147\n",
       "counter strike nexon zombies       0.693147\n",
       "eldevin                            0.693147\n",
       "realm of the mad god               0.693147\n",
       "counter strike source              0.687834\n",
       "half life opposing force           0.669454\n",
       "half life blue shift               0.669454\n",
       "team fortress classic              0.669454\n",
       "dtype: float64"
      ]
     },
     "execution_count": 17,
     "metadata": {},
     "output_type": "execute_result"
    }
   ],
   "source": [
    "user_based_recommender.recommend_games_from_similar_users(user_ratings=user_ratings, n_recommended=10, n_similar=5)"
   ]
  }
 ],
 "metadata": {
  "kernelspec": {
   "display_name": "ml",
   "language": "python",
   "name": "ml"
  },
  "language_info": {
   "codemirror_mode": {
    "name": "ipython",
    "version": 3
   },
   "file_extension": ".py",
   "mimetype": "text/x-python",
   "name": "python",
   "nbconvert_exporter": "python",
   "pygments_lexer": "ipython3",
   "version": "3.7.7"
  }
 },
 "nbformat": 4,
 "nbformat_minor": 4
}
