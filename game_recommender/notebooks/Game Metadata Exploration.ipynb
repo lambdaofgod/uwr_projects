{
 "cells": [
  {
   "cell_type": "code",
   "execution_count": 1,
   "metadata": {},
   "outputs": [],
   "source": [
    "#default_exp steam_data"
   ]
  },
  {
   "cell_type": "code",
   "execution_count": 2,
   "metadata": {},
   "outputs": [],
   "source": [
    "#export \n",
    "\n",
    "import os\n",
    "import re\n",
    "\n",
    "import scipy\n",
    "import pandas as pd\n",
    "import tqdm\n",
    "\n",
    "from sklearn import compose, feature_extraction, metrics, model_selection\n",
    "from functools import reduce, partial\n",
    "import numpy as np\n",
    "import attr\n",
    "import seaborn as sns\n",
    "import pickle\n",
    "\n",
    "from fuzzywuzzy import fuzz\n",
    "from operator import itemgetter\n",
    "import tqdm"
   ]
  },
  {
   "cell_type": "code",
   "execution_count": 3,
   "metadata": {},
   "outputs": [],
   "source": [
    "#export\n",
    "\n",
    "METACRITIC_GAME_METADATA_PATH = 'data/metacritic-video-game-comments/metacritic_game_info.csv'\n",
    "STEAM_GAME_METADATA_PATH = 'data/steam_games_metadata/steam_games.csv'\n",
    "STEAM_GAME_RATINGS_PATH = 'data/steam-video-games/steam-200k.csv'"
   ]
  },
  {
   "cell_type": "markdown",
   "metadata": {},
   "source": [
    "# Steam data"
   ]
  },
  {
   "cell_type": "code",
   "execution_count": 4,
   "metadata": {},
   "outputs": [
    {
     "name": "stdout",
     "output_type": "stream",
     "text": [
      "/home/kuba/Projects/game_recommender\n"
     ]
    }
   ],
   "source": [
    "%cd .."
   ]
  },
  {
   "cell_type": "code",
   "execution_count": 5,
   "metadata": {},
   "outputs": [
    {
     "name": "stdout",
     "output_type": "stream",
     "text": [
      "steam_games.csv\r\n"
     ]
    }
   ],
   "source": [
    "!ls data/steam_games_metadata/"
   ]
  },
  {
   "cell_type": "code",
   "execution_count": 6,
   "metadata": {},
   "outputs": [
    {
     "name": "stdout",
     "output_type": "stream",
     "text": [
      "steam-200k.csv\r\n"
     ]
    }
   ],
   "source": [
    "!ls data/steam-video-games/"
   ]
  },
  {
   "cell_type": "code",
   "execution_count": 7,
   "metadata": {},
   "outputs": [],
   "source": [
    "raw_steam_df = pd.read_csv(STEAM_GAME_METADATA_PATH)"
   ]
  },
  {
   "cell_type": "markdown",
   "metadata": {},
   "source": [
    "# Preprocessing\n",
    "\n",
    "The two datasets we use:\n",
    "\n",
    "- trolukovich/steam-games-complete-dataset\n",
    "- tamber/steam-video-games\n",
    "\n",
    "Have incompatible names, so we need to normalize them."
   ]
  },
  {
   "cell_type": "code",
   "execution_count": 8,
   "metadata": {},
   "outputs": [],
   "source": [
    "# export\n",
    "\n",
    "characters_replaced_with_space_regex = re.compile('[\\:,®-–\"™]') \n",
    "dropped_patterns_regex = re.compile('beta|demo')\n",
    "\n",
    "\n",
    "def normalize_numerals(name):\n",
    "    normalized_name = name\n",
    "    numeral_patterns = [\n",
    "        ('ii', '2'),\n",
    "        ('iii', '3'),\n",
    "        ('iv', '4'),\n",
    "        ('vi', '6'),\n",
    "        ('v', '5')\n",
    "   ]\n",
    "    for (numeral, normalized_numeral) in numeral_patterns:\n",
    "        numeral_pattern = ' ' + numeral + '($| )'\n",
    "        normalized_numeral_pattern = ' ' + normalized_numeral + '\\\\1'\n",
    "        normalized_name = re.sub(numeral_pattern, normalized_numeral_pattern, normalized_name) \n",
    "    return normalized_name\n",
    "\n",
    "\n",
    "def normalize_name(name):\n",
    "    \n",
    "    name_without_illegal_characters = re.sub(characters_replaced_with_space_regex, ' ', name)\n",
    "    name_without_illegal_characters = re.sub(dropped_patterns_regex, '', name_without_illegal_characters)\n",
    "        \n",
    "    name_without_illegal_characters = (\n",
    "        name_without_illegal_characters\n",
    "        .replace('!', ' ')\n",
    "        .replace('(', ' ')\n",
    "        .replace(')', ' ')\n",
    "        .replace('+', ' ')\n",
    "        .replace('-', ' ')\n",
    "        .replace('&', 'and')\n",
    "        .replace('’', \"'\")\n",
    "        .replace('`', \"'\")\n",
    "        .replace('’', \"'\")\n",
    "        .replace(\"'s\", \"s\")\n",
    "        .replace(\"'t\", 't')\n",
    "        .replace('hd', '')\n",
    "        .replace('gold edition', 'gold')\n",
    "        .replace('gold pack', 'gold')\n",
    "        .replace('osx', '')\n",
    "        .lower()\n",
    "    )\n",
    "    name_without_multiple_whitespaces = re.sub('\\s+', ' ', name_without_illegal_characters)\n",
    "    name_with_normalized_numerals = normalize_numerals(name_without_multiple_whitespaces)\n",
    "    return name_with_normalized_numerals.lower().strip()\n",
    "\n",
    "\n",
    "def normalize_names(name_col):\n",
    "    return name_col.apply(normalize_name)"
   ]
  },
  {
   "cell_type": "code",
   "execution_count": 9,
   "metadata": {},
   "outputs": [],
   "source": [
    "assert normalize_name(\"Sid Meier's Civilization IV\") == 'sid meiers civilization 4'\n",
    "assert normalize_name(\"Sid Meier's Civilization IV Warlords\") == 'sid meiers civilization 4 warlords'"
   ]
  },
  {
   "cell_type": "markdown",
   "metadata": {},
   "source": [
    "# Basic information"
   ]
  },
  {
   "cell_type": "code",
   "execution_count": 10,
   "metadata": {},
   "outputs": [
    {
     "data": {
      "text/html": [
       "<div>\n",
       "<style scoped>\n",
       "    .dataframe tbody tr th:only-of-type {\n",
       "        vertical-align: middle;\n",
       "    }\n",
       "\n",
       "    .dataframe tbody tr th {\n",
       "        vertical-align: top;\n",
       "    }\n",
       "\n",
       "    .dataframe thead th {\n",
       "        text-align: right;\n",
       "    }\n",
       "</style>\n",
       "<table border=\"1\" class=\"dataframe\">\n",
       "  <thead>\n",
       "    <tr style=\"text-align: right;\">\n",
       "      <th></th>\n",
       "      <th>url</th>\n",
       "      <th>types</th>\n",
       "      <th>name</th>\n",
       "      <th>desc_snippet</th>\n",
       "      <th>recent_reviews</th>\n",
       "      <th>all_reviews</th>\n",
       "      <th>release_date</th>\n",
       "      <th>developer</th>\n",
       "      <th>publisher</th>\n",
       "      <th>popular_tags</th>\n",
       "      <th>game_details</th>\n",
       "      <th>languages</th>\n",
       "      <th>achievements</th>\n",
       "      <th>genre</th>\n",
       "      <th>game_description</th>\n",
       "      <th>mature_content</th>\n",
       "      <th>minimum_requirements</th>\n",
       "      <th>recommended_requirements</th>\n",
       "      <th>original_price</th>\n",
       "      <th>discount_price</th>\n",
       "    </tr>\n",
       "  </thead>\n",
       "  <tbody>\n",
       "    <tr>\n",
       "      <th>0</th>\n",
       "      <td>https://store.steampowered.com/app/379720/DOOM/</td>\n",
       "      <td>app</td>\n",
       "      <td>DOOM</td>\n",
       "      <td>Now includes all three premium DLC packs (Unto...</td>\n",
       "      <td>Very Positive,(554),- 89% of the 554 user revi...</td>\n",
       "      <td>Very Positive,(42,550),- 92% of the 42,550 use...</td>\n",
       "      <td>May 12, 2016</td>\n",
       "      <td>id Software</td>\n",
       "      <td>Bethesda Softworks,Bethesda Softworks</td>\n",
       "      <td>FPS,Gore,Action,Demons,Shooter,First-Person,Gr...</td>\n",
       "      <td>Single-player,Multi-player,Co-op,Steam Achieve...</td>\n",
       "      <td>English,French,Italian,German,Spanish - Spain,...</td>\n",
       "      <td>54.0</td>\n",
       "      <td>Action</td>\n",
       "      <td>About This Game Developed by id software, the...</td>\n",
       "      <td>NaN</td>\n",
       "      <td>Minimum:,OS:,Windows 7/8.1/10 (64-bit versions...</td>\n",
       "      <td>Recommended:,OS:,Windows 7/8.1/10 (64-bit vers...</td>\n",
       "      <td>$19.99</td>\n",
       "      <td>$14.99</td>\n",
       "    </tr>\n",
       "    <tr>\n",
       "      <th>1</th>\n",
       "      <td>https://store.steampowered.com/app/578080/PLAY...</td>\n",
       "      <td>app</td>\n",
       "      <td>PLAYERUNKNOWN'S BATTLEGROUNDS</td>\n",
       "      <td>PLAYERUNKNOWN'S BATTLEGROUNDS is a battle roya...</td>\n",
       "      <td>Mixed,(6,214),- 49% of the 6,214 user reviews ...</td>\n",
       "      <td>Mixed,(836,608),- 49% of the 836,608 user revi...</td>\n",
       "      <td>Dec 21, 2017</td>\n",
       "      <td>PUBG Corporation</td>\n",
       "      <td>PUBG Corporation,PUBG Corporation</td>\n",
       "      <td>Survival,Shooter,Multiplayer,Battle Royale,PvP...</td>\n",
       "      <td>Multi-player,Online Multi-Player,Stats</td>\n",
       "      <td>English,Korean,Simplified Chinese,French,Germa...</td>\n",
       "      <td>37.0</td>\n",
       "      <td>Action,Adventure,Massively Multiplayer</td>\n",
       "      <td>About This Game  PLAYERUNKNOWN'S BATTLEGROUND...</td>\n",
       "      <td>Mature Content Description  The developers de...</td>\n",
       "      <td>Minimum:,Requires a 64-bit processor and opera...</td>\n",
       "      <td>Recommended:,Requires a 64-bit processor and o...</td>\n",
       "      <td>$29.99</td>\n",
       "      <td>NaN</td>\n",
       "    </tr>\n",
       "    <tr>\n",
       "      <th>2</th>\n",
       "      <td>https://store.steampowered.com/app/637090/BATT...</td>\n",
       "      <td>app</td>\n",
       "      <td>BATTLETECH</td>\n",
       "      <td>Take command of your own mercenary outfit of '...</td>\n",
       "      <td>Mixed,(166),- 54% of the 166 user reviews in t...</td>\n",
       "      <td>Mostly Positive,(7,030),- 71% of the 7,030 use...</td>\n",
       "      <td>Apr 24, 2018</td>\n",
       "      <td>Harebrained Schemes</td>\n",
       "      <td>Paradox Interactive,Paradox Interactive</td>\n",
       "      <td>Mechs,Strategy,Turn-Based,Turn-Based Tactics,S...</td>\n",
       "      <td>Single-player,Multi-player,Online Multi-Player...</td>\n",
       "      <td>English,French,German,Russian</td>\n",
       "      <td>128.0</td>\n",
       "      <td>Action,Adventure,Strategy</td>\n",
       "      <td>About This Game  From original BATTLETECH/Mec...</td>\n",
       "      <td>NaN</td>\n",
       "      <td>Minimum:,Requires a 64-bit processor and opera...</td>\n",
       "      <td>Recommended:,Requires a 64-bit processor and o...</td>\n",
       "      <td>$39.99</td>\n",
       "      <td>NaN</td>\n",
       "    </tr>\n",
       "    <tr>\n",
       "      <th>3</th>\n",
       "      <td>https://store.steampowered.com/app/221100/DayZ/</td>\n",
       "      <td>app</td>\n",
       "      <td>DayZ</td>\n",
       "      <td>The post-soviet country of Chernarus is struck...</td>\n",
       "      <td>Mixed,(932),- 57% of the 932 user reviews in t...</td>\n",
       "      <td>Mixed,(167,115),- 61% of the 167,115 user revi...</td>\n",
       "      <td>Dec 13, 2018</td>\n",
       "      <td>Bohemia Interactive</td>\n",
       "      <td>Bohemia Interactive,Bohemia Interactive</td>\n",
       "      <td>Survival,Zombies,Open World,Multiplayer,PvP,Ma...</td>\n",
       "      <td>Multi-player,Online Multi-Player,Steam Worksho...</td>\n",
       "      <td>English,French,Italian,German,Spanish - Spain,...</td>\n",
       "      <td>NaN</td>\n",
       "      <td>Action,Adventure,Massively Multiplayer</td>\n",
       "      <td>About This Game The post-soviet country of Ch...</td>\n",
       "      <td>NaN</td>\n",
       "      <td>Minimum:,OS:,Windows 7/8.1 64-bit,Processor:,I...</td>\n",
       "      <td>Recommended:,OS:,Windows 10 64-bit,Processor:,...</td>\n",
       "      <td>$44.99</td>\n",
       "      <td>NaN</td>\n",
       "    </tr>\n",
       "    <tr>\n",
       "      <th>4</th>\n",
       "      <td>https://store.steampowered.com/app/8500/EVE_On...</td>\n",
       "      <td>app</td>\n",
       "      <td>EVE Online</td>\n",
       "      <td>EVE Online is a community-driven spaceship MMO...</td>\n",
       "      <td>Mixed,(287),- 54% of the 287 user reviews in t...</td>\n",
       "      <td>Mostly Positive,(11,481),- 74% of the 11,481 u...</td>\n",
       "      <td>May 6, 2003</td>\n",
       "      <td>CCP</td>\n",
       "      <td>CCP,CCP</td>\n",
       "      <td>Space,Massively Multiplayer,Sci-fi,Sandbox,MMO...</td>\n",
       "      <td>Multi-player,Online Multi-Player,MMO,Co-op,Onl...</td>\n",
       "      <td>English,German,Russian,French</td>\n",
       "      <td>NaN</td>\n",
       "      <td>Action,Free to Play,Massively Multiplayer,RPG,...</td>\n",
       "      <td>About This Game</td>\n",
       "      <td>NaN</td>\n",
       "      <td>Minimum:,OS:,Windows 7,Processor:,Intel Dual C...</td>\n",
       "      <td>Recommended:,OS:,Windows 10,Processor:,Intel i...</td>\n",
       "      <td>Free</td>\n",
       "      <td>NaN</td>\n",
       "    </tr>\n",
       "  </tbody>\n",
       "</table>\n",
       "</div>"
      ],
      "text/plain": [
       "                                                 url types  \\\n",
       "0    https://store.steampowered.com/app/379720/DOOM/   app   \n",
       "1  https://store.steampowered.com/app/578080/PLAY...   app   \n",
       "2  https://store.steampowered.com/app/637090/BATT...   app   \n",
       "3    https://store.steampowered.com/app/221100/DayZ/   app   \n",
       "4  https://store.steampowered.com/app/8500/EVE_On...   app   \n",
       "\n",
       "                            name  \\\n",
       "0                           DOOM   \n",
       "1  PLAYERUNKNOWN'S BATTLEGROUNDS   \n",
       "2                     BATTLETECH   \n",
       "3                           DayZ   \n",
       "4                     EVE Online   \n",
       "\n",
       "                                        desc_snippet  \\\n",
       "0  Now includes all three premium DLC packs (Unto...   \n",
       "1  PLAYERUNKNOWN'S BATTLEGROUNDS is a battle roya...   \n",
       "2  Take command of your own mercenary outfit of '...   \n",
       "3  The post-soviet country of Chernarus is struck...   \n",
       "4  EVE Online is a community-driven spaceship MMO...   \n",
       "\n",
       "                                      recent_reviews  \\\n",
       "0  Very Positive,(554),- 89% of the 554 user revi...   \n",
       "1  Mixed,(6,214),- 49% of the 6,214 user reviews ...   \n",
       "2  Mixed,(166),- 54% of the 166 user reviews in t...   \n",
       "3  Mixed,(932),- 57% of the 932 user reviews in t...   \n",
       "4  Mixed,(287),- 54% of the 287 user reviews in t...   \n",
       "\n",
       "                                         all_reviews  release_date  \\\n",
       "0  Very Positive,(42,550),- 92% of the 42,550 use...  May 12, 2016   \n",
       "1  Mixed,(836,608),- 49% of the 836,608 user revi...  Dec 21, 2017   \n",
       "2  Mostly Positive,(7,030),- 71% of the 7,030 use...  Apr 24, 2018   \n",
       "3  Mixed,(167,115),- 61% of the 167,115 user revi...  Dec 13, 2018   \n",
       "4  Mostly Positive,(11,481),- 74% of the 11,481 u...   May 6, 2003   \n",
       "\n",
       "             developer                                publisher  \\\n",
       "0          id Software    Bethesda Softworks,Bethesda Softworks   \n",
       "1     PUBG Corporation        PUBG Corporation,PUBG Corporation   \n",
       "2  Harebrained Schemes  Paradox Interactive,Paradox Interactive   \n",
       "3  Bohemia Interactive  Bohemia Interactive,Bohemia Interactive   \n",
       "4                  CCP                                  CCP,CCP   \n",
       "\n",
       "                                        popular_tags  \\\n",
       "0  FPS,Gore,Action,Demons,Shooter,First-Person,Gr...   \n",
       "1  Survival,Shooter,Multiplayer,Battle Royale,PvP...   \n",
       "2  Mechs,Strategy,Turn-Based,Turn-Based Tactics,S...   \n",
       "3  Survival,Zombies,Open World,Multiplayer,PvP,Ma...   \n",
       "4  Space,Massively Multiplayer,Sci-fi,Sandbox,MMO...   \n",
       "\n",
       "                                        game_details  \\\n",
       "0  Single-player,Multi-player,Co-op,Steam Achieve...   \n",
       "1             Multi-player,Online Multi-Player,Stats   \n",
       "2  Single-player,Multi-player,Online Multi-Player...   \n",
       "3  Multi-player,Online Multi-Player,Steam Worksho...   \n",
       "4  Multi-player,Online Multi-Player,MMO,Co-op,Onl...   \n",
       "\n",
       "                                           languages  achievements  \\\n",
       "0  English,French,Italian,German,Spanish - Spain,...          54.0   \n",
       "1  English,Korean,Simplified Chinese,French,Germa...          37.0   \n",
       "2                      English,French,German,Russian         128.0   \n",
       "3  English,French,Italian,German,Spanish - Spain,...           NaN   \n",
       "4                      English,German,Russian,French           NaN   \n",
       "\n",
       "                                               genre  \\\n",
       "0                                             Action   \n",
       "1             Action,Adventure,Massively Multiplayer   \n",
       "2                          Action,Adventure,Strategy   \n",
       "3             Action,Adventure,Massively Multiplayer   \n",
       "4  Action,Free to Play,Massively Multiplayer,RPG,...   \n",
       "\n",
       "                                    game_description  \\\n",
       "0   About This Game Developed by id software, the...   \n",
       "1   About This Game  PLAYERUNKNOWN'S BATTLEGROUND...   \n",
       "2   About This Game  From original BATTLETECH/Mec...   \n",
       "3   About This Game The post-soviet country of Ch...   \n",
       "4                                  About This Game     \n",
       "\n",
       "                                      mature_content  \\\n",
       "0                                                NaN   \n",
       "1   Mature Content Description  The developers de...   \n",
       "2                                                NaN   \n",
       "3                                                NaN   \n",
       "4                                                NaN   \n",
       "\n",
       "                                minimum_requirements  \\\n",
       "0  Minimum:,OS:,Windows 7/8.1/10 (64-bit versions...   \n",
       "1  Minimum:,Requires a 64-bit processor and opera...   \n",
       "2  Minimum:,Requires a 64-bit processor and opera...   \n",
       "3  Minimum:,OS:,Windows 7/8.1 64-bit,Processor:,I...   \n",
       "4  Minimum:,OS:,Windows 7,Processor:,Intel Dual C...   \n",
       "\n",
       "                            recommended_requirements original_price  \\\n",
       "0  Recommended:,OS:,Windows 7/8.1/10 (64-bit vers...         $19.99   \n",
       "1  Recommended:,Requires a 64-bit processor and o...         $29.99   \n",
       "2  Recommended:,Requires a 64-bit processor and o...         $39.99   \n",
       "3  Recommended:,OS:,Windows 10 64-bit,Processor:,...         $44.99   \n",
       "4  Recommended:,OS:,Windows 10,Processor:,Intel i...           Free   \n",
       "\n",
       "  discount_price  \n",
       "0         $14.99  \n",
       "1            NaN  \n",
       "2            NaN  \n",
       "3            NaN  \n",
       "4            NaN  "
      ]
     },
     "execution_count": 10,
     "metadata": {},
     "output_type": "execute_result"
    }
   ],
   "source": [
    "raw_steam_df.head()"
   ]
  },
  {
   "cell_type": "code",
   "execution_count": 11,
   "metadata": {},
   "outputs": [
    {
     "name": "stdout",
     "output_type": "stream",
     "text": [
      "<class 'pandas.core.frame.DataFrame'>\n",
      "RangeIndex: 40833 entries, 0 to 40832\n",
      "Data columns (total 20 columns):\n",
      "url                         40833 non-null object\n",
      "types                       40831 non-null object\n",
      "name                        40817 non-null object\n",
      "desc_snippet                27612 non-null object\n",
      "recent_reviews              2706 non-null object\n",
      "all_reviews                 28470 non-null object\n",
      "release_date                37654 non-null object\n",
      "developer                   40490 non-null object\n",
      "publisher                   35733 non-null object\n",
      "popular_tags                37888 non-null object\n",
      "game_details                40313 non-null object\n",
      "languages                   40797 non-null object\n",
      "achievements                12194 non-null float64\n",
      "genre                       40395 non-null object\n",
      "game_description            37920 non-null object\n",
      "mature_content              2897 non-null object\n",
      "minimum_requirements        21069 non-null object\n",
      "recommended_requirements    21075 non-null object\n",
      "original_price              35522 non-null object\n",
      "discount_price              14543 non-null object\n",
      "dtypes: float64(1), object(19)\n",
      "memory usage: 6.2+ MB\n"
     ]
    }
   ],
   "source": [
    "raw_steam_df.info()"
   ]
  },
  {
   "cell_type": "markdown",
   "metadata": {},
   "source": [
    "# Content without names\n",
    "\n",
    "These correspond to steam product bundles. These aren't really games so we drop them. "
   ]
  },
  {
   "cell_type": "code",
   "execution_count": 12,
   "metadata": {},
   "outputs": [
    {
     "data": {
      "text/html": [
       "<div>\n",
       "<style scoped>\n",
       "    .dataframe tbody tr th:only-of-type {\n",
       "        vertical-align: middle;\n",
       "    }\n",
       "\n",
       "    .dataframe tbody tr th {\n",
       "        vertical-align: top;\n",
       "    }\n",
       "\n",
       "    .dataframe thead th {\n",
       "        text-align: right;\n",
       "    }\n",
       "</style>\n",
       "<table border=\"1\" class=\"dataframe\">\n",
       "  <thead>\n",
       "    <tr style=\"text-align: right;\">\n",
       "      <th></th>\n",
       "      <th>url</th>\n",
       "      <th>types</th>\n",
       "      <th>name</th>\n",
       "      <th>desc_snippet</th>\n",
       "      <th>recent_reviews</th>\n",
       "      <th>all_reviews</th>\n",
       "      <th>release_date</th>\n",
       "      <th>developer</th>\n",
       "      <th>publisher</th>\n",
       "      <th>popular_tags</th>\n",
       "      <th>game_details</th>\n",
       "      <th>languages</th>\n",
       "      <th>achievements</th>\n",
       "      <th>genre</th>\n",
       "      <th>game_description</th>\n",
       "      <th>mature_content</th>\n",
       "      <th>minimum_requirements</th>\n",
       "      <th>recommended_requirements</th>\n",
       "      <th>original_price</th>\n",
       "      <th>discount_price</th>\n",
       "    </tr>\n",
       "  </thead>\n",
       "  <tbody>\n",
       "    <tr>\n",
       "      <th>704</th>\n",
       "      <td>https://store.steampowered.com/</td>\n",
       "      <td>NaN</td>\n",
       "      <td>NaN</td>\n",
       "      <td>NaN</td>\n",
       "      <td>NaN</td>\n",
       "      <td>NaN</td>\n",
       "      <td>NaN</td>\n",
       "      <td>NaN</td>\n",
       "      <td>NaN</td>\n",
       "      <td>NaN</td>\n",
       "      <td>NaN</td>\n",
       "      <td>NaN</td>\n",
       "      <td>NaN</td>\n",
       "      <td>NaN</td>\n",
       "      <td>NaN</td>\n",
       "      <td>NaN</td>\n",
       "      <td>NaN</td>\n",
       "      <td>NaN</td>\n",
       "      <td>$29.99</td>\n",
       "      <td>$23.99</td>\n",
       "    </tr>\n",
       "    <tr>\n",
       "      <th>4847</th>\n",
       "      <td>https://store.steampowered.com/bundle/6191/The...</td>\n",
       "      <td>app</td>\n",
       "      <td>NaN</td>\n",
       "      <td>NaN</td>\n",
       "      <td>NaN</td>\n",
       "      <td>NaN</td>\n",
       "      <td>NaN</td>\n",
       "      <td>NaN</td>\n",
       "      <td>NaN</td>\n",
       "      <td>NaN</td>\n",
       "      <td>NaN</td>\n",
       "      <td>NaN</td>\n",
       "      <td>NaN</td>\n",
       "      <td>NaN</td>\n",
       "      <td>About this bundle  Get all extra characters i...</td>\n",
       "      <td>NaN</td>\n",
       "      <td>NaN</td>\n",
       "      <td>NaN</td>\n",
       "      <td>NaN</td>\n",
       "      <td>$18.84</td>\n",
       "    </tr>\n",
       "    <tr>\n",
       "      <th>6381</th>\n",
       "      <td>https://store.steampowered.com/bundle/7125/Fac...</td>\n",
       "      <td>app</td>\n",
       "      <td>NaN</td>\n",
       "      <td>NaN</td>\n",
       "      <td>NaN</td>\n",
       "      <td>NaN</td>\n",
       "      <td>NaN</td>\n",
       "      <td>NaN</td>\n",
       "      <td>NaN</td>\n",
       "      <td>NaN</td>\n",
       "      <td>NaN</td>\n",
       "      <td>NaN</td>\n",
       "      <td>NaN</td>\n",
       "      <td>NaN</td>\n",
       "      <td>About this bundle  This bundle contains  thre...</td>\n",
       "      <td>NaN</td>\n",
       "      <td>NaN</td>\n",
       "      <td>NaN</td>\n",
       "      <td>NaN</td>\n",
       "      <td>$2.67</td>\n",
       "    </tr>\n",
       "    <tr>\n",
       "      <th>7869</th>\n",
       "      <td>https://store.steampowered.com/bundle/10241/Da...</td>\n",
       "      <td>app</td>\n",
       "      <td>NaN</td>\n",
       "      <td>NaN</td>\n",
       "      <td>NaN</td>\n",
       "      <td>NaN</td>\n",
       "      <td>NaN</td>\n",
       "      <td>NaN</td>\n",
       "      <td>NaN</td>\n",
       "      <td>NaN</td>\n",
       "      <td>NaN</td>\n",
       "      <td>NaN</td>\n",
       "      <td>NaN</td>\n",
       "      <td>NaN</td>\n",
       "      <td>NaN</td>\n",
       "      <td>NaN</td>\n",
       "      <td>NaN</td>\n",
       "      <td>NaN</td>\n",
       "      <td>NaN</td>\n",
       "      <td>$53.96</td>\n",
       "    </tr>\n",
       "    <tr>\n",
       "      <th>9615</th>\n",
       "      <td>https://store.steampowered.com/bundle/8069/Hap...</td>\n",
       "      <td>app</td>\n",
       "      <td>NaN</td>\n",
       "      <td>NaN</td>\n",
       "      <td>NaN</td>\n",
       "      <td>NaN</td>\n",
       "      <td>NaN</td>\n",
       "      <td>NaN</td>\n",
       "      <td>NaN</td>\n",
       "      <td>NaN</td>\n",
       "      <td>NaN</td>\n",
       "      <td>NaN</td>\n",
       "      <td>NaN</td>\n",
       "      <td>NaN</td>\n",
       "      <td>About this bundle  Happy Bat VR Bundle contai...</td>\n",
       "      <td>NaN</td>\n",
       "      <td>NaN</td>\n",
       "      <td>NaN</td>\n",
       "      <td>NaN</td>\n",
       "      <td>$11.03</td>\n",
       "    </tr>\n",
       "  </tbody>\n",
       "</table>\n",
       "</div>"
      ],
      "text/plain": [
       "                                                    url types name  \\\n",
       "704                     https://store.steampowered.com/   NaN  NaN   \n",
       "4847  https://store.steampowered.com/bundle/6191/The...   app  NaN   \n",
       "6381  https://store.steampowered.com/bundle/7125/Fac...   app  NaN   \n",
       "7869  https://store.steampowered.com/bundle/10241/Da...   app  NaN   \n",
       "9615  https://store.steampowered.com/bundle/8069/Hap...   app  NaN   \n",
       "\n",
       "     desc_snippet recent_reviews all_reviews release_date developer publisher  \\\n",
       "704           NaN            NaN         NaN          NaN       NaN       NaN   \n",
       "4847          NaN            NaN         NaN          NaN       NaN       NaN   \n",
       "6381          NaN            NaN         NaN          NaN       NaN       NaN   \n",
       "7869          NaN            NaN         NaN          NaN       NaN       NaN   \n",
       "9615          NaN            NaN         NaN          NaN       NaN       NaN   \n",
       "\n",
       "     popular_tags game_details languages  achievements genre  \\\n",
       "704           NaN          NaN       NaN           NaN   NaN   \n",
       "4847          NaN          NaN       NaN           NaN   NaN   \n",
       "6381          NaN          NaN       NaN           NaN   NaN   \n",
       "7869          NaN          NaN       NaN           NaN   NaN   \n",
       "9615          NaN          NaN       NaN           NaN   NaN   \n",
       "\n",
       "                                       game_description mature_content  \\\n",
       "704                                                 NaN            NaN   \n",
       "4847   About this bundle  Get all extra characters i...            NaN   \n",
       "6381   About this bundle  This bundle contains  thre...            NaN   \n",
       "7869                                                NaN            NaN   \n",
       "9615   About this bundle  Happy Bat VR Bundle contai...            NaN   \n",
       "\n",
       "     minimum_requirements recommended_requirements original_price  \\\n",
       "704                   NaN                      NaN         $29.99   \n",
       "4847                  NaN                      NaN            NaN   \n",
       "6381                  NaN                      NaN            NaN   \n",
       "7869                  NaN                      NaN            NaN   \n",
       "9615                  NaN                      NaN            NaN   \n",
       "\n",
       "     discount_price  \n",
       "704          $23.99  \n",
       "4847         $18.84  \n",
       "6381          $2.67  \n",
       "7869         $53.96  \n",
       "9615         $11.03  "
      ]
     },
     "execution_count": 12,
     "metadata": {},
     "output_type": "execute_result"
    }
   ],
   "source": [
    "raw_steam_df[raw_steam_df['name'].isna()].head()"
   ]
  },
  {
   "cell_type": "markdown",
   "metadata": {},
   "source": [
    "# Data cleaning\n",
    "\n",
    "We remove entries that have a null in any of interesting fields"
   ]
  },
  {
   "cell_type": "code",
   "execution_count": 13,
   "metadata": {},
   "outputs": [],
   "source": [
    "#export\n",
    "\n",
    "def clean_steam_df(raw_steam_df):\n",
    "    text_columns = [\n",
    "        'name',\n",
    "        'game_description',\n",
    "        'game_details',\n",
    "        'popular_tags',\n",
    "        'desc_snippet',\n",
    "        'genre'\n",
    "    ]\n",
    "    invalid_indices = reduce(\n",
    "        lambda s1, s2: s1 | s2,\n",
    "        [raw_steam_df[c].isna() for c in text_columns])\n",
    "\n",
    "\n",
    "    tag_cols = ['popular_tags', 'game_details', 'genre']\n",
    "\n",
    "    steam_df = raw_steam_df.copy()[~invalid_indices]\n",
    "    steam_df.index = pd.RangeIndex(0, len(steam_df))\n",
    "    for c in tag_cols:\n",
    "        steam_df[c] = steam_df[c].str.lower()\n",
    "        \n",
    "    steam_df['name_unnormalized'] = steam_df['name']\n",
    "    steam_df['name'] = normalize_names(steam_df['name'])\n",
    "    return steam_df\n",
    "\n",
    "\n",
    "def load_steam_df(steam_games_metadata_path=STEAM_GAME_METADATA_PATH):\n",
    "    return clean_steam_df(pd.read_csv(steam_games_metadata_path))\n",
    "\n",
    "\n",
    "def get_games_by_name(steam_df, substr):\n",
    "    game_names = steam_df['name'][steam_df['name'].str.contains(substr)]\n",
    "    return steam_df[steam_df['name'].isin(game_names)]\n"
   ]
  },
  {
   "cell_type": "code",
   "execution_count": 14,
   "metadata": {},
   "outputs": [],
   "source": [
    "steam_df = load_steam_df() "
   ]
  },
  {
   "cell_type": "code",
   "execution_count": 15,
   "metadata": {},
   "outputs": [
    {
     "data": {
      "text/plain": [
       "0                                 doom\n",
       "1        playerunknown's battlegrounds\n",
       "2                           battletech\n",
       "3                                 dayz\n",
       "4                           eve online\n",
       "                     ...              \n",
       "24205                      gamers club\n",
       "24206                           gravia\n",
       "24207                         galactis\n",
       "24208                            alive\n",
       "24209                 stories in stone\n",
       "Name: name, Length: 24210, dtype: object"
      ]
     },
     "execution_count": 15,
     "metadata": {},
     "output_type": "execute_result"
    }
   ],
   "source": [
    "steam_df['name']"
   ]
  },
  {
   "cell_type": "code",
   "execution_count": 16,
   "metadata": {},
   "outputs": [],
   "source": [
    "chosen_games_substring = 's.t.a.l.k'"
   ]
  },
  {
   "cell_type": "code",
   "execution_count": 17,
   "metadata": {},
   "outputs": [],
   "source": [
    "chosen_games_df = get_games_by_name(steam_df, chosen_games_substring) "
   ]
  },
  {
   "cell_type": "code",
   "execution_count": 18,
   "metadata": {},
   "outputs": [
    {
     "data": {
      "text/plain": [
       "376     s.t.a.l.k.e.r. shadow of chernobyl\n",
       "1276        s.t.a.l.k.e.r. call of pripyat\n",
       "7253              s.t.a.l.k.e.r. clear sky\n",
       "Name: name, dtype: object"
      ]
     },
     "execution_count": 18,
     "metadata": {},
     "output_type": "execute_result"
    }
   ],
   "source": [
    "chosen_games_df['name']"
   ]
  },
  {
   "cell_type": "code",
   "execution_count": 19,
   "metadata": {},
   "outputs": [
    {
     "data": {
      "text/plain": [
       "'atmospheric,post-apocalyptic,open world,fps,survival,masterpiece,action,rpg,survival horror,shooter,horror,first-person,singleplayer,classic,based on a novel,moddable,adventure,sci-fi,inventory management,difficult'"
      ]
     },
     "execution_count": 19,
     "metadata": {},
     "output_type": "execute_result"
    }
   ],
   "source": [
    "chosen_games_df.iloc[0]['popular_tags']"
   ]
  },
  {
   "cell_type": "code",
   "execution_count": 20,
   "metadata": {},
   "outputs": [
    {
     "data": {
      "text/plain": [
       "'single-player,multi-player'"
      ]
     },
     "execution_count": 20,
     "metadata": {},
     "output_type": "execute_result"
    }
   ],
   "source": [
    "chosen_games_df.iloc[0]['game_details']"
   ]
  },
  {
   "cell_type": "code",
   "execution_count": 21,
   "metadata": {},
   "outputs": [
    {
     "data": {
      "text/plain": [
       "'action,rpg'"
      ]
     },
     "execution_count": 21,
     "metadata": {},
     "output_type": "execute_result"
    }
   ],
   "source": [
    "chosen_games_df.iloc[0]['genre']"
   ]
  },
  {
   "cell_type": "code",
   "execution_count": 22,
   "metadata": {},
   "outputs": [
    {
     "data": {
      "text/plain": [
       "\" About This Game In 1986, the world's worst nuclear disaster occurred at the Chernobyl Nuclear Power Plant. Soviet authorities established an 'Exclusion Zone' around, but a second explosion hit the reactor in 2006, creating The Zone as we know it – dangerous place, filled with mutated creatures, deadly radiation, and a strange, anomalous energy. The Zone was cordoned off by the military, who would shoot on sight anyone foolish enough to get inside.  Year 2012. The Zone is still a dangerous place and a threat to all mankind. Mercenaries, bounty hunters and explorers ventured further and further into the heart of the Zone driven by reports of strange 'artifacts' imbued with anomalous energy. To sell them on the black market or trying to find the 'truth' behind the Zone. Whatever their motivation, over time these individuals - Scavengers, Trespassers, Adventurers, Loners, Killers, Explorers and Robbers - have become known as S.T.A.L.K.E.R.s.  You will have to find your own way to survive in the Zone!  An immersive storyline, seamlessly blended with a living, breathing, non-linear open-world environment. An accurately modeled real-world buildings and locations from deep inside of the Chernobyl Exclusion Zone. Unique 'Survival FPS' gameplay, which combines action, stealth, survival and RPG elements - to create an incomparable experience in the Zone. Enemy Threat Evaluation AI system - NPC characters react to changes in environments and situations. Realistic combat mechanics with accurate ballistic properties. Dynamic day-night cycle and weather system, that directly impacts gameplay. Advanced physics and dynamic lighting effects powered by the 'X-Ray Engine'. Intense multiplayer action, supporting up to 32 players. \""
      ]
     },
     "execution_count": 22,
     "metadata": {},
     "output_type": "execute_result"
    }
   ],
   "source": [
    "chosen_games_df['game_description'].iloc[0]"
   ]
  },
  {
   "cell_type": "code",
   "execution_count": 23,
   "metadata": {},
   "outputs": [
    {
     "data": {
      "text/plain": [
       "'atmospheric,post-apocalyptic,open world,fps,survival,masterpiece,action,rpg,survival horror,shooter,horror,first-person,singleplayer,classic,based on a novel,moddable,adventure,sci-fi,inventory management,difficult'"
      ]
     },
     "execution_count": 23,
     "metadata": {},
     "output_type": "execute_result"
    }
   ],
   "source": [
    "chosen_games_df['popular_tags'].iloc[0]"
   ]
  },
  {
   "cell_type": "code",
   "execution_count": 24,
   "metadata": {},
   "outputs": [],
   "source": [
    "game_descriptions = steam_df['game_description']"
   ]
  },
  {
   "cell_type": "markdown",
   "metadata": {},
   "source": [
    "# Steam200k"
   ]
  },
  {
   "cell_type": "code",
   "execution_count": 25,
   "metadata": {},
   "outputs": [
    {
     "name": "stdout",
     "output_type": "stream",
     "text": [
      "151603712,\"The Elder Scrolls V Skyrim\",purchase,1.0,0\r\n",
      "151603712,\"The Elder Scrolls V Skyrim\",play,273.0,0\r\n",
      "151603712,\"Fallout 4\",purchase,1.0,0\r\n",
      "151603712,\"Fallout 4\",play,87.0,0\r\n",
      "151603712,\"Spore\",purchase,1.0,0\r\n",
      "151603712,\"Spore\",play,14.9,0\r\n",
      "151603712,\"Fallout New Vegas\",purchase,1.0,0\r\n",
      "151603712,\"Fallout New Vegas\",play,12.1,0\r\n",
      "151603712,\"Left 4 Dead 2\",purchase,1.0,0\r\n",
      "151603712,\"Left 4 Dead 2\",play,8.9,0\r\n"
     ]
    }
   ],
   "source": [
    "!head $STEAM_GAME_RATINGS_PATH"
   ]
  },
  {
   "cell_type": "code",
   "execution_count": 26,
   "metadata": {},
   "outputs": [],
   "source": [
    "# export\n",
    "\n",
    "\n",
    "def load_steam_ratings_df(steam_ratings_path=STEAM_GAME_RATINGS_PATH):\n",
    "    steam_ratings_df = pd.read_csv(STEAM_GAME_RATINGS_PATH)\n",
    "    steam_ratings_df.columns = ['user_id', 'name', 'ownership', 'hours', 'useless']\n",
    "    steam_ratings_df['log_hours'] = np.log1p(steam_ratings_df['hours'])\n",
    "    steam_ratings_df['played'] = 1 * (steam_ratings_df['ownership'] == 'play')\n",
    "    steam_ratings_df['interacted'] = 1\n",
    "    steam_ratings_df['name_unnormalized'] = steam_ratings_df['name']\n",
    "    steam_ratings_df['name'] = normalize_names(steam_ratings_df['name'])\n",
    "    return steam_ratings_df.drop(axis='columns', columns=['useless'])\n"
   ]
  },
  {
   "cell_type": "code",
   "execution_count": 27,
   "metadata": {},
   "outputs": [],
   "source": [
    "#export\n",
    "\n",
    "\n",
    "@attr.s\n",
    "class RecommenderDataset:\n",
    "    \n",
    "    data = attr.ib()\n",
    "    target = attr.ib()\n",
    "    target_col = attr.ib(default='log_hours')\n",
    "    \n",
    "    def filter_out_insufficient_reviews(self, col, threshold):\n",
    "        is_number_of_reviews_sufficient = self._get_column_with_sufficient_reviews(self.data, col, threshold)\n",
    "        new_data = self.data[is_number_of_reviews_sufficient]\n",
    "        new_target = self.target[is_number_of_reviews_sufficient]\n",
    "        return RecommenderDataset(new_data, new_target, self.target_col)\n",
    "    \n",
    "    @classmethod\n",
    "    def _get_column_with_sufficient_reviews(cls, ratings_df, col, threshold):\n",
    "        game_review_counts = ratings_df.groupby(col).agg('count').iloc[:,0]\n",
    "        return ratings_df[col].isin(\n",
    "            game_review_counts.index[game_review_counts >= threshold]\n",
    "        )\n",
    "    \n",
    "    @staticmethod\n",
    "    def make_collaborative_filtering_dataset(steam_ratings_df, target_col='log_hours'):\n",
    "        \"\"\"\n",
    "        Clean data so that and 'hours' makes sense as target:\n",
    "        for players who played a game delete record of buying\n",
    "        \"\"\"\n",
    "        steam_ratings_df = steam_ratings_df[steam_ratings_df['played'] == 1]\n",
    "        target = steam_ratings_df[target_col]\n",
    "        data = steam_ratings_df.drop(columns=[target_col])\n",
    "        return RecommenderDataset(data, target, target_col)\n",
    "    \n",
    "    @staticmethod\n",
    "    def make_implicit_feedback_dataset(steam_ratings_df, target_col='log_hours'):\n",
    "        \"\"\"\n",
    "        Clean data so that and 'hours' is an implicit feedback target:\n",
    "        players that bought a game and didn't play it are treated as negative example\n",
    "        \"\"\"\n",
    "        filtered_steam_ratings_df = steam_ratings_df.groupby(['name', 'user_id']).apply(\n",
    "            lambda df: df if len(df) == 1 else df[df['ownership'] == 'play']\n",
    "        )\n",
    "        filtered_steam_ratings_df.index = pd.RangeIndex(len(filtered_steam_ratings_df))\n",
    "        not_played = steam_ratings_df['played'] == 0\n",
    "        target = filtered_steam_ratings_df[target_col]\n",
    "        data = filtered_steam_ratings_df.drop(columns=[target_col])\n",
    "        return RecommenderDataset(data, target, target_col)\n",
    "    \n",
    "    def get_user_item_df(self):\n",
    "        ratings_df = pd.concat([self.data, self.target], axis=1)\n",
    "        return ratings_df.pivot_table(index='user_id', columns='name', values='log_hours')\n",
    "    \n",
    "    @staticmethod\n",
    "    def make_user_item_train_val_split(user_item_df, test_size=0.2):\n",
    "        \"\"\"\n",
    "        Make train-test split stratified by number of played games\n",
    "        \"\"\"\n",
    "        user_played_game_counts = (user_item_df > 0).sum(axis=1)\n",
    "        return model_selection.train_test_split(user_item_df, test_size=test_size, stratify=user_played_game_counts)"
   ]
  },
  {
   "cell_type": "code",
   "execution_count": 28,
   "metadata": {},
   "outputs": [],
   "source": [
    "#export\n",
    "\n",
    "\n",
    "def get_item_user_matrix_train_val_split(dataset,  train_labels, labels_val):\n",
    "    steam_df, target = dataset.data, dataset.target\n",
    "    ratings_df = pd.concat([steam_df, target], axis=1)\n",
    "    item_user_pivoted_df = ratings_df.pivot_table(index='name', columns='user_id', values='log_hours')\n",
    "    user_game_matrix_train = scipy.sparse.csr_matrix(item_user_pivoted_df.loc[:, steam_df.iloc[train_labels].index].fillna(0))\n",
    "    for __, row in tqdm.tqdm(ratings_df.iloc[labels_val].iterrows()):\n",
    "        item_user_pivoted_df.loc[row['name'], row['user_id']] = 0\n",
    "    \n",
    "    user_game_matrix_train = scipy.sparse.csr_matrix(item_user_pivoted_df.loc[:, steam_df.iloc[train_labels]['user_id'].unique()].fillna(0))\n",
    "    item_user_pivoted_df.iloc[:,:] = 0\n",
    "    for i, row in tqdm.tqdm(ratings_df.iloc[labels_val].iterrows()):\n",
    "        value = ratings_df[(ratings_df['user_id'] == row['user_id']) & (ratings_df['name'] == row['name'])]['log_hours'].iloc[0]\n",
    "        if i == 0:\n",
    "            print(value)\n",
    "            print(value.shape)\n",
    "        item_user_pivoted_df.loc[row['name'], row['user_id']] = value\n",
    "    \n",
    "    user_game_matrix_val = scipy.sparse.csr_matrix(item_user_pivoted_df.loc[:, steam_df.iloc[labels_val]['user_id'].unique()].fillna(0))\n",
    "    return user_game_matrix_train.T, user_game_matrix_val.T"
   ]
  },
  {
   "cell_type": "code",
   "execution_count": 29,
   "metadata": {},
   "outputs": [
    {
     "data": {
      "text/html": [
       "<div>\n",
       "<style scoped>\n",
       "    .dataframe tbody tr th:only-of-type {\n",
       "        vertical-align: middle;\n",
       "    }\n",
       "\n",
       "    .dataframe tbody tr th {\n",
       "        vertical-align: top;\n",
       "    }\n",
       "\n",
       "    .dataframe thead th {\n",
       "        text-align: right;\n",
       "    }\n",
       "</style>\n",
       "<table border=\"1\" class=\"dataframe\">\n",
       "  <thead>\n",
       "    <tr style=\"text-align: right;\">\n",
       "      <th></th>\n",
       "      <th>achievements</th>\n",
       "    </tr>\n",
       "  </thead>\n",
       "  <tbody>\n",
       "    <tr>\n",
       "      <th>count</th>\n",
       "      <td>12168.000000</td>\n",
       "    </tr>\n",
       "    <tr>\n",
       "      <th>mean</th>\n",
       "      <td>77.362179</td>\n",
       "    </tr>\n",
       "    <tr>\n",
       "      <th>std</th>\n",
       "      <td>448.971950</td>\n",
       "    </tr>\n",
       "    <tr>\n",
       "      <th>min</th>\n",
       "      <td>1.000000</td>\n",
       "    </tr>\n",
       "    <tr>\n",
       "      <th>25%</th>\n",
       "      <td>12.000000</td>\n",
       "    </tr>\n",
       "    <tr>\n",
       "      <th>50%</th>\n",
       "      <td>21.000000</td>\n",
       "    </tr>\n",
       "    <tr>\n",
       "      <th>75%</th>\n",
       "      <td>38.000000</td>\n",
       "    </tr>\n",
       "    <tr>\n",
       "      <th>max</th>\n",
       "      <td>9821.000000</td>\n",
       "    </tr>\n",
       "  </tbody>\n",
       "</table>\n",
       "</div>"
      ],
      "text/plain": [
       "       achievements\n",
       "count  12168.000000\n",
       "mean      77.362179\n",
       "std      448.971950\n",
       "min        1.000000\n",
       "25%       12.000000\n",
       "50%       21.000000\n",
       "75%       38.000000\n",
       "max     9821.000000"
      ]
     },
     "execution_count": 29,
     "metadata": {},
     "output_type": "execute_result"
    }
   ],
   "source": [
    "steam_df.describe()"
   ]
  },
  {
   "cell_type": "code",
   "execution_count": 30,
   "metadata": {},
   "outputs": [
    {
     "data": {
      "text/plain": [
       "count    12393.000000\n",
       "mean        16.138062\n",
       "std         51.878442\n",
       "min          1.000000\n",
       "25%          2.000000\n",
       "50%          3.000000\n",
       "75%          9.000000\n",
       "max       1573.000000\n",
       "Name: name, dtype: float64"
      ]
     },
     "execution_count": 30,
     "metadata": {},
     "output_type": "execute_result"
    }
   ],
   "source": [
    "steam_ratings_df = load_steam_ratings_df()\n",
    "steam_ratings_df.groupby('user_id').agg('count')['name'].describe()"
   ]
  },
  {
   "cell_type": "code",
   "execution_count": 31,
   "metadata": {},
   "outputs": [
    {
     "data": {
      "text/plain": [
       "<matplotlib.axes._subplots.AxesSubplot at 0x7fc029bd6b10>"
      ]
     },
     "execution_count": 31,
     "metadata": {},
     "output_type": "execute_result"
    },
    {
     "data": {
      "image/png": "[encoded data removed]",
      "text/plain": [
       "<Figure size 432x288 with 1 Axes>"
      ]
     },
     "metadata": {
      "needs_background": "light"
     },
     "output_type": "display_data"
    }
   ],
   "source": [
    "steam_ratings_df['played'].hist()"
   ]
  },
  {
   "cell_type": "code",
   "execution_count": 32,
   "metadata": {},
   "outputs": [
    {
     "data": {
      "text/plain": [
       "0.1"
      ]
     },
     "execution_count": 32,
     "metadata": {},
     "output_type": "execute_result"
    }
   ],
   "source": [
    "steam_ratings_df['hours'].min()"
   ]
  },
  {
   "cell_type": "code",
   "execution_count": 33,
   "metadata": {},
   "outputs": [
    {
     "data": {
      "text/plain": [
       "<matplotlib.axes._subplots.AxesSubplot at 0x7fc02a9c1950>"
      ]
     },
     "execution_count": 33,
     "metadata": {},
     "output_type": "execute_result"
    },
    {
     "data": {
      "image/png": "[encoded data removed]",
      "text/plain": [
       "<Figure size 432x288 with 1 Axes>"
      ]
     },
     "metadata": {
      "needs_background": "light"
     },
     "output_type": "display_data"
    }
   ],
   "source": [
    "sns.distplot(steam_ratings_df['log_hours'], kde=False)"
   ]
  },
  {
   "cell_type": "code",
   "execution_count": 34,
   "metadata": {},
   "outputs": [],
   "source": [
    "#ds = RecommenderDataset.make_implicit_feedback_dataset(steam_ratings_df)"
   ]
  },
  {
   "cell_type": "code",
   "execution_count": 35,
   "metadata": {},
   "outputs": [],
   "source": [
    "#ds.data.index = pd.RangeIndex(len(ds.data))"
   ]
  },
  {
   "cell_type": "code",
   "execution_count": 36,
   "metadata": {},
   "outputs": [
    {
     "data": {
      "text/html": [
       "<div>\n",
       "<style scoped>\n",
       "    .dataframe tbody tr th:only-of-type {\n",
       "        vertical-align: middle;\n",
       "    }\n",
       "\n",
       "    .dataframe tbody tr th {\n",
       "        vertical-align: top;\n",
       "    }\n",
       "\n",
       "    .dataframe thead th {\n",
       "        text-align: right;\n",
       "    }\n",
       "</style>\n",
       "<table border=\"1\" class=\"dataframe\">\n",
       "  <thead>\n",
       "    <tr style=\"text-align: right;\">\n",
       "      <th></th>\n",
       "      <th>user_id</th>\n",
       "      <th>name</th>\n",
       "      <th>ownership</th>\n",
       "      <th>hours</th>\n",
       "      <th>log_hours</th>\n",
       "      <th>played</th>\n",
       "      <th>interacted</th>\n",
       "      <th>name_unnormalized</th>\n",
       "    </tr>\n",
       "  </thead>\n",
       "  <tbody>\n",
       "    <tr>\n",
       "      <th>0</th>\n",
       "      <td>151603712</td>\n",
       "      <td>the elder scrolls 5 skyrim</td>\n",
       "      <td>play</td>\n",
       "      <td>273.0</td>\n",
       "      <td>5.613128</td>\n",
       "      <td>1</td>\n",
       "      <td>1</td>\n",
       "      <td>The Elder Scrolls V Skyrim</td>\n",
       "    </tr>\n",
       "    <tr>\n",
       "      <th>1</th>\n",
       "      <td>151603712</td>\n",
       "      <td>fallout 4</td>\n",
       "      <td>purchase</td>\n",
       "      <td>1.0</td>\n",
       "      <td>0.693147</td>\n",
       "      <td>0</td>\n",
       "      <td>1</td>\n",
       "      <td>Fallout 4</td>\n",
       "    </tr>\n",
       "    <tr>\n",
       "      <th>2</th>\n",
       "      <td>151603712</td>\n",
       "      <td>fallout 4</td>\n",
       "      <td>play</td>\n",
       "      <td>87.0</td>\n",
       "      <td>4.477337</td>\n",
       "      <td>1</td>\n",
       "      <td>1</td>\n",
       "      <td>Fallout 4</td>\n",
       "    </tr>\n",
       "    <tr>\n",
       "      <th>3</th>\n",
       "      <td>151603712</td>\n",
       "      <td>spore</td>\n",
       "      <td>purchase</td>\n",
       "      <td>1.0</td>\n",
       "      <td>0.693147</td>\n",
       "      <td>0</td>\n",
       "      <td>1</td>\n",
       "      <td>Spore</td>\n",
       "    </tr>\n",
       "    <tr>\n",
       "      <th>4</th>\n",
       "      <td>151603712</td>\n",
       "      <td>spore</td>\n",
       "      <td>play</td>\n",
       "      <td>14.9</td>\n",
       "      <td>2.766319</td>\n",
       "      <td>1</td>\n",
       "      <td>1</td>\n",
       "      <td>Spore</td>\n",
       "    </tr>\n",
       "  </tbody>\n",
       "</table>\n",
       "</div>"
      ],
      "text/plain": [
       "     user_id                        name ownership  hours  log_hours  played  \\\n",
       "0  151603712  the elder scrolls 5 skyrim      play  273.0   5.613128       1   \n",
       "1  151603712                   fallout 4  purchase    1.0   0.693147       0   \n",
       "2  151603712                   fallout 4      play   87.0   4.477337       1   \n",
       "3  151603712                       spore  purchase    1.0   0.693147       0   \n",
       "4  151603712                       spore      play   14.9   2.766319       1   \n",
       "\n",
       "   interacted           name_unnormalized  \n",
       "0           1  The Elder Scrolls V Skyrim  \n",
       "1           1                   Fallout 4  \n",
       "2           1                   Fallout 4  \n",
       "3           1                       Spore  \n",
       "4           1                       Spore  "
      ]
     },
     "execution_count": 36,
     "metadata": {},
     "output_type": "execute_result"
    }
   ],
   "source": [
    "steam_ratings_df.head()"
   ]
  },
  {
   "cell_type": "code",
   "execution_count": 37,
   "metadata": {},
   "outputs": [
    {
     "data": {
      "text/plain": [
       "5152"
      ]
     },
     "execution_count": 37,
     "metadata": {},
     "output_type": "execute_result"
    }
   ],
   "source": [
    "len(set(steam_ratings_df.name))"
   ]
  },
  {
   "cell_type": "code",
   "execution_count": 38,
   "metadata": {},
   "outputs": [
    {
     "data": {
      "text/plain": [
       "24139"
      ]
     },
     "execution_count": 38,
     "metadata": {},
     "output_type": "execute_result"
    }
   ],
   "source": [
    "len(set(steam_df.name))"
   ]
  },
  {
   "cell_type": "code",
   "execution_count": 39,
   "metadata": {},
   "outputs": [
    {
     "name": "stdout",
     "output_type": "stream",
     "text": [
      "2323\n"
     ]
    }
   ],
   "source": [
    "games_with_metadata = set(normalize_names(steam_df['name']))\n",
    "games_with_reviews = set(normalize_names(steam_ratings_df['name']))\n",
    "games_without_metadata = games_with_reviews - games_with_metadata\n",
    "\n",
    "print(len(games_without_metadata))"
   ]
  },
  {
   "cell_type": "code",
   "execution_count": 40,
   "metadata": {},
   "outputs": [
    {
     "data": {
      "text/plain": [
       "(199999, 8)"
      ]
     },
     "execution_count": 40,
     "metadata": {},
     "output_type": "execute_result"
    }
   ],
   "source": [
    "steam_ratings_df.shape"
   ]
  },
  {
   "cell_type": "markdown",
   "metadata": {},
   "source": [
    "Ratings with games with metadata"
   ]
  },
  {
   "cell_type": "code",
   "execution_count": 41,
   "metadata": {},
   "outputs": [],
   "source": [
    "#export\n",
    "\n",
    "\n",
    "def filter_ratings_with_metadata(steam_ratings_df, steam_df=None):\n",
    "    if steam_df is None:\n",
    "        steam_df = load_steam_df()\n",
    "    games_with_metadata = set(steam_df['name'])\n",
    "    return steam_ratings_df[steam_ratings_df['name'].isin(games_with_metadata)]\n"
   ]
  },
  {
   "cell_type": "code",
   "execution_count": 42,
   "metadata": {},
   "outputs": [
    {
     "data": {
      "text/plain": [
       "(138413, 8)"
      ]
     },
     "execution_count": 42,
     "metadata": {},
     "output_type": "execute_result"
    }
   ],
   "source": [
    "steam_ratings_with_metadata_df = filter_ratings_with_metadata(steam_ratings_df)\n",
    "steam_ratings_with_metadata_df.shape"
   ]
  },
  {
   "cell_type": "markdown",
   "metadata": {},
   "source": [
    "# Checking preprocessing\n",
    "\n",
    "Since two datasets use different sources (game metadata vs particular products) we need to check name normalization scheme.\n",
    "\n",
    "The following code checks games for which there are ratings, but no metadata was found.\n",
    "\n",
    "For these games we check games with metadata to find games with metadata with most similar names."
   ]
  },
  {
   "cell_type": "code",
   "execution_count": 43,
   "metadata": {},
   "outputs": [
    {
     "name": "stdout",
     "output_type": "stream",
     "text": [
      "higurashi when they cry ch.1 onikakushi ('higurashi when they cry hou ch.1 onikakushi', 0.95)\n",
      "dragon the game ('drone the game', 0.9)\n",
      "castlestorm ('castle story', 0.87)\n",
      "europa universalis 3 ('europa universalis 4', 0.95)\n",
      "escape goat 2 ('escape goat', 0.92)\n",
      "kingdom ('kingdoms', 0.93)\n",
      "concursion ('conclusion', 0.9)\n",
      "the dream machine chapter 4 ('the dream machine chapter 1 and 2', 0.87)\n",
      "pro evolution soccer 2015 ('pro evolution soccer 2019', 0.96)\n",
      "wrc 4 fia world rally championship ('wrc 5 fia world rally championship', 0.97)\n",
      "black mirror ('black mirror 3', 0.92)\n",
      "gothic ('gothic 3', 0.86)\n",
      "post master ('ghost master', 0.87)\n",
      "nba 2k11 ('nba 2k19', 0.88)\n",
      "vergelost chapter ('verge lost chapter', 0.97)\n",
      "gemini wars ('geminiarms', 0.86)\n",
      "rollercoaster tycoon ('rollercoaster tycoon world', 0.87)\n",
      "frontiers ('frontier', 0.94)\n",
      "manyland ('anyland', 0.93)\n",
      "blitzkrieg 2 anthology ('blitzkrieg anthology', 0.95)\n",
      "football manager 2009 ('football manager 2019', 0.95)\n",
      "haunted memories ('painted memories', 0.88)\n",
      "the fall ('the ball', 0.88)\n",
      "emily is away ('emily is away too', 0.87)\n",
      "evolution rts ('evolution vr', 0.88)\n",
      "football manager 2012 ('football manager 2018', 0.95)\n",
      "take command second manassas ('take command 2nd manassas', 0.91)\n",
      "earth 2140 ('earth 2160', 0.9)\n",
      "sniper elite nazi zombie army 2 ('sniper elite nazi zombie army', 0.97)\n",
      "alone in the dark ('alone in the dark 2', 0.94)\n",
      "sniper elite zombie army ('sniper elite nazi zombie army', 0.91)\n",
      "the book of unwritten tales extras ('the book of unwritten tales', 0.89)\n",
      "memento mori 2 ('memento mori', 0.92)\n",
      "questrun ('questr', 0.86)\n",
      "hero academy ('r academy', 0.86)\n",
      "secret files puritas cordis ('secret files 2 puritas cordis', 0.96)\n",
      "the elder scrolls 5 skyrim ('the elder scrolls 5 skyrim vr', 0.95)\n",
      "pro evolution soccer 2013 ('pro evolution soccer 2019', 0.96)\n",
      "out of the park baseball 16 ('out of the park baseball 19', 0.96)\n",
      "3d mini golf ('3d minigolf', 0.96)\n",
      "football manager 2016 ('football manager 2018', 0.95)\n",
      "freestyle2 street basketball ('freestyle 2 street basketball', 0.98)\n",
      "state of decay year one ('state of decay yose', 0.86)\n",
      "gravi ('gravia', 0.91)\n",
      "westward ('westard', 0.93)\n",
      "might and magic heroes 6 ('might and magic heroes vii', 0.92)\n",
      "valiant hearts the great war / soldats inconnus mmoires de la grande guerre ('valiant hearts the great war / soldats inconnus m moires de la grande guerre', 0.99)\n",
      "into the dark ('in the dark', 0.92)\n",
      "n.p.p.d. rush the milk of ultra violet ('//n.p.p.d. rush// the milk of ultraviolet', 0.94)\n",
      "tdp4team battle ('tdp4 team battle', 0.97)\n",
      "arctic adventure ('artifact adventure', 0.88)\n",
      "knights of pen and paper 1 ('knights of pen and paper 2', 0.96)\n",
      "another world ('yet another world', 0.87)\n",
      "final fantasy xi ultimate collection abyssea edition ('final fantasy xi ultimate collection seekers edition', 0.9)\n",
      "train simulator ('trainz simulator 12', 0.88)\n",
      "legacy of kain soul reaver 2 ('legacy of kain soul reaver', 0.96)\n",
      "storm ('istorm', 0.91)\n",
      "east india company gold ('east india company', 0.88)\n",
      "comamortuary ('coma mortuary', 0.96)\n",
      "breach ('breached', 0.86)\n",
      "dishonored ru ('dishonored 2', 0.88)\n",
      "fallen enchantress legendary heroes loot pack ('fallen enchantress legendary heroes', 0.88)\n",
      "void destroyer ('void destroyer 2', 0.93)\n",
      "emergency 2012 ('emergency 2014', 0.93)\n",
      "nba 2k14 ('nba 2k19', 0.88)\n",
      "little big adventure 2 ('little adventurer 2', 0.88)\n",
      "c rush ('crush', 0.91)\n",
      "delver ('delve', 0.91)\n",
      "nekopara vol. 0 ('nekopara vol. 3', 0.93)\n",
      "beat hazard ('beat hazard 2', 0.92)\n",
      "pressure ('pressured', 0.94)\n",
      "happy wars ('happy words', 0.86)\n",
      "gumboy crazy features ('gumboy crazy adventures', 0.86)\n",
      "la tale ('last tale', 0.88)\n",
      "age of fear 2 the chaos lord ('age of fear 2 the chaos lord gold', 0.92)\n",
      "star wolves 2 ('star wolves', 0.92)\n",
      "age of wonders 2 ('age of wonders 3', 0.94)\n",
      "ragnarok online 2 ('ragnarok online', 0.94)\n",
      "agricultural simulator 2013 steam edition ('agricultural simulator 2011 extended edition', 0.87)\n",
      "unreal gold ('unreal world', 0.87)\n",
      "the incredible adventures of van helsing thaumaturge ('the incredible adventures of van helsing', 0.87)\n",
      "crysis 2 ('crysis', 0.86)\n",
      "geneforge 4 ('geneforge 1', 0.91)\n",
      "nba 2k9 ('nba 2k19', 0.93)\n",
      "archonclassic ('archon classic', 0.96)\n",
      "the legend of korra ('the legend of vraz', 0.86)\n",
      "dragon age 2 ('dragon rage', 0.87)\n",
      "akibas trip undead and undressed (\"akiba's trip undead ＆ undressed\", 0.92)\n",
      "aerena ('aerea', 0.91)\n",
      "don bradman cricket 14 ('don bradman cricket 17', 0.95)\n",
      "sid meiers civilization beyond earth rising tide ('sid meiers civilization beyond earth', 0.86)\n",
      "games of glory ('tales of glory', 0.86)\n",
      "kingdom tales 2 ('kingdom tales', 0.93)\n",
      "unreal tournament 3 black edition ('unreal tournament 3 black', 0.86)\n",
      "stronghold 3 ('stronghold hd', 0.88)\n",
      "alien hallway ('alien hallway 2', 0.93)\n",
      "judge dredd dredd vs death ('judge dredd dredd vs. death', 0.98)\n",
      "sniper elite zombie army 2 ('sniper elite nazi zombie army', 0.87)\n",
      "reversi ('reverie', 0.86)\n",
      "jagged alliance gold ('jagged alliance 2 gold', 0.95)\n",
      "f1 2011 ('f1 2018', 0.86)\n",
      "curse of the assassin ('order of the assassin', 0.86)\n",
      "pro evolution soccer 2014 ('pro evolution soccer 2019', 0.96)\n",
      "the political machine ('the political machine 2016', 0.89)\n",
      "the fish fillets 2 ('fish fillets 2', 0.88)\n",
      "mystery pi the vegas heist ('mystery p.i. the vegas heist', 0.96)\n",
      "the incredible adventures of van helsing 3 ('the incredible adventures of van helsing', 0.98)\n",
      "castle ('castles', 0.92)\n",
      "pro evolution soccer 2016 ('pro evolution soccer 2019', 0.96)\n",
      "ratz instagib 2.0 ('ratz instagib', 0.87)\n",
      "inmomentum ('momentum', 0.89)\n",
      "serious sam classic the first encounter ('serious sam classic the second encounter', 0.89)\n",
      "rig 'n' roll ('rig n roll', 0.91)\n",
      "firefall ('freefall', 0.88)\n",
      "gtr 2 fia gt racing game ('gtr fia gt racing game', 0.96)\n",
      "axis game factorys agfpro 3.0 ('axis game factorys agfpro v3', 0.95)\n",
      "rescue team 5 ('rescue team', 0.92)\n",
      "the witcher enhanced edition ('the wizards enhanced edition', 0.86)\n",
      "dragon quest heroes ('dragon quest heroes 2', 0.95)\n",
      "cities xl ('cities xxl', 0.95)\n",
      "geneforge 5 ('geneforge 1', 0.91)\n",
      "secrets of rtikon ('secrets of r tikon', 0.97)\n",
      "nba 2k16 ('nba 2k19', 0.88)\n",
      "borderlands 2 ru ('borderlands 2', 0.9)\n",
      "football manager 2014 ('football manager 2018', 0.95)\n",
      "maia ('mafia', 0.89)\n",
      "out of the park baseball 15 ('out of the park baseball 19', 0.96)\n",
      "sonic and all stars racing transformed ('sonic and all stars racing transformed collection', 0.87)\n",
      "wolfenstein ('wolfenstein 3d', 0.88)\n",
      "bloons td5 ('bloons td 5', 0.95)\n",
      "watchmen the end is nigh part 2 ('watchmen the end is nigh', 0.87)\n",
      "secret of magia ('secret of mana', 0.9)\n",
      "velvet assassin ('elven assassin', 0.9)\n",
      "tap heroes ('hotlap heroes', 0.87)\n",
      "space rangers ('space ranger ask', 0.9)\n",
      "fritz chess 14 ('fritzchess 15', 0.89)\n",
      "sonic the hedgehog 4 episode i ('sonic the hedgehog 4 episode 2', 0.97)\n",
      "brink ('brinko', 0.91)\n",
      "might and magic heroes online ('might and magic heroes vii', 0.87)\n",
      "nba 2k15 ('nba 2k19', 0.88)\n",
      "dystopia ('dystoria', 0.88)\n",
      "magic the gathering duels of the planeswalkers ('magic the gathering duels of the planeswalkers 2012', 0.95)\n",
      "the vanishing of ethan carter redux ('the vanishing of ethan carter', 0.91)\n",
      "dustoff heli rescue ('dustoff heli rescue 2', 0.95)\n",
      "pro cycling manager 2013 ('pro cycling manager 2018', 0.96)\n",
      "crypt of the necrodancer extras ('crypt of the necrodancer', 0.87)\n",
      "nights into dreams... ('nights into dreams', 0.92)\n",
      "evolve ('revolve', 0.92)\n",
      "out of the park baseball 14 ('out of the park baseball 19', 0.96)\n",
      "super monday night combat ('monday night combat', 0.86)\n",
      "madballs in...babo invasion ('madballs in babo invasion', 0.92)\n",
      "nba 2k12 ('nba 2k19', 0.88)\n",
      "penny arcades on the rain slick precipice of darkness 4 ('penny arcades on the rain slick precipice of darkness 3', 0.98)\n",
      "emergency 2013 ('emergency 2014', 0.93)\n",
      "eschalon book 1 ('eschalon book 2', 0.93)\n",
      "infernal ('infernales', 0.89)\n",
      "tomb raider the last revelation ('tomb raider 4 the last revelation', 0.97)\n",
      "empires ('empire', 0.92)\n",
      "football manager 2015 ('football manager 2018', 0.95)\n",
      "spark rising ('dark rising', 0.87)\n",
      "street fighter 4 ('street fighter 5', 0.94)\n",
      "f1 2010 ('f1 2018', 0.86)\n",
      "the detail ('the deal', 0.89)\n",
      "portal stories mel ('portal stories vr', 0.86)\n",
      "fault milestone two sideabove ('fault milestone two side above', 0.98)\n"
     ]
    },
    {
     "name": "stdout",
     "output_type": "stream",
     "text": [
      "the sims tm 3 ('the sims 3', 0.87)\n",
      "freedom force vs. the 3rd reich ('freedom force vs. the third reich', 0.94)\n",
      "tropico ('tropico 6', 0.88)\n",
      "pool nation fx ('pool nation', 0.88)\n",
      "rush bros ('rush bros.', 0.95)\n",
      "retention ('detention', 0.89)\n",
      "fallout 2 ('fallout 4', 0.89)\n",
      "hidden object bundle 4 in 1 ('hidden object bundle 5 in 1', 0.96)\n",
      "brtal legend ('brutal legend', 0.96)\n",
      "darksiders 2 ('darksiders 3', 0.92)\n",
      "aion collectors edition ('moai 5 collectors edition', 0.88)\n",
      "flatout 3 ('flatout 2', 0.89)\n",
      "serious sam 3 bfe ('serious sam 3 vr bfe', 0.92)\n",
      "nba 2k10 ('nba 2k19', 0.88)\n",
      "football manager 2011 ('football manager 2018', 0.95)\n",
      "fallout ('fallout 4', 0.88)\n",
      "space run ('space grunts', 0.86)\n",
      "etherium ('eterium', 0.93)\n",
      "legend of mysteria ('legend of mysteria rpg', 0.9)\n",
      "call of duty black ops 2 zombies ('call of duty black ops 2', 0.86)\n",
      "death ray manta ('death ray manta se', 0.91)\n",
      "romance of the three kingdoms maker ('romance of the three kingdoms maker / 三国志ツクール', 0.88)\n",
      "motogp14 ('motogp 14', 0.94)\n",
      "oddworld abes exoddus ('oddworld abes oddysee', 0.86)\n",
      "outland ('mutland', 0.86)\n",
      "stronghold 2 ('stronghold hd', 0.88)\n",
      "middle earth shadow of mordor ('middle earth shadow of war', 0.87)\n",
      "dark fall 1 the journal ('dark fall the journal', 0.95)\n",
      "football manager 2013 ('football manager 2018', 0.95)\n",
      "without within ('without within 2', 0.93)\n",
      "grand theft auto 2 ('grand theft auto 4', 0.94)\n",
      "franchise hockey manager 2 ('franchise hockey manager 3', 0.96)\n",
      "delta force black hawk down team sabre ('delta force — black hawk down team sabre', 0.97)\n",
      "pajama sam in no need to hide when its dark outside ('pajama sam no need to hide when its dark outside', 0.97)\n",
      "the dream machine chapter 5 ('the dream machine chapter 1 and 2', 0.87)\n",
      "return to mysterious island 2 ('return to mysterious island', 0.96)\n",
      "farming simulator 2013 ('farming simulator 2011', 0.95)\n",
      "franchise hockey manager 2014 ('franchise hockey manager 4', 0.95)\n",
      "rescue everyday heroes ('rescue 2 everyday heroes', 0.96)\n",
      "battle vs chess ('battle chess', 0.89)\n",
      "car mechanic simulator 2015 traderpack ('car mechanic simulator 2015 demo', 0.86)\n",
      "golden rush ('golem rush', 0.86)\n",
      "planetary annihilation ('planetary annihilation titans', 0.86)\n",
      "borderlands ('borderlands 2', 0.92)\n",
      "sacred gold ('sacred 2 gold', 0.92)\n",
      "fallen enchantress legendary heroes quest pack ('fallen enchantress legendary heroes', 0.86)\n",
      "london 2012 the official video game of the olympic games ('beijing 2008 the official video game of the olympic games', 0.87)\n",
      "lost planet 2 ('lost planet 3', 0.92)\n",
      "pinball fx2 ('pinball fx3', 0.91)\n",
      "final fantasy xi ('final fantasy ix', 0.94)\n",
      "grand theft auto ('grand theft auto 4', 0.94)\n",
      "sonic adventure dx ('sonic adventure 2', 0.91)\n",
      "pixeljunk shooter ultimate ('pixeljunk monsters ultimate', 0.87)\n",
      "far cry 2 ('far cry 4', 0.89)\n",
      "the curious expedition ('curious expedition', 0.9)\n",
      "unity of command ('unity of command 2', 0.94)\n",
      "evoland ('evoland 2', 0.88)\n",
      "diggeronline ('digger online', 0.96)\n",
      "world of battles ('world of castles', 0.88)\n",
      "deja vu macventure series ('d j vu macventure series', 0.94)\n",
      "i zombie ('zombie', 0.86)\n",
      "numba deluxe ('zuma deluxe', 0.87)\n",
      "avernum 5 ('avernum 4', 0.89)\n",
      "x rebirth ('rebirth', 0.88)\n",
      "galactic civilizations 2 ultimate edition ('galactic civilizations i ultimate edition', 0.98)\n",
      "nba 2k13 ('nba 2k19', 0.88)\n",
      "commander conquest of the americas gold ('commander conquest of the americas', 0.93)\n",
      "nandeyanen ? the 1st stra ('nandeyanen ? the 1st s tra', 0.98)\n",
      "wwe 2k15 ('wwe 2k19', 0.88)\n",
      "fallen enchantress legendary heroes map pack ('fallen enchantress legendary heroes', 0.89)\n",
      "cast of the seven godsends ('cast of the seven godsends redux', 0.9)\n",
      "f1 2013 ('f1 2018', 0.86)\n",
      "the dream machine chapter 3 ('the dream machine chapter 1 and 2', 0.87)\n",
      "q.u.b.e. ('q.u.b.e. 2', 0.89)\n",
      "platypus ('platypus 2', 0.89)\n",
      "dead rising 3 ('dead rising 4', 0.92)\n",
      "demise of nations rome ('demise of nations', 0.87)\n",
      "salammbo battle for carthage ('salammb battle for carthage', 0.98)\n",
      "revolver360 reactor ('revolver360 re actor', 0.97)\n",
      "nightshift code ('the nightshift code', 0.88)\n",
      "obscure 2 ('obscure', 0.88)\n",
      "crazy machines 2 ('crazy machines 3', 0.94)\n",
      "the ultimate doom ('ultimate doom', 0.87)\n",
      "motogp13 ('motogp 13', 0.94)\n",
      "toki tori 2 ('toki tori', 0.9)\n",
      "defenders quest valley of the forgotten ('defenders quest valley of the forgotten dx edition', 0.88)\n",
      "the elder scrolls 5 skyrim dawnguard ('the elder scrolls 5 skyrim vr', 0.86)\n",
      "infestation survivor stories ('infestation survivor stories classic', 0.88)\n",
      "dustforce ('dustforce dx', 0.86)\n",
      "fractured space ('fractured state', 0.87)\n",
      "endless space ('endless space 2', 0.93)\n",
      "football manager 2010 ('football manager 2018', 0.95)\n",
      "my lands ('ylands', 0.86)\n",
      "spirits ('spirit', 0.92)\n",
      "pirates of black cove gold ('pirates of black cove', 0.89)\n",
      "uriels chasm ('uriels chasm 2', 0.92)\n",
      "draw a stickman epic ('draw a stickman epic 2', 0.95)\n",
      "resident evil 5 / biohazard 5 ('resident evil 5/ biohazard 5', 0.98)\n",
      "rugby challenge 2 ('rugby challenge 3', 0.94)\n",
      "nancy drew lights camera curses ('nancy drew dossier lights camera curses', 0.89)\n",
      "life is strange ('life is strange 2', 0.94)\n",
      "coh2 the western front armies oberkommando west ('coh 2 the western front armies oberkommando west', 0.99)\n"
     ]
    }
   ],
   "source": [
    "\n",
    "for game_name in games_without_metadata:\n",
    "    similarities = [(name, fuzz.ratio(game_name, name) / 100) for name in set(steam_df.name)] \n",
    "    similarities = sorted(similarities, key=itemgetter(1), reverse=True)\n",
    "    if similarities[0][1] > 0.85:\n",
    "        print(game_name, similarities[0])"
   ]
  },
  {
   "cell_type": "code",
   "execution_count": 50,
   "metadata": {},
   "outputs": [],
   "source": [
    "#export\n",
    "\n",
    "\n",
    "def get_steam_ratings_dataset(maybe_pickle_path='data/game_dataset.pkl', min_user_ratings=5, min_game_ratings=2):\n",
    "\n",
    "    game_dataset_pickle_path = 'data/game_dataset.pkl'\n",
    "    if os.path.exists(game_dataset_pickle_path):\n",
    "        game_dataset_raw = pickle.load(open(game_dataset_pickle_path, 'rb'))\n",
    "    else:\n",
    "        raw_steam_ratings_df = load_steam_ratings_df()\n",
    "        steam_ratings_df = filter_ratings_with_metadata(raw_steam_ratings_df)\n",
    "        game_dataset_raw = RecommenderDataset.make_implicit_feedback_dataset(steam_ratings_df)\n",
    "        pickle.dump(game_dataset_raw, open(game_dataset_pickle_path, 'wb'))\n",
    "\n",
    "    game_dataset = (\n",
    "        game_dataset_raw\n",
    "        .filter_out_insufficient_reviews('user_id', min_user_ratings)\n",
    "        .filter_out_insufficient_reviews('name', min_game_ratings)\n",
    "    )\n",
    "    return game_dataset"
   ]
  }
 ],
 "metadata": {
  "kernelspec": {
   "display_name": "ml",
   "language": "python",
   "name": "ml"
  },
  "language_info": {
   "codemirror_mode": {
    "name": "ipython",
    "version": 3
   },
   "file_extension": ".py",
   "mimetype": "text/x-python",
   "name": "python",
   "nbconvert_exporter": "python",
   "pygments_lexer": "ipython3",
   "version": "3.7.7"
  }
 },
 "nbformat": 4,
 "nbformat_minor": 4
}
