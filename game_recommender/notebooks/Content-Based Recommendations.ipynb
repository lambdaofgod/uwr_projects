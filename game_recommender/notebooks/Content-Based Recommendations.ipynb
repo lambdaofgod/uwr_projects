{
 "cells": [
  {
   "cell_type": "code",
   "execution_count": 1,
   "metadata": {},
   "outputs": [],
   "source": [
    "#default_exp content_based "
   ]
  },
  {
   "cell_type": "code",
   "execution_count": 2,
   "metadata": {},
   "outputs": [],
   "source": [
    "#export \n",
    "\n",
    "import scipy\n",
    "import pandas as pd\n",
    "import numpy as np\n",
    "\n",
    "\n",
    "from sklearn import compose, feature_extraction, metrics\n",
    "from functools import reduce, partial\n",
    "import attr\n",
    "from typing import Union\n",
    "import umap\n",
    "import altair\n",
    "\n",
    "\n",
    "from game_recommender import steam_data"
   ]
  },
  {
   "cell_type": "code",
   "execution_count": 3,
   "metadata": {},
   "outputs": [
    {
     "name": "stdout",
     "output_type": "stream",
     "text": [
      "/home/kuba/Projects/game_recommender\n"
     ]
    }
   ],
   "source": [
    "%cd .."
   ]
  },
  {
   "cell_type": "code",
   "execution_count": 4,
   "metadata": {},
   "outputs": [
    {
     "data": {
      "text/plain": [
       "\u001b[0;31mSignature:\u001b[0m\n",
       "\u001b[0msteam_data\u001b[0m\u001b[0;34m.\u001b[0m\u001b[0mload_steam_df\u001b[0m\u001b[0;34m(\u001b[0m\u001b[0;34m\u001b[0m\n",
       "\u001b[0;34m\u001b[0m    \u001b[0msteam_games_metadata_path\u001b[0m\u001b[0;34m=\u001b[0m\u001b[0;34m'data/steam_games_metadata/steam_games.csv'\u001b[0m\u001b[0;34m,\u001b[0m\u001b[0;34m\u001b[0m\n",
       "\u001b[0;34m\u001b[0m\u001b[0;34m)\u001b[0m\u001b[0;34m\u001b[0m\u001b[0;34m\u001b[0m\u001b[0m\n",
       "\u001b[0;31mDocstring:\u001b[0m <no docstring>\n",
       "\u001b[0;31mSource:\u001b[0m   \n",
       "\u001b[0;32mdef\u001b[0m \u001b[0mload_steam_df\u001b[0m\u001b[0;34m(\u001b[0m\u001b[0msteam_games_metadata_path\u001b[0m\u001b[0;34m=\u001b[0m\u001b[0mSTEAM_GAME_METADATA_PATH\u001b[0m\u001b[0;34m)\u001b[0m\u001b[0;34m:\u001b[0m\u001b[0;34m\u001b[0m\n",
       "\u001b[0;34m\u001b[0m    \u001b[0;32mreturn\u001b[0m \u001b[0mclean_steam_df\u001b[0m\u001b[0;34m(\u001b[0m\u001b[0mpd\u001b[0m\u001b[0;34m.\u001b[0m\u001b[0mread_csv\u001b[0m\u001b[0;34m(\u001b[0m\u001b[0msteam_games_metadata_path\u001b[0m\u001b[0;34m)\u001b[0m\u001b[0;34m)\u001b[0m\u001b[0;34m\u001b[0m\u001b[0;34m\u001b[0m\u001b[0m\n",
       "\u001b[0;31mFile:\u001b[0m      ~/Projects/game_recommender/game_recommender/steam_data.py\n",
       "\u001b[0;31mType:\u001b[0m      function\n"
      ]
     },
     "metadata": {},
     "output_type": "display_data"
    }
   ],
   "source": [
    "??steam_data.load_steam_df"
   ]
  },
  {
   "cell_type": "code",
   "execution_count": 5,
   "metadata": {},
   "outputs": [],
   "source": [
    "steam_df = steam_data.load_steam_df() "
   ]
  },
  {
   "cell_type": "code",
   "execution_count": 6,
   "metadata": {},
   "outputs": [],
   "source": [
    "chosen_games_substring = 's.t.a.l.k'\n",
    "chosen_games_df = steam_data.get_games_by_name(steam_df, chosen_games_substring) "
   ]
  },
  {
   "cell_type": "code",
   "execution_count": 7,
   "metadata": {},
   "outputs": [
    {
     "data": {
      "text/plain": [
       "376     s.t.a.l.k.e.r. shadow of chernobyl\n",
       "1276        s.t.a.l.k.e.r. call of pripyat\n",
       "7253              s.t.a.l.k.e.r. clear sky\n",
       "Name: name, dtype: object"
      ]
     },
     "execution_count": 7,
     "metadata": {},
     "output_type": "execute_result"
    }
   ],
   "source": [
    "chosen_games_df['name']"
   ]
  },
  {
   "cell_type": "code",
   "execution_count": 8,
   "metadata": {},
   "outputs": [
    {
     "data": {
      "text/plain": [
       "'atmospheric,post-apocalyptic,open world,fps,survival,masterpiece,action,rpg,survival horror,shooter,horror,first-person,singleplayer,classic,based on a novel,moddable,adventure,sci-fi,inventory management,difficult'"
      ]
     },
     "execution_count": 8,
     "metadata": {},
     "output_type": "execute_result"
    }
   ],
   "source": [
    "chosen_games_df.iloc[0]['popular_tags']"
   ]
  },
  {
   "cell_type": "code",
   "execution_count": 9,
   "metadata": {},
   "outputs": [
    {
     "data": {
      "text/plain": [
       "'single-player,multi-player'"
      ]
     },
     "execution_count": 9,
     "metadata": {},
     "output_type": "execute_result"
    }
   ],
   "source": [
    "chosen_games_df.iloc[0]['game_details']"
   ]
  },
  {
   "cell_type": "code",
   "execution_count": 10,
   "metadata": {},
   "outputs": [
    {
     "data": {
      "text/plain": [
       "'action,rpg'"
      ]
     },
     "execution_count": 10,
     "metadata": {},
     "output_type": "execute_result"
    }
   ],
   "source": [
    "chosen_games_df.iloc[0]['genre']"
   ]
  },
  {
   "cell_type": "code",
   "execution_count": 11,
   "metadata": {},
   "outputs": [
    {
     "data": {
      "text/plain": [
       "\" About This Game In 1986, the world's worst nuclear disaster occurred at the Chernobyl Nuclear Power Plant. Soviet authorities established an 'Exclusion Zone' around, but a second explosion hit the reactor in 2006, creating The Zone as we know it – dangerous place, filled with mutated creatures, deadly radiation, and a strange, anomalous energy. The Zone was cordoned off by the military, who would shoot on sight anyone foolish enough to get inside.  Year 2012. The Zone is still a dangerous place and a threat to all mankind. Mercenaries, bounty hunters and explorers ventured further and further into the heart of the Zone driven by reports of strange 'artifacts' imbued with anomalous energy. To sell them on the black market or trying to find the 'truth' behind the Zone. Whatever their motivation, over time these individuals - Scavengers, Trespassers, Adventurers, Loners, Killers, Explorers and Robbers - have become known as S.T.A.L.K.E.R.s.  You will have to find your own way to survive in the Zone!  An immersive storyline, seamlessly blended with a living, breathing, non-linear open-world environment. An accurately modeled real-world buildings and locations from deep inside of the Chernobyl Exclusion Zone. Unique 'Survival FPS' gameplay, which combines action, stealth, survival and RPG elements - to create an incomparable experience in the Zone. Enemy Threat Evaluation AI system - NPC characters react to changes in environments and situations. Realistic combat mechanics with accurate ballistic properties. Dynamic day-night cycle and weather system, that directly impacts gameplay. Advanced physics and dynamic lighting effects powered by the 'X-Ray Engine'. Intense multiplayer action, supporting up to 32 players. \""
      ]
     },
     "execution_count": 11,
     "metadata": {},
     "output_type": "execute_result"
    }
   ],
   "source": [
    "chosen_games_df['game_description'].iloc[0]"
   ]
  },
  {
   "cell_type": "code",
   "execution_count": 12,
   "metadata": {},
   "outputs": [
    {
     "data": {
      "text/plain": [
       "'atmospheric,post-apocalyptic,open world,fps,survival,masterpiece,action,rpg,survival horror,shooter,horror,first-person,singleplayer,classic,based on a novel,moddable,adventure,sci-fi,inventory management,difficult'"
      ]
     },
     "execution_count": 12,
     "metadata": {},
     "output_type": "execute_result"
    }
   ],
   "source": [
    "chosen_games_df['popular_tags'].iloc[0]"
   ]
  },
  {
   "cell_type": "code",
   "execution_count": 13,
   "metadata": {},
   "outputs": [],
   "source": [
    "game_descriptions = steam_df['game_description']"
   ]
  },
  {
   "cell_type": "markdown",
   "metadata": {},
   "source": [
    "# Finding games with similar descriptions"
   ]
  },
  {
   "cell_type": "code",
   "execution_count": 14,
   "metadata": {},
   "outputs": [],
   "source": [
    "from collections import defaultdict"
   ]
  },
  {
   "cell_type": "code",
   "execution_count": 15,
   "metadata": {},
   "outputs": [],
   "source": [
    "#export\n",
    "\n",
    "def split_by_comma_tokenizer(text):\n",
    "    return text.split(',') \n",
    "\n",
    "\n",
    "def _regroup_weights(weights, column_groups):\n",
    "    assert len(weights) == len(column_groups), 'specify weight for each column group'\n",
    "    return {\n",
    "        col: weight / len(col_group)\n",
    "        for (weight, col_group) in zip(weights, column_groups)\n",
    "        for col in col_group\n",
    "    }\n",
    "\n",
    "\n",
    "def make_df_column_vectorizer(\n",
    "        column_groups,\n",
    "        vectorizer_classes=feature_extraction.text.TfidfVectorizer,\n",
    "        weights=None,\n",
    "        tokenizers=None\n",
    "    ):\n",
    "    if type(vectorizer_classes) is not list:\n",
    "        vectorizer_classes = [vectorizer_classes for __ in range(len(column_groups))]\n",
    "    if tokenizers is None:\n",
    "        tokenizers = [None for __ in range(len(column_groups))]\n",
    "    vectorizers = [vectorizer_class(tokenizer=tokenizer) for (vectorizer_class, grp, tokenizer) in zip(vectorizer_classes, column_groups, tokenizers)] \n",
    "    if type(weights) is list:\n",
    "        weights = _regroup_weights(weights, column_groups)\n",
    "    \n",
    "    return compose.ColumnTransformer(\n",
    "        [\n",
    "            (col + '_tfidf', vectorizer, col)\n",
    "            for columns, vectorizer in zip(column_groups, vectorizers)\n",
    "            for col in columns\n",
    "        ],\n",
    "        transformer_weights=weights\n",
    "    )\n",
    "\n",
    "\n",
    "def get_steam_metadata_column_groups():\n",
    "    return [\n",
    "        ['popular_tags'],\n",
    "        ['game_description', 'desc_snippet'],\n",
    "    ]\n",
    "\n",
    "\n",
    "def make_steam_metadata_vectorizer(column_groups=get_steam_metadata_column_groups()):\n",
    "    return make_df_column_vectorizer(\n",
    "        column_groups,\n",
    "        vectorizer_classes=partial(\n",
    "                feature_extraction.text.TfidfVectorizer,\n",
    "                binary=True,\n",
    "                min_df=5\n",
    "        ),\n",
    "        tokenizers=[split_by_comma_tokenizer, None]\n",
    "    )\n",
    "\n",
    "\n",
    "def get_steam_metadata_vectors(steam_df):\n",
    "    vectorizer = make_steam_metadata_vectorizer()\n",
    "    return vectorizer.fit_transform(steam_df)"
   ]
  },
  {
   "cell_type": "code",
   "execution_count": 16,
   "metadata": {},
   "outputs": [],
   "source": [
    "steam_metadata_vectors = get_steam_metadata_vectors(steam_df)"
   ]
  },
  {
   "cell_type": "code",
   "execution_count": 17,
   "metadata": {},
   "outputs": [
    {
     "data": {
      "text/plain": [
       "(24210, 21)"
      ]
     },
     "execution_count": 17,
     "metadata": {},
     "output_type": "execute_result"
    }
   ],
   "source": [
    "steam_df.shape"
   ]
  },
  {
   "cell_type": "code",
   "execution_count": 18,
   "metadata": {},
   "outputs": [
    {
     "data": {
      "text/plain": [
       "(24210, 31455)"
      ]
     },
     "execution_count": 18,
     "metadata": {},
     "output_type": "execute_result"
    }
   ],
   "source": [
    "steam_metadata_vectors.shape"
   ]
  },
  {
   "cell_type": "code",
   "execution_count": 19,
   "metadata": {},
   "outputs": [
    {
     "name": "stdout",
     "output_type": "stream",
     "text": [
      "None\n"
     ]
    }
   ],
   "source": [
    "x = None\n",
    "if 1 is not None:\n",
    "    print(x)"
   ]
  },
  {
   "cell_type": "code",
   "execution_count": 20,
   "metadata": {},
   "outputs": [],
   "source": [
    "#export\n",
    "\n",
    "@attr.s\n",
    "class SimilaritySearcher:\n",
    "    \n",
    "    df: pd.DataFrame = attr.ib()\n",
    "    vectors: Union[scipy.sparse.csr.csr_matrix, np.array] = attr.ib()\n",
    "    similarity = attr.ib(default=metrics.pairwise.cosine_similarity)\n",
    "    name_col = attr.ib(default='name')\n",
    "    \n",
    "    def find_similar(\n",
    "            self,\n",
    "            chosen_items=None,\n",
    "            chosen_vectors=None,\n",
    "            n_similar=20):\n",
    "        def get_names_from_indices(indices):\n",
    "            return self.df[self.name_col].iloc[indices].values\n",
    "    \n",
    "        assert chosen_items is not None or chosen_vectors is not None\n",
    "        if not chosen_items is None:\n",
    "            idxs = self.df[self.df[self.name_col].isin(chosen_items)].index\n",
    "            chosen_vectors = self.vectors[idxs]\n",
    "        else:\n",
    "            chosen_items = list(map(str, range(chosen_vectors.shape[0])))\n",
    "        mean_vector = chosen_vectors.mean(axis=0)\n",
    "        similarities = self.similarity(chosen_vectors, self.vectors)\n",
    "        similarity_sorted_indices = similarities.argsort(axis=1)[:,::-1]\n",
    "        similarities_sorted = np.array([similarities[i, similarity_sorted_indices[i]] for i in range(len(chosen_items))])\n",
    "        mean_similarity = self.similarity(mean_vector.reshape(1,-1), self.vectors)\n",
    "        mean_similarity_sorted_indices = mean_similarity.argsort(axis=1)[:,::-1]\n",
    "        mean_similarities_sorted = mean_similarity[0,mean_similarity_sorted_indices.reshape(-1)]\n",
    "\n",
    "        mean_similar = get_names_from_indices(mean_similarity_sorted_indices[0][:n_similar])\n",
    "        game_names = []\n",
    "        similarities = [] \n",
    "        \n",
    "        for (i, name) in enumerate(chosen_items):\n",
    "            game_names.append(\n",
    "                pd.Series(name=str(name), \n",
    "                    data=get_names_from_indices(\n",
    "                        similarity_sorted_indices[i][1:n_similar+1]\n",
    "                    )\n",
    "                 )\n",
    "            )\n",
    "            similarities.append(pd.Series(name=str(name) + '_similarities', data= similarities_sorted[i][:n_similar]))\n",
    "\n",
    "        game_names.append(pd.Series(name='mean', data=mean_similar))\n",
    "        similarities.append(pd.Series(name='mean_similarity', data=mean_similarities_sorted[:n_similar]))\n",
    "        return pd.DataFrame(game_names).T, pd.DataFrame(similarities).T"
   ]
  },
  {
   "cell_type": "code",
   "execution_count": 21,
   "metadata": {},
   "outputs": [],
   "source": [
    "#export\n",
    "\n",
    "def make_stacked_results_df(game_names, similarities):\n",
    "    df = pd.concat([game_names, similarities], axis=1)\n",
    "    return df.reindex(sorted(df.columns), axis=1)"
   ]
  },
  {
   "cell_type": "code",
   "execution_count": 22,
   "metadata": {},
   "outputs": [],
   "source": [
    "metadata_df = steam_df\n",
    "n_similar=20"
   ]
  },
  {
   "cell_type": "code",
   "execution_count": 23,
   "metadata": {},
   "outputs": [],
   "source": [
    "from sklearn import decomposition\n",
    "\n",
    "n_components = 250\n",
    "\n",
    "\n",
    "tsvd = decomposition.TruncatedSVD(n_components=n_components)\n",
    "nmf = decomposition.NMF(n_components=n_components, solver='mu')"
   ]
  },
  {
   "cell_type": "code",
   "execution_count": 24,
   "metadata": {},
   "outputs": [
    {
     "name": "stdout",
     "output_type": "stream",
     "text": [
      "CPU times: user 38.3 s, sys: 22 s, total: 1min\n",
      "Wall time: 12.5 s\n"
     ]
    }
   ],
   "source": [
    "%%time\n",
    "steam_metadata_reduced_vectors = tsvd.fit_transform(steam_metadata_vectors)"
   ]
  },
  {
   "cell_type": "code",
   "execution_count": 25,
   "metadata": {},
   "outputs": [],
   "source": [
    "#export\n",
    "\n",
    "def get_similar_game_names_from_results(results):\n",
    "    return set(results.values.reshape(-1))\n"
   ]
  },
  {
   "cell_type": "code",
   "execution_count": 26,
   "metadata": {},
   "outputs": [],
   "source": [
    "similarity_searcher = SimilaritySearcher(steam_df, steam_metadata_reduced_vectors)"
   ]
  },
  {
   "cell_type": "code",
   "execution_count": 27,
   "metadata": {},
   "outputs": [
    {
     "data": {
      "text/plain": [
       "{'a.i.m.2 clan wars',\n",
       " 'alien isolation',\n",
       " 'arizona sunshine',\n",
       " 'atomic heart',\n",
       " 'brigand oaxaca',\n",
       " 'creature hunt',\n",
       " 'dayz',\n",
       " 'dead effect',\n",
       " 'doom 3',\n",
       " 'doom 3 bfg edition',\n",
       " 'dying light',\n",
       " 'estranged act i',\n",
       " 'fallout 3',\n",
       " 'fallout 3 game of the year edition',\n",
       " 'fallout new vegas',\n",
       " 'far cry',\n",
       " 'half life 2 episode two',\n",
       " 'i am alive',\n",
       " 'metro 2033 redux',\n",
       " 'metro exodus',\n",
       " 'metro last light redux',\n",
       " 'nosferatu the wrath of malachi',\n",
       " 'red faction',\n",
       " 's.t.a.l.k.e.r. call of pripyat',\n",
       " 's.t.a.l.k.e.r. clear sky',\n",
       " 's.t.a.l.k.e.r. shadow of chernobyl',\n",
       " 'shadows of kurgansk',\n",
       " 'singularity',\n",
       " 'system shock 2',\n",
       " 'time ramesside a new reckoning',\n",
       " 'unreal 2 the awakening',\n",
       " 'unturned',\n",
       " 'zombi'}"
      ]
     },
     "execution_count": 27,
     "metadata": {},
     "output_type": "execute_result"
    }
   ],
   "source": [
    "get_similar_game_names_from_results(similarity_searcher.find_similar(chosen_games_df['name'])[0])"
   ]
  },
  {
   "cell_type": "markdown",
   "metadata": {},
   "source": [
    "# Searching by SVD reduced data"
   ]
  },
  {
   "cell_type": "code",
   "execution_count": 28,
   "metadata": {},
   "outputs": [
    {
     "data": {
      "text/html": [
       "<div>\n",
       "<style scoped>\n",
       "    .dataframe tbody tr th:only-of-type {\n",
       "        vertical-align: middle;\n",
       "    }\n",
       "\n",
       "    .dataframe tbody tr th {\n",
       "        vertical-align: top;\n",
       "    }\n",
       "\n",
       "    .dataframe thead th {\n",
       "        text-align: right;\n",
       "    }\n",
       "</style>\n",
       "<table border=\"1\" class=\"dataframe\">\n",
       "  <thead>\n",
       "    <tr style=\"text-align: right;\">\n",
       "      <th></th>\n",
       "      <th>mean</th>\n",
       "      <th>mean_similarity</th>\n",
       "      <th>s.t.a.l.k.e.r. call of pripyat</th>\n",
       "      <th>s.t.a.l.k.e.r. call of pripyat_similarities</th>\n",
       "      <th>s.t.a.l.k.e.r. clear sky</th>\n",
       "      <th>s.t.a.l.k.e.r. clear sky_similarities</th>\n",
       "      <th>s.t.a.l.k.e.r. shadow of chernobyl</th>\n",
       "      <th>s.t.a.l.k.e.r. shadow of chernobyl_similarities</th>\n",
       "    </tr>\n",
       "  </thead>\n",
       "  <tbody>\n",
       "    <tr>\n",
       "      <th>0</th>\n",
       "      <td>s.t.a.l.k.e.r. clear sky</td>\n",
       "      <td>0.964910</td>\n",
       "      <td>s.t.a.l.k.e.r. clear sky</td>\n",
       "      <td>1.000000</td>\n",
       "      <td>s.t.a.l.k.e.r. call of pripyat</td>\n",
       "      <td>1.000000</td>\n",
       "      <td>s.t.a.l.k.e.r. clear sky</td>\n",
       "      <td>1.000000</td>\n",
       "    </tr>\n",
       "    <tr>\n",
       "      <th>1</th>\n",
       "      <td>s.t.a.l.k.e.r. call of pripyat</td>\n",
       "      <td>0.948868</td>\n",
       "      <td>s.t.a.l.k.e.r. shadow of chernobyl</td>\n",
       "      <td>0.898535</td>\n",
       "      <td>s.t.a.l.k.e.r. shadow of chernobyl</td>\n",
       "      <td>0.898535</td>\n",
       "      <td>s.t.a.l.k.e.r. call of pripyat</td>\n",
       "      <td>0.837679</td>\n",
       "    </tr>\n",
       "    <tr>\n",
       "      <th>2</th>\n",
       "      <td>s.t.a.l.k.e.r. shadow of chernobyl</td>\n",
       "      <td>0.922390</td>\n",
       "      <td>metro last light redux</td>\n",
       "      <td>0.785954</td>\n",
       "      <td>metro last light redux</td>\n",
       "      <td>0.837679</td>\n",
       "      <td>metro last light redux</td>\n",
       "      <td>0.785954</td>\n",
       "    </tr>\n",
       "    <tr>\n",
       "      <th>3</th>\n",
       "      <td>metro last light redux</td>\n",
       "      <td>0.728765</td>\n",
       "      <td>metro 2033 redux</td>\n",
       "      <td>0.681939</td>\n",
       "      <td>time ramesside a new reckoning</td>\n",
       "      <td>0.679098</td>\n",
       "      <td>metro 2033 redux</td>\n",
       "      <td>0.707117</td>\n",
       "    </tr>\n",
       "    <tr>\n",
       "      <th>4</th>\n",
       "      <td>metro 2033 redux</td>\n",
       "      <td>0.712735</td>\n",
       "      <td>dayz</td>\n",
       "      <td>0.680488</td>\n",
       "      <td>metro 2033 redux</td>\n",
       "      <td>0.675035</td>\n",
       "      <td>nosferatu the wrath of malachi</td>\n",
       "      <td>0.666070</td>\n",
       "    </tr>\n",
       "    <tr>\n",
       "      <th>5</th>\n",
       "      <td>time ramesside a new reckoning</td>\n",
       "      <td>0.672267</td>\n",
       "      <td>far cry</td>\n",
       "      <td>0.675927</td>\n",
       "      <td>zombi</td>\n",
       "      <td>0.674889</td>\n",
       "      <td>metro exodus</td>\n",
       "      <td>0.630960</td>\n",
       "    </tr>\n",
       "    <tr>\n",
       "      <th>6</th>\n",
       "      <td>unreal 2 the awakening</td>\n",
       "      <td>0.664012</td>\n",
       "      <td>doom 3 bfg edition</td>\n",
       "      <td>0.670886</td>\n",
       "      <td>unreal 2 the awakening</td>\n",
       "      <td>0.662971</td>\n",
       "      <td>creature hunt</td>\n",
       "      <td>0.625489</td>\n",
       "    </tr>\n",
       "    <tr>\n",
       "      <th>7</th>\n",
       "      <td>dead effect</td>\n",
       "      <td>0.660192</td>\n",
       "      <td>time ramesside a new reckoning</td>\n",
       "      <td>0.649384</td>\n",
       "      <td>dead effect</td>\n",
       "      <td>0.648057</td>\n",
       "      <td>a.i.m.2 clan wars</td>\n",
       "      <td>0.610693</td>\n",
       "    </tr>\n",
       "    <tr>\n",
       "      <th>8</th>\n",
       "      <td>zombi</td>\n",
       "      <td>0.659066</td>\n",
       "      <td>unreal 2 the awakening</td>\n",
       "      <td>0.647997</td>\n",
       "      <td>doom 3 bfg edition</td>\n",
       "      <td>0.645309</td>\n",
       "      <td>fallout 3</td>\n",
       "      <td>0.603616</td>\n",
       "    </tr>\n",
       "    <tr>\n",
       "      <th>9</th>\n",
       "      <td>far cry</td>\n",
       "      <td>0.651980</td>\n",
       "      <td>zombi</td>\n",
       "      <td>0.647528</td>\n",
       "      <td>doom 3</td>\n",
       "      <td>0.645188</td>\n",
       "      <td>i am alive</td>\n",
       "      <td>0.600783</td>\n",
       "    </tr>\n",
       "    <tr>\n",
       "      <th>10</th>\n",
       "      <td>doom 3</td>\n",
       "      <td>0.650410</td>\n",
       "      <td>shadows of kurgansk</td>\n",
       "      <td>0.646910</td>\n",
       "      <td>arizona sunshine</td>\n",
       "      <td>0.642755</td>\n",
       "      <td>dead effect</td>\n",
       "      <td>0.590616</td>\n",
       "    </tr>\n",
       "    <tr>\n",
       "      <th>11</th>\n",
       "      <td>fallout 3</td>\n",
       "      <td>0.650009</td>\n",
       "      <td>fallout new vegas</td>\n",
       "      <td>0.645902</td>\n",
       "      <td>estranged act i</td>\n",
       "      <td>0.628925</td>\n",
       "      <td>fallout new vegas</td>\n",
       "      <td>0.590201</td>\n",
       "    </tr>\n",
       "    <tr>\n",
       "      <th>12</th>\n",
       "      <td>fallout new vegas</td>\n",
       "      <td>0.644823</td>\n",
       "      <td>fallout 3</td>\n",
       "      <td>0.638882</td>\n",
       "      <td>singularity</td>\n",
       "      <td>0.628581</td>\n",
       "      <td>fallout 3 game of the year edition</td>\n",
       "      <td>0.589068</td>\n",
       "    </tr>\n",
       "    <tr>\n",
       "      <th>13</th>\n",
       "      <td>arizona sunshine</td>\n",
       "      <td>0.643849</td>\n",
       "      <td>half life 2 episode two</td>\n",
       "      <td>0.638830</td>\n",
       "      <td>far cry</td>\n",
       "      <td>0.625092</td>\n",
       "      <td>system shock 2</td>\n",
       "      <td>0.587087</td>\n",
       "    </tr>\n",
       "    <tr>\n",
       "      <th>14</th>\n",
       "      <td>dayz</td>\n",
       "      <td>0.643443</td>\n",
       "      <td>dead effect</td>\n",
       "      <td>0.636737</td>\n",
       "      <td>half life 2 episode two</td>\n",
       "      <td>0.624717</td>\n",
       "      <td>unreal 2 the awakening</td>\n",
       "      <td>0.586987</td>\n",
       "    </tr>\n",
       "    <tr>\n",
       "      <th>15</th>\n",
       "      <td>nosferatu the wrath of malachi</td>\n",
       "      <td>0.642441</td>\n",
       "      <td>dying light</td>\n",
       "      <td>0.636028</td>\n",
       "      <td>nosferatu the wrath of malachi</td>\n",
       "      <td>0.617183</td>\n",
       "      <td>brigand oaxaca</td>\n",
       "      <td>0.586253</td>\n",
       "    </tr>\n",
       "    <tr>\n",
       "      <th>16</th>\n",
       "      <td>metro exodus</td>\n",
       "      <td>0.641383</td>\n",
       "      <td>doom 3</td>\n",
       "      <td>0.633987</td>\n",
       "      <td>dayz</td>\n",
       "      <td>0.610441</td>\n",
       "      <td>atomic heart</td>\n",
       "      <td>0.584206</td>\n",
       "    </tr>\n",
       "    <tr>\n",
       "      <th>17</th>\n",
       "      <td>doom 3 bfg edition</td>\n",
       "      <td>0.639655</td>\n",
       "      <td>estranged act i</td>\n",
       "      <td>0.631686</td>\n",
       "      <td>fallout 3</td>\n",
       "      <td>0.608183</td>\n",
       "      <td>alien isolation</td>\n",
       "      <td>0.582636</td>\n",
       "    </tr>\n",
       "    <tr>\n",
       "      <th>18</th>\n",
       "      <td>singularity</td>\n",
       "      <td>0.635467</td>\n",
       "      <td>arizona sunshine</td>\n",
       "      <td>0.627609</td>\n",
       "      <td>metro exodus</td>\n",
       "      <td>0.602934</td>\n",
       "      <td>time ramesside a new reckoning</td>\n",
       "      <td>0.582393</td>\n",
       "    </tr>\n",
       "    <tr>\n",
       "      <th>19</th>\n",
       "      <td>estranged act i</td>\n",
       "      <td>0.631516</td>\n",
       "      <td>unturned</td>\n",
       "      <td>0.621746</td>\n",
       "      <td>fallout new vegas</td>\n",
       "      <td>0.602634</td>\n",
       "      <td>red faction</td>\n",
       "      <td>0.582286</td>\n",
       "    </tr>\n",
       "  </tbody>\n",
       "</table>\n",
       "</div>"
      ],
      "text/plain": [
       "                                  mean  mean_similarity  \\\n",
       "0             s.t.a.l.k.e.r. clear sky         0.964910   \n",
       "1       s.t.a.l.k.e.r. call of pripyat         0.948868   \n",
       "2   s.t.a.l.k.e.r. shadow of chernobyl         0.922390   \n",
       "3               metro last light redux         0.728765   \n",
       "4                     metro 2033 redux         0.712735   \n",
       "5       time ramesside a new reckoning         0.672267   \n",
       "6               unreal 2 the awakening         0.664012   \n",
       "7                          dead effect         0.660192   \n",
       "8                                zombi         0.659066   \n",
       "9                              far cry         0.651980   \n",
       "10                              doom 3         0.650410   \n",
       "11                           fallout 3         0.650009   \n",
       "12                   fallout new vegas         0.644823   \n",
       "13                    arizona sunshine         0.643849   \n",
       "14                                dayz         0.643443   \n",
       "15      nosferatu the wrath of malachi         0.642441   \n",
       "16                        metro exodus         0.641383   \n",
       "17                  doom 3 bfg edition         0.639655   \n",
       "18                         singularity         0.635467   \n",
       "19                     estranged act i         0.631516   \n",
       "\n",
       "        s.t.a.l.k.e.r. call of pripyat  \\\n",
       "0             s.t.a.l.k.e.r. clear sky   \n",
       "1   s.t.a.l.k.e.r. shadow of chernobyl   \n",
       "2               metro last light redux   \n",
       "3                     metro 2033 redux   \n",
       "4                                 dayz   \n",
       "5                              far cry   \n",
       "6                   doom 3 bfg edition   \n",
       "7       time ramesside a new reckoning   \n",
       "8               unreal 2 the awakening   \n",
       "9                                zombi   \n",
       "10                 shadows of kurgansk   \n",
       "11                   fallout new vegas   \n",
       "12                           fallout 3   \n",
       "13             half life 2 episode two   \n",
       "14                         dead effect   \n",
       "15                         dying light   \n",
       "16                              doom 3   \n",
       "17                     estranged act i   \n",
       "18                    arizona sunshine   \n",
       "19                            unturned   \n",
       "\n",
       "    s.t.a.l.k.e.r. call of pripyat_similarities  \\\n",
       "0                                      1.000000   \n",
       "1                                      0.898535   \n",
       "2                                      0.785954   \n",
       "3                                      0.681939   \n",
       "4                                      0.680488   \n",
       "5                                      0.675927   \n",
       "6                                      0.670886   \n",
       "7                                      0.649384   \n",
       "8                                      0.647997   \n",
       "9                                      0.647528   \n",
       "10                                     0.646910   \n",
       "11                                     0.645902   \n",
       "12                                     0.638882   \n",
       "13                                     0.638830   \n",
       "14                                     0.636737   \n",
       "15                                     0.636028   \n",
       "16                                     0.633987   \n",
       "17                                     0.631686   \n",
       "18                                     0.627609   \n",
       "19                                     0.621746   \n",
       "\n",
       "              s.t.a.l.k.e.r. clear sky  s.t.a.l.k.e.r. clear sky_similarities  \\\n",
       "0       s.t.a.l.k.e.r. call of pripyat                               1.000000   \n",
       "1   s.t.a.l.k.e.r. shadow of chernobyl                               0.898535   \n",
       "2               metro last light redux                               0.837679   \n",
       "3       time ramesside a new reckoning                               0.679098   \n",
       "4                     metro 2033 redux                               0.675035   \n",
       "5                                zombi                               0.674889   \n",
       "6               unreal 2 the awakening                               0.662971   \n",
       "7                          dead effect                               0.648057   \n",
       "8                   doom 3 bfg edition                               0.645309   \n",
       "9                               doom 3                               0.645188   \n",
       "10                    arizona sunshine                               0.642755   \n",
       "11                     estranged act i                               0.628925   \n",
       "12                         singularity                               0.628581   \n",
       "13                             far cry                               0.625092   \n",
       "14             half life 2 episode two                               0.624717   \n",
       "15      nosferatu the wrath of malachi                               0.617183   \n",
       "16                                dayz                               0.610441   \n",
       "17                           fallout 3                               0.608183   \n",
       "18                        metro exodus                               0.602934   \n",
       "19                   fallout new vegas                               0.602634   \n",
       "\n",
       "    s.t.a.l.k.e.r. shadow of chernobyl  \\\n",
       "0             s.t.a.l.k.e.r. clear sky   \n",
       "1       s.t.a.l.k.e.r. call of pripyat   \n",
       "2               metro last light redux   \n",
       "3                     metro 2033 redux   \n",
       "4       nosferatu the wrath of malachi   \n",
       "5                         metro exodus   \n",
       "6                        creature hunt   \n",
       "7                    a.i.m.2 clan wars   \n",
       "8                            fallout 3   \n",
       "9                           i am alive   \n",
       "10                         dead effect   \n",
       "11                   fallout new vegas   \n",
       "12  fallout 3 game of the year edition   \n",
       "13                      system shock 2   \n",
       "14              unreal 2 the awakening   \n",
       "15                      brigand oaxaca   \n",
       "16                        atomic heart   \n",
       "17                     alien isolation   \n",
       "18      time ramesside a new reckoning   \n",
       "19                         red faction   \n",
       "\n",
       "    s.t.a.l.k.e.r. shadow of chernobyl_similarities  \n",
       "0                                          1.000000  \n",
       "1                                          0.837679  \n",
       "2                                          0.785954  \n",
       "3                                          0.707117  \n",
       "4                                          0.666070  \n",
       "5                                          0.630960  \n",
       "6                                          0.625489  \n",
       "7                                          0.610693  \n",
       "8                                          0.603616  \n",
       "9                                          0.600783  \n",
       "10                                         0.590616  \n",
       "11                                         0.590201  \n",
       "12                                         0.589068  \n",
       "13                                         0.587087  \n",
       "14                                         0.586987  \n",
       "15                                         0.586253  \n",
       "16                                         0.584206  \n",
       "17                                         0.582636  \n",
       "18                                         0.582393  \n",
       "19                                         0.582286  "
      ]
     },
     "execution_count": 28,
     "metadata": {},
     "output_type": "execute_result"
    }
   ],
   "source": [
    "make_stacked_results_df(*similarity_searcher.find_similar(chosen_games_df['name']))"
   ]
  },
  {
   "cell_type": "markdown",
   "metadata": {},
   "source": [
    "# Searching by NMF reduced data"
   ]
  },
  {
   "cell_type": "code",
   "execution_count": 29,
   "metadata": {},
   "outputs": [],
   "source": [
    "#%%time\n",
    "#steam_metadata_nmf_vectors = nmf.fit_transform(steam_metadata_vectors)"
   ]
  },
  {
   "cell_type": "code",
   "execution_count": 30,
   "metadata": {},
   "outputs": [],
   "source": [
    "#similar_games(chosen_games_df, steam_df, steam_metadata_nmf_vectors)"
   ]
  },
  {
   "cell_type": "code",
   "execution_count": 31,
   "metadata": {},
   "outputs": [],
   "source": [
    "# Recommending"
   ]
  },
  {
   "cell_type": "code",
   "execution_count": 32,
   "metadata": {},
   "outputs": [],
   "source": [
    "#export\n",
    "\n",
    "\n",
    "@attr.s\n",
    "class ContentBasedRecommender:\n",
    "    \n",
    "    similarity_searcher: SimilaritySearcher = attr.ib()\n",
    "        \n",
    "    def recommend_similar_games(self, user_ratings, n_recommended, n_similar=5):\n",
    "        rated_games = user_ratings.index\n",
    "        ratings = user_ratings.values\n",
    "        similar_games, similarities = self.similarity_searcher.find_similar(rated_games, n_similar=n_similar)\n",
    "        mean_similar_games = similar_games.pop('mean')\n",
    "        mean_similarities = similarities.pop('mean_similarity')\n",
    "        \n",
    "        predicted_ratings = ratings * similarities / similarities.max()\n",
    "        predicted_ratings_flat = pd.concat([predicted_ratings[col] for col in predicted_ratings.columns])\n",
    "        similar_games_flat = pd.concat([similar_games[col] for col in similar_games.columns])\n",
    "        # TODO: is this best way to handle duplicates?\n",
    "        pred_df = pd.DataFrame({\n",
    "            'game': similar_games_flat,\n",
    "            'rating ': predicted_ratings_flat\n",
    "        }).groupby('game').agg('mean')\n",
    "        predicted_ratings_flat = pred_df.iloc[:,0].values\n",
    "        similar_games_flat = pred_df.index.values\n",
    "        \n",
    "        best_rated_indices = np.argsort(predicted_ratings_flat)[::-1][:n_recommended]\n",
    "        best_ratings = predicted_ratings_flat[best_rated_indices]\n",
    "        best_rated_games = similar_games_flat[best_rated_indices]\n",
    "        return pd.Series(index=best_rated_games, data=best_ratings)\n",
    "        \n",
    "    def recommend_mean_similar_games(self, user_ratings, n_recommended, n_similar=5):\n",
    "        rated_games = user_ratings.index\n",
    "        ratings = user_ratings.values\n",
    "        similar_games, similarities = self.similarity_searcher.find_similar(rated_games, n_similar=n_similar)\n",
    "        mean_similar_games = similar_games.pop('mean')\n",
    "        mean_similarities = similarities.pop('mean_similarity')\n",
    "        return pd.Series(index=mean_similar_games, data=ratings.mean() * mean_similarities.values)\n",
    "    \n",
    "    @staticmethod\n",
    "    def make_from_steam_metadata(steam_df=None, steam_metadata_vectors=None):\n",
    "        if steam_df is None:\n",
    "            steam_df = steam_data.load_steam_df()\n",
    "        if steam_metadata_vectors is None:\n",
    "            steam_metadata_vectors = get_steam_metadata_vectors(steam_df)\n",
    "        similarity_searcher = SimilaritySearcher(steam_df, steam_metadata_vectors)\n",
    "        return ContentBasedRecommender(similarity_searcher)"
   ]
  },
  {
   "cell_type": "code",
   "execution_count": 33,
   "metadata": {},
   "outputs": [],
   "source": [
    "ratings = [4, 5, 6]\n",
    "rated_games = chosen_games_df['name']\n",
    "\n",
    "user_ratings = pd.Series(index=rated_games, data=ratings)"
   ]
  },
  {
   "cell_type": "code",
   "execution_count": 34,
   "metadata": {},
   "outputs": [],
   "source": [
    "content_recommender = ContentBasedRecommender(similarity_searcher)\n",
    "recommendations = content_recommender.recommend_similar_games(user_ratings, 20)"
   ]
  },
  {
   "cell_type": "code",
   "execution_count": 35,
   "metadata": {},
   "outputs": [
    {
     "data": {
      "text/plain": [
       "s.t.a.l.k.e.r. shadow of chernobyl    4.941942\n",
       "s.t.a.l.k.e.r. call of pripyat        4.675357\n",
       "s.t.a.l.k.e.r. clear sky              4.500000\n",
       "time ramesside a new reckoning        4.074589\n",
       "metro last light redux                4.033220\n",
       "metro 2033 redux                      3.429458\n",
       "dayz                                  3.402438\n",
       "nosferatu the wrath of malachi        2.664278\n",
       "dtype: float64"
      ]
     },
     "execution_count": 35,
     "metadata": {},
     "output_type": "execute_result"
    }
   ],
   "source": [
    "recommendations"
   ]
  },
  {
   "cell_type": "code",
   "execution_count": 36,
   "metadata": {},
   "outputs": [
    {
     "data": {
      "text/plain": [
       "mean\n",
       "s.t.a.l.k.e.r. clear sky              4.824548\n",
       "s.t.a.l.k.e.r. call of pripyat        4.744342\n",
       "s.t.a.l.k.e.r. shadow of chernobyl    4.611952\n",
       "metro last light redux                3.643827\n",
       "metro 2033 redux                      3.563677\n",
       "dtype: float64"
      ]
     },
     "execution_count": 36,
     "metadata": {},
     "output_type": "execute_result"
    }
   ],
   "source": [
    "recommendations = content_recommender.recommend_mean_similar_games(user_ratings, 20)\n",
    "recommendations"
   ]
  },
  {
   "cell_type": "markdown",
   "metadata": {},
   "source": [
    "# Visualizing similar games with UMAP"
   ]
  },
  {
   "cell_type": "code",
   "execution_count": 105,
   "metadata": {},
   "outputs": [
    {
     "ename": "KeyboardInterrupt",
     "evalue": "",
     "output_type": "error",
     "traceback": [
      "\u001b[0;31m---------------------------------------------------------------------------\u001b[0m",
      "\u001b[0;31mKeyboardInterrupt\u001b[0m                         Traceback (most recent call last)",
      "\u001b[0;32m<timed exec>\u001b[0m in \u001b[0;36m<module>\u001b[0;34m\u001b[0m\n",
      "\u001b[0;32m/etc/conda/envs/ml/lib/python3.7/site-packages/umap/umap_.py\u001b[0m in \u001b[0;36mfit_transform\u001b[0;34m(self, X, y)\u001b[0m\n\u001b[1;32m   1966\u001b[0m             \u001b[0mEmbedding\u001b[0m \u001b[0mof\u001b[0m \u001b[0mthe\u001b[0m \u001b[0mtraining\u001b[0m \u001b[0mdata\u001b[0m \u001b[0;32min\u001b[0m \u001b[0mlow\u001b[0m\u001b[0;34m-\u001b[0m\u001b[0mdimensional\u001b[0m \u001b[0mspace\u001b[0m\u001b[0;34m.\u001b[0m\u001b[0;34m\u001b[0m\u001b[0;34m\u001b[0m\u001b[0m\n\u001b[1;32m   1967\u001b[0m         \"\"\"\n\u001b[0;32m-> 1968\u001b[0;31m         \u001b[0mself\u001b[0m\u001b[0;34m.\u001b[0m\u001b[0mfit\u001b[0m\u001b[0;34m(\u001b[0m\u001b[0mX\u001b[0m\u001b[0;34m,\u001b[0m \u001b[0my\u001b[0m\u001b[0;34m)\u001b[0m\u001b[0;34m\u001b[0m\u001b[0;34m\u001b[0m\u001b[0m\n\u001b[0m\u001b[1;32m   1969\u001b[0m         \u001b[0;32mreturn\u001b[0m \u001b[0mself\u001b[0m\u001b[0;34m.\u001b[0m\u001b[0membedding_\u001b[0m\u001b[0;34m\u001b[0m\u001b[0;34m\u001b[0m\u001b[0m\n\u001b[1;32m   1970\u001b[0m \u001b[0;34m\u001b[0m\u001b[0m\n",
      "\u001b[0;32m/etc/conda/envs/ml/lib/python3.7/site-packages/umap/umap_.py\u001b[0m in \u001b[0;36mfit\u001b[0;34m(self, X, y)\u001b[0m\n\u001b[1;32m   1755\u001b[0m                 \u001b[0mself\u001b[0m\u001b[0;34m.\u001b[0m\u001b[0mlow_memory\u001b[0m\u001b[0;34m,\u001b[0m\u001b[0;34m\u001b[0m\u001b[0;34m\u001b[0m\u001b[0m\n\u001b[1;32m   1756\u001b[0m                 \u001b[0muse_pynndescent\u001b[0m\u001b[0;34m=\u001b[0m\u001b[0;32mTrue\u001b[0m\u001b[0;34m,\u001b[0m\u001b[0;34m\u001b[0m\u001b[0;34m\u001b[0m\u001b[0m\n\u001b[0;32m-> 1757\u001b[0;31m                 \u001b[0mverbose\u001b[0m\u001b[0;34m=\u001b[0m\u001b[0mself\u001b[0m\u001b[0;34m.\u001b[0m\u001b[0mverbose\u001b[0m\u001b[0;34m,\u001b[0m\u001b[0;34m\u001b[0m\u001b[0;34m\u001b[0m\u001b[0m\n\u001b[0m\u001b[1;32m   1758\u001b[0m             )\n\u001b[1;32m   1759\u001b[0m \u001b[0;34m\u001b[0m\u001b[0m\n",
      "\u001b[0;32m/etc/conda/envs/ml/lib/python3.7/site-packages/umap/umap_.py\u001b[0m in \u001b[0;36mnearest_neighbors\u001b[0;34m(X, n_neighbors, metric, metric_kwds, angular, random_state, low_memory, use_pynndescent, verbose)\u001b[0m\n\u001b[1;32m    343\u001b[0m                     \u001b[0mprint\u001b[0m\u001b[0;34m(\u001b[0m\u001b[0mts\u001b[0m\u001b[0;34m(\u001b[0m\u001b[0;34m)\u001b[0m\u001b[0;34m,\u001b[0m \u001b[0;34m\"Building RP forest with\"\u001b[0m\u001b[0;34m,\u001b[0m \u001b[0mstr\u001b[0m\u001b[0;34m(\u001b[0m\u001b[0mn_trees\u001b[0m\u001b[0;34m)\u001b[0m\u001b[0;34m,\u001b[0m \u001b[0;34m\"trees\"\u001b[0m\u001b[0;34m)\u001b[0m\u001b[0;34m\u001b[0m\u001b[0;34m\u001b[0m\u001b[0m\n\u001b[1;32m    344\u001b[0m \u001b[0;34m\u001b[0m\u001b[0m\n\u001b[0;32m--> 345\u001b[0;31m                 \u001b[0mrp_forest\u001b[0m \u001b[0;34m=\u001b[0m \u001b[0mmake_forest\u001b[0m\u001b[0;34m(\u001b[0m\u001b[0mX\u001b[0m\u001b[0;34m,\u001b[0m \u001b[0mn_neighbors\u001b[0m\u001b[0;34m,\u001b[0m \u001b[0mn_trees\u001b[0m\u001b[0;34m,\u001b[0m \u001b[0mrng_state\u001b[0m\u001b[0;34m,\u001b[0m \u001b[0mangular\u001b[0m\u001b[0;34m)\u001b[0m\u001b[0;34m\u001b[0m\u001b[0;34m\u001b[0m\u001b[0m\n\u001b[0m\u001b[1;32m    346\u001b[0m                 \u001b[0mleaf_array\u001b[0m \u001b[0;34m=\u001b[0m \u001b[0mrptree_leaf_array\u001b[0m\u001b[0;34m(\u001b[0m\u001b[0mrp_forest\u001b[0m\u001b[0;34m)\u001b[0m\u001b[0;34m\u001b[0m\u001b[0;34m\u001b[0m\u001b[0m\n\u001b[1;32m    347\u001b[0m \u001b[0;34m\u001b[0m\u001b[0m\n",
      "\u001b[0;32m/etc/conda/envs/ml/lib/python3.7/site-packages/umap/rp_tree.py\u001b[0m in \u001b[0;36mmake_forest\u001b[0;34m(data, n_neighbors, n_trees, rng_state, angular)\u001b[0m\n\u001b[1;32m    772\u001b[0m         result = [\n\u001b[1;32m    773\u001b[0m             \u001b[0mflatten_tree\u001b[0m\u001b[0;34m(\u001b[0m\u001b[0mmake_tree\u001b[0m\u001b[0;34m(\u001b[0m\u001b[0mdata\u001b[0m\u001b[0;34m,\u001b[0m \u001b[0mrng_state\u001b[0m\u001b[0;34m,\u001b[0m \u001b[0mleaf_size\u001b[0m\u001b[0;34m,\u001b[0m \u001b[0mangular\u001b[0m\u001b[0;34m)\u001b[0m\u001b[0;34m,\u001b[0m \u001b[0mleaf_size\u001b[0m\u001b[0;34m)\u001b[0m\u001b[0;34m\u001b[0m\u001b[0;34m\u001b[0m\u001b[0m\n\u001b[0;32m--> 774\u001b[0;31m             \u001b[0;32mfor\u001b[0m \u001b[0mi\u001b[0m \u001b[0;32min\u001b[0m \u001b[0mrange\u001b[0m\u001b[0;34m(\u001b[0m\u001b[0mn_trees\u001b[0m\u001b[0;34m)\u001b[0m\u001b[0;34m\u001b[0m\u001b[0;34m\u001b[0m\u001b[0m\n\u001b[0m\u001b[1;32m    775\u001b[0m         ]\n\u001b[1;32m    776\u001b[0m     \u001b[0;32mexcept\u001b[0m \u001b[0;34m(\u001b[0m\u001b[0mRuntimeError\u001b[0m\u001b[0;34m,\u001b[0m \u001b[0mRecursionError\u001b[0m\u001b[0;34m,\u001b[0m \u001b[0mSystemError\u001b[0m\u001b[0;34m)\u001b[0m\u001b[0;34m:\u001b[0m\u001b[0;34m\u001b[0m\u001b[0;34m\u001b[0m\u001b[0m\n",
      "\u001b[0;32m/etc/conda/envs/ml/lib/python3.7/site-packages/umap/rp_tree.py\u001b[0m in \u001b[0;36m<listcomp>\u001b[0;34m(.0)\u001b[0m\n\u001b[1;32m    772\u001b[0m         result = [\n\u001b[1;32m    773\u001b[0m             \u001b[0mflatten_tree\u001b[0m\u001b[0;34m(\u001b[0m\u001b[0mmake_tree\u001b[0m\u001b[0;34m(\u001b[0m\u001b[0mdata\u001b[0m\u001b[0;34m,\u001b[0m \u001b[0mrng_state\u001b[0m\u001b[0;34m,\u001b[0m \u001b[0mleaf_size\u001b[0m\u001b[0;34m,\u001b[0m \u001b[0mangular\u001b[0m\u001b[0;34m)\u001b[0m\u001b[0;34m,\u001b[0m \u001b[0mleaf_size\u001b[0m\u001b[0;34m)\u001b[0m\u001b[0;34m\u001b[0m\u001b[0;34m\u001b[0m\u001b[0m\n\u001b[0;32m--> 774\u001b[0;31m             \u001b[0;32mfor\u001b[0m \u001b[0mi\u001b[0m \u001b[0;32min\u001b[0m \u001b[0mrange\u001b[0m\u001b[0;34m(\u001b[0m\u001b[0mn_trees\u001b[0m\u001b[0;34m)\u001b[0m\u001b[0;34m\u001b[0m\u001b[0;34m\u001b[0m\u001b[0m\n\u001b[0m\u001b[1;32m    775\u001b[0m         ]\n\u001b[1;32m    776\u001b[0m     \u001b[0;32mexcept\u001b[0m \u001b[0;34m(\u001b[0m\u001b[0mRuntimeError\u001b[0m\u001b[0;34m,\u001b[0m \u001b[0mRecursionError\u001b[0m\u001b[0;34m,\u001b[0m \u001b[0mSystemError\u001b[0m\u001b[0;34m)\u001b[0m\u001b[0;34m:\u001b[0m\u001b[0;34m\u001b[0m\u001b[0;34m\u001b[0m\u001b[0m\n",
      "\u001b[0;32m/etc/conda/envs/ml/lib/python3.7/site-packages/umap/rp_tree.py\u001b[0m in \u001b[0;36mmake_tree\u001b[0;34m(data, rng_state, leaf_size, angular)\u001b[0m\n\u001b[1;32m    577\u001b[0m         \u001b[0;32mif\u001b[0m \u001b[0mangular\u001b[0m\u001b[0;34m:\u001b[0m\u001b[0;34m\u001b[0m\u001b[0;34m\u001b[0m\u001b[0m\n\u001b[1;32m    578\u001b[0m             return make_sparse_angular_tree(\n\u001b[0;32m--> 579\u001b[0;31m                 \u001b[0minds\u001b[0m\u001b[0;34m,\u001b[0m \u001b[0mindptr\u001b[0m\u001b[0;34m,\u001b[0m \u001b[0mspdata\u001b[0m\u001b[0;34m,\u001b[0m \u001b[0mindices\u001b[0m\u001b[0;34m,\u001b[0m \u001b[0mrng_state\u001b[0m\u001b[0;34m,\u001b[0m \u001b[0mleaf_size\u001b[0m\u001b[0;34m\u001b[0m\u001b[0;34m\u001b[0m\u001b[0m\n\u001b[0m\u001b[1;32m    580\u001b[0m             )\n\u001b[1;32m    581\u001b[0m         \u001b[0;32melse\u001b[0m\u001b[0;34m:\u001b[0m\u001b[0;34m\u001b[0m\u001b[0;34m\u001b[0m\u001b[0m\n",
      "\u001b[0;32m/etc/conda/envs/ml/lib/python3.7/site-packages/umap/rp_tree.py\u001b[0m in \u001b[0;36mmake_sparse_angular_tree\u001b[0;34m(inds, indptr, data, indices, rng_state, leaf_size)\u001b[0m\n\u001b[1;32m    529\u001b[0m \u001b[0;34m\u001b[0m\u001b[0m\n\u001b[1;32m    530\u001b[0m         left_node = make_sparse_angular_tree(\n\u001b[0;32m--> 531\u001b[0;31m             \u001b[0minds\u001b[0m\u001b[0;34m,\u001b[0m \u001b[0mindptr\u001b[0m\u001b[0;34m,\u001b[0m \u001b[0mdata\u001b[0m\u001b[0;34m,\u001b[0m \u001b[0mleft_indices\u001b[0m\u001b[0;34m,\u001b[0m \u001b[0mrng_state\u001b[0m\u001b[0;34m,\u001b[0m \u001b[0mleaf_size\u001b[0m\u001b[0;34m\u001b[0m\u001b[0;34m\u001b[0m\u001b[0m\n\u001b[0m\u001b[1;32m    532\u001b[0m         )\n\u001b[1;32m    533\u001b[0m         right_node = make_sparse_angular_tree(\n",
      "\u001b[0;32m/etc/conda/envs/ml/lib/python3.7/site-packages/umap/rp_tree.py\u001b[0m in \u001b[0;36mmake_sparse_angular_tree\u001b[0;34m(inds, indptr, data, indices, rng_state, leaf_size)\u001b[0m\n\u001b[1;32m    529\u001b[0m \u001b[0;34m\u001b[0m\u001b[0m\n\u001b[1;32m    530\u001b[0m         left_node = make_sparse_angular_tree(\n\u001b[0;32m--> 531\u001b[0;31m             \u001b[0minds\u001b[0m\u001b[0;34m,\u001b[0m \u001b[0mindptr\u001b[0m\u001b[0;34m,\u001b[0m \u001b[0mdata\u001b[0m\u001b[0;34m,\u001b[0m \u001b[0mleft_indices\u001b[0m\u001b[0;34m,\u001b[0m \u001b[0mrng_state\u001b[0m\u001b[0;34m,\u001b[0m \u001b[0mleaf_size\u001b[0m\u001b[0;34m\u001b[0m\u001b[0;34m\u001b[0m\u001b[0m\n\u001b[0m\u001b[1;32m    532\u001b[0m         )\n\u001b[1;32m    533\u001b[0m         right_node = make_sparse_angular_tree(\n",
      "\u001b[0;32m/etc/conda/envs/ml/lib/python3.7/site-packages/umap/rp_tree.py\u001b[0m in \u001b[0;36mmake_sparse_angular_tree\u001b[0;34m(inds, indptr, data, indices, rng_state, leaf_size)\u001b[0m\n\u001b[1;32m    529\u001b[0m \u001b[0;34m\u001b[0m\u001b[0m\n\u001b[1;32m    530\u001b[0m         left_node = make_sparse_angular_tree(\n\u001b[0;32m--> 531\u001b[0;31m             \u001b[0minds\u001b[0m\u001b[0;34m,\u001b[0m \u001b[0mindptr\u001b[0m\u001b[0;34m,\u001b[0m \u001b[0mdata\u001b[0m\u001b[0;34m,\u001b[0m \u001b[0mleft_indices\u001b[0m\u001b[0;34m,\u001b[0m \u001b[0mrng_state\u001b[0m\u001b[0;34m,\u001b[0m \u001b[0mleaf_size\u001b[0m\u001b[0;34m\u001b[0m\u001b[0;34m\u001b[0m\u001b[0m\n\u001b[0m\u001b[1;32m    532\u001b[0m         )\n\u001b[1;32m    533\u001b[0m         right_node = make_sparse_angular_tree(\n",
      "\u001b[0;32m/etc/conda/envs/ml/lib/python3.7/site-packages/umap/rp_tree.py\u001b[0m in \u001b[0;36mmake_sparse_angular_tree\u001b[0;34m(inds, indptr, data, indices, rng_state, leaf_size)\u001b[0m\n\u001b[1;32m    529\u001b[0m \u001b[0;34m\u001b[0m\u001b[0m\n\u001b[1;32m    530\u001b[0m         left_node = make_sparse_angular_tree(\n\u001b[0;32m--> 531\u001b[0;31m             \u001b[0minds\u001b[0m\u001b[0;34m,\u001b[0m \u001b[0mindptr\u001b[0m\u001b[0;34m,\u001b[0m \u001b[0mdata\u001b[0m\u001b[0;34m,\u001b[0m \u001b[0mleft_indices\u001b[0m\u001b[0;34m,\u001b[0m \u001b[0mrng_state\u001b[0m\u001b[0;34m,\u001b[0m \u001b[0mleaf_size\u001b[0m\u001b[0;34m\u001b[0m\u001b[0;34m\u001b[0m\u001b[0m\n\u001b[0m\u001b[1;32m    532\u001b[0m         )\n\u001b[1;32m    533\u001b[0m         right_node = make_sparse_angular_tree(\n",
      "\u001b[0;32m/etc/conda/envs/ml/lib/python3.7/site-packages/umap/rp_tree.py\u001b[0m in \u001b[0;36mmake_sparse_angular_tree\u001b[0;34m(inds, indptr, data, indices, rng_state, leaf_size)\u001b[0m\n\u001b[1;32m    529\u001b[0m \u001b[0;34m\u001b[0m\u001b[0m\n\u001b[1;32m    530\u001b[0m         left_node = make_sparse_angular_tree(\n\u001b[0;32m--> 531\u001b[0;31m             \u001b[0minds\u001b[0m\u001b[0;34m,\u001b[0m \u001b[0mindptr\u001b[0m\u001b[0;34m,\u001b[0m \u001b[0mdata\u001b[0m\u001b[0;34m,\u001b[0m \u001b[0mleft_indices\u001b[0m\u001b[0;34m,\u001b[0m \u001b[0mrng_state\u001b[0m\u001b[0;34m,\u001b[0m \u001b[0mleaf_size\u001b[0m\u001b[0;34m\u001b[0m\u001b[0;34m\u001b[0m\u001b[0m\n\u001b[0m\u001b[1;32m    532\u001b[0m         )\n\u001b[1;32m    533\u001b[0m         right_node = make_sparse_angular_tree(\n",
      "\u001b[0;32m/etc/conda/envs/ml/lib/python3.7/site-packages/umap/rp_tree.py\u001b[0m in \u001b[0;36mmake_sparse_angular_tree\u001b[0;34m(inds, indptr, data, indices, rng_state, leaf_size)\u001b[0m\n\u001b[1;32m    529\u001b[0m \u001b[0;34m\u001b[0m\u001b[0m\n\u001b[1;32m    530\u001b[0m         left_node = make_sparse_angular_tree(\n\u001b[0;32m--> 531\u001b[0;31m             \u001b[0minds\u001b[0m\u001b[0;34m,\u001b[0m \u001b[0mindptr\u001b[0m\u001b[0;34m,\u001b[0m \u001b[0mdata\u001b[0m\u001b[0;34m,\u001b[0m \u001b[0mleft_indices\u001b[0m\u001b[0;34m,\u001b[0m \u001b[0mrng_state\u001b[0m\u001b[0;34m,\u001b[0m \u001b[0mleaf_size\u001b[0m\u001b[0;34m\u001b[0m\u001b[0;34m\u001b[0m\u001b[0m\n\u001b[0m\u001b[1;32m    532\u001b[0m         )\n\u001b[1;32m    533\u001b[0m         right_node = make_sparse_angular_tree(\n",
      "\u001b[0;32m/etc/conda/envs/ml/lib/python3.7/site-packages/umap/rp_tree.py\u001b[0m in \u001b[0;36mmake_sparse_angular_tree\u001b[0;34m(inds, indptr, data, indices, rng_state, leaf_size)\u001b[0m\n\u001b[1;32m    529\u001b[0m \u001b[0;34m\u001b[0m\u001b[0m\n\u001b[1;32m    530\u001b[0m         left_node = make_sparse_angular_tree(\n\u001b[0;32m--> 531\u001b[0;31m             \u001b[0minds\u001b[0m\u001b[0;34m,\u001b[0m \u001b[0mindptr\u001b[0m\u001b[0;34m,\u001b[0m \u001b[0mdata\u001b[0m\u001b[0;34m,\u001b[0m \u001b[0mleft_indices\u001b[0m\u001b[0;34m,\u001b[0m \u001b[0mrng_state\u001b[0m\u001b[0;34m,\u001b[0m \u001b[0mleaf_size\u001b[0m\u001b[0;34m\u001b[0m\u001b[0;34m\u001b[0m\u001b[0m\n\u001b[0m\u001b[1;32m    532\u001b[0m         )\n\u001b[1;32m    533\u001b[0m         right_node = make_sparse_angular_tree(\n",
      "\u001b[0;32m/etc/conda/envs/ml/lib/python3.7/site-packages/umap/rp_tree.py\u001b[0m in \u001b[0;36mmake_sparse_angular_tree\u001b[0;34m(inds, indptr, data, indices, rng_state, leaf_size)\u001b[0m\n\u001b[1;32m    532\u001b[0m         )\n\u001b[1;32m    533\u001b[0m         right_node = make_sparse_angular_tree(\n\u001b[0;32m--> 534\u001b[0;31m             \u001b[0minds\u001b[0m\u001b[0;34m,\u001b[0m \u001b[0mindptr\u001b[0m\u001b[0;34m,\u001b[0m \u001b[0mdata\u001b[0m\u001b[0;34m,\u001b[0m \u001b[0mright_indices\u001b[0m\u001b[0;34m,\u001b[0m \u001b[0mrng_state\u001b[0m\u001b[0;34m,\u001b[0m \u001b[0mleaf_size\u001b[0m\u001b[0;34m\u001b[0m\u001b[0;34m\u001b[0m\u001b[0m\n\u001b[0m\u001b[1;32m    535\u001b[0m         )\n\u001b[1;32m    536\u001b[0m \u001b[0;34m\u001b[0m\u001b[0m\n",
      "\u001b[0;32m/etc/conda/envs/ml/lib/python3.7/site-packages/umap/rp_tree.py\u001b[0m in \u001b[0;36mmake_sparse_angular_tree\u001b[0;34m(inds, indptr, data, indices, rng_state, leaf_size)\u001b[0m\n\u001b[1;32m    532\u001b[0m         )\n\u001b[1;32m    533\u001b[0m         right_node = make_sparse_angular_tree(\n\u001b[0;32m--> 534\u001b[0;31m             \u001b[0minds\u001b[0m\u001b[0;34m,\u001b[0m \u001b[0mindptr\u001b[0m\u001b[0;34m,\u001b[0m \u001b[0mdata\u001b[0m\u001b[0;34m,\u001b[0m \u001b[0mright_indices\u001b[0m\u001b[0;34m,\u001b[0m \u001b[0mrng_state\u001b[0m\u001b[0;34m,\u001b[0m \u001b[0mleaf_size\u001b[0m\u001b[0;34m\u001b[0m\u001b[0;34m\u001b[0m\u001b[0m\n\u001b[0m\u001b[1;32m    535\u001b[0m         )\n\u001b[1;32m    536\u001b[0m \u001b[0;34m\u001b[0m\u001b[0m\n",
      "\u001b[0;32m/etc/conda/envs/ml/lib/python3.7/site-packages/umap/rp_tree.py\u001b[0m in \u001b[0;36mmake_sparse_angular_tree\u001b[0;34m(inds, indptr, data, indices, rng_state, leaf_size)\u001b[0m\n\u001b[1;32m    529\u001b[0m \u001b[0;34m\u001b[0m\u001b[0m\n\u001b[1;32m    530\u001b[0m         left_node = make_sparse_angular_tree(\n\u001b[0;32m--> 531\u001b[0;31m             \u001b[0minds\u001b[0m\u001b[0;34m,\u001b[0m \u001b[0mindptr\u001b[0m\u001b[0;34m,\u001b[0m \u001b[0mdata\u001b[0m\u001b[0;34m,\u001b[0m \u001b[0mleft_indices\u001b[0m\u001b[0;34m,\u001b[0m \u001b[0mrng_state\u001b[0m\u001b[0;34m,\u001b[0m \u001b[0mleaf_size\u001b[0m\u001b[0;34m\u001b[0m\u001b[0;34m\u001b[0m\u001b[0m\n\u001b[0m\u001b[1;32m    532\u001b[0m         )\n\u001b[1;32m    533\u001b[0m         right_node = make_sparse_angular_tree(\n",
      "\u001b[0;32m/etc/conda/envs/ml/lib/python3.7/site-packages/umap/rp_tree.py\u001b[0m in \u001b[0;36mmake_sparse_angular_tree\u001b[0;34m(inds, indptr, data, indices, rng_state, leaf_size)\u001b[0m\n\u001b[1;32m    532\u001b[0m         )\n\u001b[1;32m    533\u001b[0m         right_node = make_sparse_angular_tree(\n\u001b[0;32m--> 534\u001b[0;31m             \u001b[0minds\u001b[0m\u001b[0;34m,\u001b[0m \u001b[0mindptr\u001b[0m\u001b[0;34m,\u001b[0m \u001b[0mdata\u001b[0m\u001b[0;34m,\u001b[0m \u001b[0mright_indices\u001b[0m\u001b[0;34m,\u001b[0m \u001b[0mrng_state\u001b[0m\u001b[0;34m,\u001b[0m \u001b[0mleaf_size\u001b[0m\u001b[0;34m\u001b[0m\u001b[0;34m\u001b[0m\u001b[0m\n\u001b[0m\u001b[1;32m    535\u001b[0m         )\n\u001b[1;32m    536\u001b[0m \u001b[0;34m\u001b[0m\u001b[0m\n",
      "\u001b[0;32m/etc/conda/envs/ml/lib/python3.7/site-packages/umap/rp_tree.py\u001b[0m in \u001b[0;36mmake_sparse_angular_tree\u001b[0;34m(inds, indptr, data, indices, rng_state, leaf_size)\u001b[0m\n\u001b[1;32m    532\u001b[0m         )\n\u001b[1;32m    533\u001b[0m         right_node = make_sparse_angular_tree(\n\u001b[0;32m--> 534\u001b[0;31m             \u001b[0minds\u001b[0m\u001b[0;34m,\u001b[0m \u001b[0mindptr\u001b[0m\u001b[0;34m,\u001b[0m \u001b[0mdata\u001b[0m\u001b[0;34m,\u001b[0m \u001b[0mright_indices\u001b[0m\u001b[0;34m,\u001b[0m \u001b[0mrng_state\u001b[0m\u001b[0;34m,\u001b[0m \u001b[0mleaf_size\u001b[0m\u001b[0;34m\u001b[0m\u001b[0;34m\u001b[0m\u001b[0m\n\u001b[0m\u001b[1;32m    535\u001b[0m         )\n\u001b[1;32m    536\u001b[0m \u001b[0;34m\u001b[0m\u001b[0m\n",
      "\u001b[0;32m/etc/conda/envs/ml/lib/python3.7/site-packages/umap/rp_tree.py\u001b[0m in \u001b[0;36mmake_sparse_angular_tree\u001b[0;34m(inds, indptr, data, indices, rng_state, leaf_size)\u001b[0m\n\u001b[1;32m    525\u001b[0m             \u001b[0moffset\u001b[0m\u001b[0;34m,\u001b[0m\u001b[0;34m\u001b[0m\u001b[0;34m\u001b[0m\u001b[0m\n\u001b[1;32m    526\u001b[0m         \u001b[0;34m)\u001b[0m \u001b[0;34m=\u001b[0m \u001b[0msparse_angular_random_projection_split\u001b[0m\u001b[0;34m(\u001b[0m\u001b[0;34m\u001b[0m\u001b[0;34m\u001b[0m\u001b[0m\n\u001b[0;32m--> 527\u001b[0;31m             \u001b[0minds\u001b[0m\u001b[0;34m,\u001b[0m \u001b[0mindptr\u001b[0m\u001b[0;34m,\u001b[0m \u001b[0mdata\u001b[0m\u001b[0;34m,\u001b[0m \u001b[0mindices\u001b[0m\u001b[0;34m,\u001b[0m \u001b[0mrng_state\u001b[0m\u001b[0;34m\u001b[0m\u001b[0;34m\u001b[0m\u001b[0m\n\u001b[0m\u001b[1;32m    528\u001b[0m         )\n\u001b[1;32m    529\u001b[0m \u001b[0;34m\u001b[0m\u001b[0m\n",
      "\u001b[0;31mKeyboardInterrupt\u001b[0m: "
     ]
    }
   ],
   "source": [
    "%%time\n",
    "umapper = umap.UMAP(\n",
    "    random_state=0,\n",
    "    n_neighbors=15,\n",
    "    n_components=2,\n",
    "    metric='cosine')\n",
    "viz_data = umapper.fit_transform(steam_metadata_vectors)"
   ]
  },
  {
   "cell_type": "code",
   "execution_count": null,
   "metadata": {},
   "outputs": [],
   "source": [
    "viz_df = pd.DataFrame({\n",
    "    'X': viz_data[:,0],\n",
    "    'Y': viz_data[:,1],\n",
    "    'name': steam_df['name'],\n",
    "    'is_similar': steam_df['name'].isin(recommended_games)\n",
    "})\n",
    "\n",
    "\n",
    "altair.data_transformers.disable_max_rows()\n",
    "\n",
    "\n",
    "similar_points_altair_scatterplot = (\n",
    "    altair.Chart(viz_df[viz_df['is_similar']])\n",
    "        .mark_circle(size=100, color='red', opacity=1.0)\n",
    "        .encode(x='X', y='Y', tooltip=['name'])\n",
    "        .interactive()\n",
    ")\n",
    "\n",
    "not_similar_points_altair_scatterplot = (\n",
    "    altair.Chart(viz_df[~viz_df['is_similar']])\n",
    "        .mark_circle(size=10, color='blue', opacity=0.2)\n",
    "        .encode(x='X', y='Y', tooltip=['name'])\n",
    "        .interactive()\n",
    ")\n",
    "\n",
    "\n",
    "similar_points_altair_scatterplot + not_similar_points_altair_scatterplot"
   ]
  },
  {
   "cell_type": "code",
   "execution_count": null,
   "metadata": {},
   "outputs": [],
   "source": [
    "# persisting stuff for streamlit\n",
    "pd.DataFrame(viz_df).to_csv('data/steam_metadata_umap_vectors.csv.gz', index=False)\n",
    "pd.DataFrame(steam_df).to_csv('data/steam_games.csv.gz', index=False)\n",
    "pd.DataFrame(steam_metadata_reduced_vectors.astype('float16')).to_csv('data/steam_metadata_reduced_vectors.csv.gz', index=False)"
   ]
  }
 ],
 "metadata": {
  "kernelspec": {
   "display_name": "ml",
   "language": "python",
   "name": "ml"
  },
  "language_info": {
   "codemirror_mode": {
    "name": "ipython",
    "version": 3
   },
   "file_extension": ".py",
   "mimetype": "text/x-python",
   "name": "python",
   "nbconvert_exporter": "python",
   "pygments_lexer": "ipython3",
   "version": "3.7.7"
  }
 },
 "nbformat": 4,
 "nbformat_minor": 4
}
