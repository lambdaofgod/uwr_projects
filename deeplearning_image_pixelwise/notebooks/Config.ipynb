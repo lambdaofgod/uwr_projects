{
 "cells": [
  {
   "cell_type": "code",
   "execution_count": null,
   "metadata": {},
   "outputs": [],
   "source": [
    "#default_exp config "
   ]
  },
  {
   "cell_type": "code",
   "execution_count": null,
   "metadata": {},
   "outputs": [],
   "source": [
    "#export\n",
    "import os\n",
    "\n",
    "\n",
    "DATA_DIR = 'data'\n",
    "TRAIN_DIR = os.path.join(DATA_DIR, 'images', 'train2017')\n",
    "TRAIN_MASK_DIR = os.path.join(DATA_DIR, 'masks', 'train2017')\n",
    "VAL_DIR = os.path.join(DATA_DIR, 'images', 'val2017')\n",
    "VAL_MASK_DIR = os.path.join(DATA_DIR, 'masks', 'val2017')\n",
    "\n",
    "\n",
    "N_CLASSES = 184 \n",
    "BATCH_SIZE = 4 \n",
    "IMG_HEIGHT, IMG_WIDTH = 224, 224\n",
    "float_dtype = 'float16'"
   ]
  }
 ],
 "metadata": {
  "kernelspec": {
   "display_name": "ml",
   "language": "python",
   "name": "ml"
  },
  "language_info": {
   "codemirror_mode": {
    "name": "ipython",
    "version": 3
   },
   "file_extension": ".py",
   "mimetype": "text/x-python",
   "name": "python",
   "nbconvert_exporter": "python",
   "pygments_lexer": "ipython3",
   "version": "3.7.7"
  }
 },
 "nbformat": 4,
 "nbformat_minor": 4
}
